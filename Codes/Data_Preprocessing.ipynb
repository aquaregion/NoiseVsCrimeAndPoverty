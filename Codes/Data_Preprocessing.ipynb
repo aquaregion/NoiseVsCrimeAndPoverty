{
 "cells": [
  {
   "cell_type": "markdown",
   "metadata": {},
   "source": [
    "A lot of data preprocessing here."
   ]
  },
  {
   "cell_type": "code",
   "execution_count": 1,
   "metadata": {
    "collapsed": false
   },
   "outputs": [],
   "source": [
    "import pandas as pd\n",
    "import numpy as np\n",
    "from scipy import stats\n",
    "import seaborn as sns\n",
    "%matplotlib inline"
   ]
  },
  {
   "cell_type": "code",
   "execution_count": 2,
   "metadata": {
    "collapsed": false
   },
   "outputs": [],
   "source": [
    "data = pd.read_csv( \"/Users/YuchenZheng/Desktop/Data Science/Data Mining/final project/new.csv\",sep = '\\t')"
   ]
  },
  {
   "cell_type": "code",
   "execution_count": 3,
   "metadata": {
    "collapsed": true
   },
   "outputs": [],
   "source": [
    "violence = pd.read_csv(\"/Users/YuchenZheng/Desktop/Data Science/Data Mining/final project/violencenew.csv\", sep = '\\t')"
   ]
  },
  {
   "cell_type": "code",
   "execution_count": 4,
   "metadata": {
    "collapsed": false
   },
   "outputs": [],
   "source": [
    "violence = violence.drop(['Unnamed: 0'], 1)"
   ]
  },
  {
   "cell_type": "code",
   "execution_count": 5,
   "metadata": {
    "collapsed": true
   },
   "outputs": [],
   "source": [
    "violence.columns = ['Precinct', 'Violence Crime', 'V2010', 'V2011', 'V2012', 'V2013', 'V2014', 'V2015']"
   ]
  },
  {
   "cell_type": "code",
   "execution_count": 6,
   "metadata": {
    "collapsed": false
   },
   "outputs": [],
   "source": [
    "violence['Violence Crime'] = violence['Violence Crime'].str.replace('HARASSMENT 2                          ','HARASSMENT 2')"
   ]
  },
  {
   "cell_type": "code",
   "execution_count": 7,
   "metadata": {
    "collapsed": true
   },
   "outputs": [],
   "source": [
    "test_df1 = pd.read_csv(\"/Users/YuchenZheng/Desktop/nycx.csv\", sep = ',')"
   ]
  },
  {
   "cell_type": "code",
   "execution_count": 8,
   "metadata": {
    "collapsed": false
   },
   "outputs": [],
   "source": [
    "test_df1 = test_df1.drop(['Unnamed: 2','Manhattan Precincts', 'Unnamed: 4', 'Unnamed: 5', 'Unnamed: 6', 'Unnamed: 7'], axis=1)"
   ]
  },
  {
   "cell_type": "code",
   "execution_count": 9,
   "metadata": {
    "collapsed": false
   },
   "outputs": [],
   "source": [
    "test_df1 = test_df1.dropna()"
   ]
  },
  {
   "cell_type": "code",
   "execution_count": 10,
   "metadata": {
    "collapsed": false
   },
   "outputs": [
    {
     "name": "stderr",
     "output_type": "stream",
     "text": [
      "/Users/YuchenZheng/anaconda/lib/python3.5/site-packages/pandas/indexes/base.py:1423: VisibleDeprecationWarning: using a non-integer number instead of an integer will result in an error in the future\n",
      "  return getitem(key)\n"
     ]
    }
   ],
   "source": [
    "test_df1 = test_df1.drop(test_df1.index['0'])"
   ]
  },
  {
   "cell_type": "code",
   "execution_count": 11,
   "metadata": {
    "collapsed": false
   },
   "outputs": [],
   "source": [
    "test_df1.columns = ['Precinct', 'Zip Code']"
   ]
  },
  {
   "cell_type": "code",
   "execution_count": 12,
   "metadata": {
    "collapsed": false
   },
   "outputs": [],
   "source": [
    "test_df2 = pd.read_csv(\"/Users/YuchenZheng/Desktop/zippp.csv\", sep = '\\t')"
   ]
  },
  {
   "cell_type": "code",
   "execution_count": 13,
   "metadata": {
    "collapsed": false
   },
   "outputs": [],
   "source": [
    "frames = [test_df1, test_df2]\n",
    "\n",
    "result_df = pd.concat(frames)"
   ]
  },
  {
   "cell_type": "code",
   "execution_count": 14,
   "metadata": {
    "collapsed": false
   },
   "outputs": [],
   "source": [
    "result_df = result_df.drop(['index'])"
   ]
  },
  {
   "cell_type": "code",
   "execution_count": 15,
   "metadata": {
    "collapsed": false
   },
   "outputs": [
    {
     "data": {
      "text/plain": [
       "(190, 2)"
      ]
     },
     "execution_count": 15,
     "metadata": {},
     "output_type": "execute_result"
    }
   ],
   "source": [
    "result_df.shape"
   ]
  },
  {
   "cell_type": "code",
   "execution_count": 16,
   "metadata": {
    "collapsed": false
   },
   "outputs": [],
   "source": [
    "data = data.rename(columns = {'Incident Zip':'Zip Code'})"
   ]
  },
  {
   "cell_type": "code",
   "execution_count": 17,
   "metadata": {
    "collapsed": true
   },
   "outputs": [],
   "source": [
    "result_df['Zip Code']=result_df['Zip Code'].astype(int)\n",
    "data['Zip Code']=data['Zip Code'].astype(int)"
   ]
  },
  {
   "cell_type": "code",
   "execution_count": 18,
   "metadata": {
    "collapsed": false
   },
   "outputs": [
    {
     "data": {
      "text/html": [
       "<div>\n",
       "<table border=\"1\" class=\"dataframe\">\n",
       "  <thead>\n",
       "    <tr style=\"text-align: right;\">\n",
       "      <th></th>\n",
       "      <th>Unnamed: 0</th>\n",
       "      <th>Created_Date</th>\n",
       "      <th>Complaint Type</th>\n",
       "      <th>Descriptor</th>\n",
       "      <th>Location Type</th>\n",
       "      <th>Zip Code</th>\n",
       "      <th>City</th>\n",
       "      <th>Borough</th>\n",
       "      <th>Latitude</th>\n",
       "      <th>Longitude</th>\n",
       "      <th>Location</th>\n",
       "    </tr>\n",
       "  </thead>\n",
       "  <tbody>\n",
       "    <tr>\n",
       "      <th>0</th>\n",
       "      <td>306158</td>\n",
       "      <td>2010-01-01 00:03:46</td>\n",
       "      <td>Noise - Residential</td>\n",
       "      <td>Loud Television</td>\n",
       "      <td>Residential Building/House</td>\n",
       "      <td>11230</td>\n",
       "      <td>BROOKLYN</td>\n",
       "      <td>BROOKLYN</td>\n",
       "      <td>40.612155</td>\n",
       "      <td>-73.955036</td>\n",
       "      <td>(40.61215458693758, -73.95503629769145)</td>\n",
       "    </tr>\n",
       "    <tr>\n",
       "      <th>1</th>\n",
       "      <td>306135</td>\n",
       "      <td>2010-01-01 00:08:02</td>\n",
       "      <td>Noise - Residential</td>\n",
       "      <td>Loud Music/Party</td>\n",
       "      <td>Residential Building/House</td>\n",
       "      <td>11220</td>\n",
       "      <td>BROOKLYN</td>\n",
       "      <td>BROOKLYN</td>\n",
       "      <td>40.635708</td>\n",
       "      <td>-74.006853</td>\n",
       "      <td>(40.635707991592696, -74.00685286309795)</td>\n",
       "    </tr>\n",
       "    <tr>\n",
       "      <th>2</th>\n",
       "      <td>306090</td>\n",
       "      <td>2010-01-01 00:08:29</td>\n",
       "      <td>Noise - Residential</td>\n",
       "      <td>Loud Music/Party</td>\n",
       "      <td>Residential Building/House</td>\n",
       "      <td>10036</td>\n",
       "      <td>NEW YORK</td>\n",
       "      <td>MANHATTAN</td>\n",
       "      <td>40.759486</td>\n",
       "      <td>-73.989135</td>\n",
       "      <td>(40.75948567983112, -73.98913488475046)</td>\n",
       "    </tr>\n",
       "    <tr>\n",
       "      <th>3</th>\n",
       "      <td>306120</td>\n",
       "      <td>2010-01-01 00:08:30</td>\n",
       "      <td>Noise - Residential</td>\n",
       "      <td>Loud Television</td>\n",
       "      <td>Residential Building/House</td>\n",
       "      <td>10303</td>\n",
       "      <td>STATEN ISLAND</td>\n",
       "      <td>STATEN ISLAND</td>\n",
       "      <td>40.634762</td>\n",
       "      <td>-74.169727</td>\n",
       "      <td>(40.63476223829681, -74.16972676202693)</td>\n",
       "    </tr>\n",
       "    <tr>\n",
       "      <th>4</th>\n",
       "      <td>306173</td>\n",
       "      <td>2010-01-01 00:15:08</td>\n",
       "      <td>Noise - Residential</td>\n",
       "      <td>Banging/Pounding</td>\n",
       "      <td>Residential Building/House</td>\n",
       "      <td>11355</td>\n",
       "      <td>FLUSHING</td>\n",
       "      <td>QUEENS</td>\n",
       "      <td>40.755060</td>\n",
       "      <td>-73.832251</td>\n",
       "      <td>(40.75506029183953, -73.83225149777755)</td>\n",
       "    </tr>\n",
       "  </tbody>\n",
       "</table>\n",
       "</div>"
      ],
      "text/plain": [
       "   Unnamed: 0         Created_Date       Complaint Type        Descriptor  \\\n",
       "0      306158  2010-01-01 00:03:46  Noise - Residential   Loud Television   \n",
       "1      306135  2010-01-01 00:08:02  Noise - Residential  Loud Music/Party   \n",
       "2      306090  2010-01-01 00:08:29  Noise - Residential  Loud Music/Party   \n",
       "3      306120  2010-01-01 00:08:30  Noise - Residential   Loud Television   \n",
       "4      306173  2010-01-01 00:15:08  Noise - Residential  Banging/Pounding   \n",
       "\n",
       "                Location Type  Zip Code           City        Borough  \\\n",
       "0  Residential Building/House     11230       BROOKLYN       BROOKLYN   \n",
       "1  Residential Building/House     11220       BROOKLYN       BROOKLYN   \n",
       "2  Residential Building/House     10036       NEW YORK      MANHATTAN   \n",
       "3  Residential Building/House     10303  STATEN ISLAND  STATEN ISLAND   \n",
       "4  Residential Building/House     11355       FLUSHING         QUEENS   \n",
       "\n",
       "    Latitude  Longitude                                  Location  \n",
       "0  40.612155 -73.955036   (40.61215458693758, -73.95503629769145)  \n",
       "1  40.635708 -74.006853  (40.635707991592696, -74.00685286309795)  \n",
       "2  40.759486 -73.989135   (40.75948567983112, -73.98913488475046)  \n",
       "3  40.634762 -74.169727   (40.63476223829681, -74.16972676202693)  \n",
       "4  40.755060 -73.832251   (40.75506029183953, -73.83225149777755)  "
      ]
     },
     "execution_count": 18,
     "metadata": {},
     "output_type": "execute_result"
    }
   ],
   "source": [
    "data.head()"
   ]
  },
  {
   "cell_type": "code",
   "execution_count": 19,
   "metadata": {
    "collapsed": false
   },
   "outputs": [
    {
     "data": {
      "text/plain": [
       "187"
      ]
     },
     "execution_count": 19,
     "metadata": {},
     "output_type": "execute_result"
    }
   ],
   "source": [
    "len(result_df['Zip Code'].unique())"
   ]
  },
  {
   "cell_type": "code",
   "execution_count": 20,
   "metadata": {
    "collapsed": false
   },
   "outputs": [],
   "source": [
    "result_df = result_df.reset_index(drop=True)"
   ]
  },
  {
   "cell_type": "code",
   "execution_count": 21,
   "metadata": {
    "collapsed": false
   },
   "outputs": [
    {
     "data": {
      "text/html": [
       "<div>\n",
       "<table border=\"1\" class=\"dataframe\">\n",
       "  <thead>\n",
       "    <tr style=\"text-align: right;\">\n",
       "      <th></th>\n",
       "      <th>Precinct</th>\n",
       "    </tr>\n",
       "    <tr>\n",
       "      <th>Zip Code</th>\n",
       "      <th></th>\n",
       "    </tr>\n",
       "  </thead>\n",
       "  <tbody>\n",
       "    <tr>\n",
       "      <th>10011</th>\n",
       "      <td>2</td>\n",
       "    </tr>\n",
       "    <tr>\n",
       "      <th>10013</th>\n",
       "      <td>2</td>\n",
       "    </tr>\n",
       "    <tr>\n",
       "      <th>10027</th>\n",
       "      <td>2</td>\n",
       "    </tr>\n",
       "  </tbody>\n",
       "</table>\n",
       "</div>"
      ],
      "text/plain": [
       "          Precinct\n",
       "Zip Code          \n",
       "10011            2\n",
       "10013            2\n",
       "10027            2"
      ]
     },
     "execution_count": 21,
     "metadata": {},
     "output_type": "execute_result"
    }
   ],
   "source": [
    "result_df.groupby(['Zip Code']).count()[result_df.groupby(['Zip Code']).count()['Precinct']>1]"
   ]
  },
  {
   "cell_type": "code",
   "execution_count": 22,
   "metadata": {
    "collapsed": false
   },
   "outputs": [],
   "source": [
    "result_df = result_df.drop(result_df.index[[0,2,16]])"
   ]
  },
  {
   "cell_type": "code",
   "execution_count": 23,
   "metadata": {
    "collapsed": false
   },
   "outputs": [],
   "source": [
    "result_df = result_df.reset_index(drop=True)"
   ]
  },
  {
   "cell_type": "code",
   "execution_count": 24,
   "metadata": {
    "collapsed": false
   },
   "outputs": [],
   "source": [
    "temp_df = pd.merge(data, result_df, how='left', on=['Zip Code'])"
   ]
  },
  {
   "cell_type": "code",
   "execution_count": 25,
   "metadata": {
    "collapsed": false
   },
   "outputs": [
    {
     "data": {
      "text/plain": [
       "83"
      ]
     },
     "execution_count": 25,
     "metadata": {},
     "output_type": "execute_result"
    }
   ],
   "source": [
    "len(temp_df['Precinct'].unique())"
   ]
  },
  {
   "cell_type": "code",
   "execution_count": 26,
   "metadata": {
    "collapsed": false
   },
   "outputs": [
    {
     "data": {
      "text/plain": [
       "(1981130, 11)"
      ]
     },
     "execution_count": 26,
     "metadata": {},
     "output_type": "execute_result"
    }
   ],
   "source": [
    "data.shape"
   ]
  },
  {
   "cell_type": "code",
   "execution_count": 27,
   "metadata": {
    "collapsed": true
   },
   "outputs": [],
   "source": [
    "temp_df1 = temp_df[temp_df['Precinct'].notnull()]"
   ]
  },
  {
   "cell_type": "code",
   "execution_count": 28,
   "metadata": {
    "collapsed": false
   },
   "outputs": [
    {
     "data": {
      "text/plain": [
       "(1926547, 12)"
      ]
     },
     "execution_count": 28,
     "metadata": {},
     "output_type": "execute_result"
    }
   ],
   "source": [
    "temp_df1.shape"
   ]
  },
  {
   "cell_type": "code",
   "execution_count": 29,
   "metadata": {
    "collapsed": false
   },
   "outputs": [
    {
     "name": "stderr",
     "output_type": "stream",
     "text": [
      "/Users/YuchenZheng/anaconda/lib/python3.5/site-packages/ipykernel/__main__.py:1: SettingWithCopyWarning: \n",
      "A value is trying to be set on a copy of a slice from a DataFrame.\n",
      "Try using .loc[row_indexer,col_indexer] = value instead\n",
      "\n",
      "See the caveats in the documentation: http://pandas.pydata.org/pandas-docs/stable/indexing.html#indexing-view-versus-copy\n",
      "  if __name__ == '__main__':\n"
     ]
    }
   ],
   "source": [
    "temp_df1['Created_Date'] =pd.to_datetime(temp_df1.Created_Date)"
   ]
  },
  {
   "cell_type": "code",
   "execution_count": 30,
   "metadata": {
    "collapsed": false
   },
   "outputs": [],
   "source": [
    "temp_df1 = temp_df1[temp_df1.Created_Date.dt.year != 2016]"
   ]
  },
  {
   "cell_type": "code",
   "execution_count": 31,
   "metadata": {
    "collapsed": false
   },
   "outputs": [
    {
     "data": {
      "text/plain": [
       "(1569167, 12)"
      ]
     },
     "execution_count": 31,
     "metadata": {},
     "output_type": "execute_result"
    }
   ],
   "source": [
    "temp_df1.shape"
   ]
  },
  {
   "cell_type": "code",
   "execution_count": 32,
   "metadata": {
    "collapsed": false
   },
   "outputs": [],
   "source": [
    "violence = violence.groupby(['Precinct'])[['V2010','V2011','V2012','V2013','V2014','V2015']].sum()"
   ]
  },
  {
   "cell_type": "code",
   "execution_count": 33,
   "metadata": {
    "collapsed": false
   },
   "outputs": [],
   "source": [
    "violence = violence.reset_index()"
   ]
  },
  {
   "cell_type": "code",
   "execution_count": 34,
   "metadata": {
    "collapsed": false
   },
   "outputs": [
    {
     "name": "stderr",
     "output_type": "stream",
     "text": [
      "/Users/YuchenZheng/anaconda/lib/python3.5/site-packages/ipykernel/__main__.py:1: FutureWarning: sort(columns=....) is deprecated, use sort_values(by=.....)\n",
      "  if __name__ == '__main__':\n"
     ]
    }
   ],
   "source": [
    "violence = violence.sort([\"Precinct\"])"
   ]
  },
  {
   "cell_type": "markdown",
   "metadata": {},
   "source": [
    "merge dataframes here"
   ]
  },
  {
   "cell_type": "code",
   "execution_count": 35,
   "metadata": {
    "collapsed": false
   },
   "outputs": [],
   "source": [
    "temp_df1.Precinct = temp_df1.Precinct.astype(int)"
   ]
  },
  {
   "cell_type": "code",
   "execution_count": 36,
   "metadata": {
    "collapsed": true
   },
   "outputs": [],
   "source": [
    "temp_df2 = pd.merge(left=temp_df1,right=violence, how='left', on=['Precinct'])"
   ]
  },
  {
   "cell_type": "code",
   "execution_count": 37,
   "metadata": {
    "collapsed": false
   },
   "outputs": [],
   "source": [
    "temp_df3 = temp_df2[temp_df2['V2010'].notnull()]"
   ]
  },
  {
   "cell_type": "code",
   "execution_count": 38,
   "metadata": {
    "collapsed": true
   },
   "outputs": [],
   "source": [
    "poverty = pd.read_csv(\"/Users/YuchenZheng/Desktop/Data Science/Data Mining/final project/poverty.tsv\", sep = '\\t')"
   ]
  },
  {
   "cell_type": "code",
   "execution_count": 39,
   "metadata": {
    "collapsed": false
   },
   "outputs": [],
   "source": [
    "poverty = poverty.drop(['#', 'Location', 'National Rank','City'],1)"
   ]
  },
  {
   "cell_type": "code",
   "execution_count": 40,
   "metadata": {
    "collapsed": true
   },
   "outputs": [],
   "source": [
    "temp_df4 = pd.merge(temp_df3, poverty, how='left', on=['Zip Code'])"
   ]
  },
  {
   "cell_type": "code",
   "execution_count": 41,
   "metadata": {
    "collapsed": false
   },
   "outputs": [],
   "source": [
    "temp_df4 = temp_df4[temp_df4['Population'].notnull()]"
   ]
  },
  {
   "cell_type": "code",
   "execution_count": 42,
   "metadata": {
    "collapsed": false
   },
   "outputs": [],
   "source": [
    "temp_df4['Created_Date'] =pd.to_datetime(temp_df4.Created_Date)"
   ]
  },
  {
   "cell_type": "code",
   "execution_count": 43,
   "metadata": {
    "collapsed": false
   },
   "outputs": [],
   "source": [
    "temp_df4.loc[temp_df4[\"Created_Date\"].dt.year != 2010,'V2010'] =np.nan\n",
    "temp_df4.loc[temp_df4[\"Created_Date\"].dt.year != 2011,'V2011'] =np.nan\n",
    "temp_df4.loc[temp_df4[\"Created_Date\"].dt.year != 2012,'V2012'] =np.nan\n",
    "temp_df4.loc[temp_df4[\"Created_Date\"].dt.year != 2013,'V2013'] =np.nan\n",
    "temp_df4.loc[temp_df4[\"Created_Date\"].dt.year != 2014,'V2014'] =np.nan\n",
    "temp_df4.loc[temp_df4[\"Created_Date\"].dt.year != 2015,'V2015'] =np.nan"
   ]
  },
  {
   "cell_type": "code",
   "execution_count": 44,
   "metadata": {
    "collapsed": false
   },
   "outputs": [],
   "source": [
    "temp_df4 = temp_df4[temp_df4.Created_Date.dt.year != 2016]"
   ]
  },
  {
   "cell_type": "code",
   "execution_count": 45,
   "metadata": {
    "collapsed": false
   },
   "outputs": [
    {
     "data": {
      "text/plain": [
       "(1539582, 20)"
      ]
     },
     "execution_count": 45,
     "metadata": {},
     "output_type": "execute_result"
    }
   ],
   "source": [
    "temp_df4.shape"
   ]
  },
  {
   "cell_type": "code",
   "execution_count": 46,
   "metadata": {
    "collapsed": false
   },
   "outputs": [],
   "source": [
    "temp_df4 = temp_df4.drop(['Unnamed: 0'], 1)"
   ]
  },
  {
   "cell_type": "markdown",
   "metadata": {},
   "source": [
    "binning function to discretize data"
   ]
  },
  {
   "cell_type": "code",
   "execution_count": 47,
   "metadata": {
    "collapsed": true
   },
   "outputs": [],
   "source": [
    "def binning(column):\n",
    "    median = column.median()\n",
    "    q75 = column.quantile(0.75)\n",
    "    q25 = column.quantile(0.25)\n",
    "    iqr = q75 - q25\n",
    "    bins = [-999999, q25 - 1.5*iqr, q25, median, q75,\n",
    "            q75 + 1.5*iqr, 999999]\n",
    "    bin_names = ['Low Outliers', 'Lower than IQR', 'Within Lower IQR', 'Within Higher IQR', \n",
    "                 'Higher than IQR', 'Higher outliers']\n",
    "    result_dfs = pd.cut(column, bins, labels=bin_names)\n",
    "    return(result_dfs)"
   ]
  },
  {
   "cell_type": "code",
   "execution_count": 48,
   "metadata": {
    "collapsed": false
   },
   "outputs": [],
   "source": [
    "temp_df4['V2010_cat']='---'\n",
    "temp_df4['V2011_cat']='---'\n",
    "temp_df4['V2012_cat']='---'\n",
    "temp_df4['V2013_cat']='---'\n",
    "temp_df4['V2014_cat']='---'\n",
    "temp_df4['V2015_cat']='---'"
   ]
  },
  {
   "cell_type": "code",
   "execution_count": 49,
   "metadata": {
    "collapsed": false
   },
   "outputs": [
    {
     "data": {
      "text/html": [
       "<div>\n",
       "<table border=\"1\" class=\"dataframe\">\n",
       "  <thead>\n",
       "    <tr style=\"text-align: right;\">\n",
       "      <th></th>\n",
       "      <th>Created_Date</th>\n",
       "      <th>Complaint Type</th>\n",
       "      <th>Descriptor</th>\n",
       "      <th>Location Type</th>\n",
       "      <th>Zip Code</th>\n",
       "      <th>City</th>\n",
       "      <th>Borough</th>\n",
       "      <th>Latitude</th>\n",
       "      <th>Longitude</th>\n",
       "      <th>Location</th>\n",
       "      <th>...</th>\n",
       "      <th>V2014</th>\n",
       "      <th>V2015</th>\n",
       "      <th>Population</th>\n",
       "      <th>% Poverty Level</th>\n",
       "      <th>V2010_cat</th>\n",
       "      <th>V2011_cat</th>\n",
       "      <th>V2012_cat</th>\n",
       "      <th>V2013_cat</th>\n",
       "      <th>V2014_cat</th>\n",
       "      <th>V2015_cat</th>\n",
       "    </tr>\n",
       "  </thead>\n",
       "  <tbody>\n",
       "    <tr>\n",
       "      <th>1557852</th>\n",
       "      <td>2015-12-31 23:53:14</td>\n",
       "      <td>Noise - Residential</td>\n",
       "      <td>Loud Music/Party</td>\n",
       "      <td>Residential Building/House</td>\n",
       "      <td>10456</td>\n",
       "      <td>BRONX</td>\n",
       "      <td>BRONX</td>\n",
       "      <td>40.834988</td>\n",
       "      <td>-73.913096</td>\n",
       "      <td>(40.83498836390913, -73.91309606358962)</td>\n",
       "      <td>...</td>\n",
       "      <td>NaN</td>\n",
       "      <td>2024.0</td>\n",
       "      <td>76,656</td>\n",
       "      <td>64.49 %</td>\n",
       "      <td>---</td>\n",
       "      <td>---</td>\n",
       "      <td>---</td>\n",
       "      <td>---</td>\n",
       "      <td>---</td>\n",
       "      <td>---</td>\n",
       "    </tr>\n",
       "    <tr>\n",
       "      <th>1557853</th>\n",
       "      <td>2015-12-31 23:55:51</td>\n",
       "      <td>Noise - Residential</td>\n",
       "      <td>Loud Music/Party</td>\n",
       "      <td>Residential Building/House</td>\n",
       "      <td>11416</td>\n",
       "      <td>OZONE PARK</td>\n",
       "      <td>QUEENS</td>\n",
       "      <td>40.689664</td>\n",
       "      <td>-73.838503</td>\n",
       "      <td>(40.68966427375357, -73.83850277971572)</td>\n",
       "      <td>...</td>\n",
       "      <td>NaN</td>\n",
       "      <td>1862.0</td>\n",
       "      <td>23,668</td>\n",
       "      <td>23.26 %</td>\n",
       "      <td>---</td>\n",
       "      <td>---</td>\n",
       "      <td>---</td>\n",
       "      <td>---</td>\n",
       "      <td>---</td>\n",
       "      <td>---</td>\n",
       "    </tr>\n",
       "    <tr>\n",
       "      <th>1557854</th>\n",
       "      <td>2015-12-31 23:56:34</td>\n",
       "      <td>Noise - Residential</td>\n",
       "      <td>Loud Music/Party</td>\n",
       "      <td>Residential Building/House</td>\n",
       "      <td>10301</td>\n",
       "      <td>STATEN ISLAND</td>\n",
       "      <td>STATEN ISLAND</td>\n",
       "      <td>40.620622</td>\n",
       "      <td>-74.109884</td>\n",
       "      <td>(40.62062246757604, -74.10988401532107)</td>\n",
       "      <td>...</td>\n",
       "      <td>NaN</td>\n",
       "      <td>3320.0</td>\n",
       "      <td>38,805</td>\n",
       "      <td>18.16 %</td>\n",
       "      <td>---</td>\n",
       "      <td>---</td>\n",
       "      <td>---</td>\n",
       "      <td>---</td>\n",
       "      <td>---</td>\n",
       "      <td>---</td>\n",
       "    </tr>\n",
       "    <tr>\n",
       "      <th>1557855</th>\n",
       "      <td>2015-12-31 23:59:19</td>\n",
       "      <td>Noise - Residential</td>\n",
       "      <td>Loud Music/Party</td>\n",
       "      <td>Residential Building/House</td>\n",
       "      <td>10002</td>\n",
       "      <td>NEW YORK</td>\n",
       "      <td>MANHATTAN</td>\n",
       "      <td>40.710478</td>\n",
       "      <td>-73.986571</td>\n",
       "      <td>(40.7104778366638, -73.98657106854841)</td>\n",
       "      <td>...</td>\n",
       "      <td>NaN</td>\n",
       "      <td>1172.0</td>\n",
       "      <td>84,870</td>\n",
       "      <td>35.04 %</td>\n",
       "      <td>---</td>\n",
       "      <td>---</td>\n",
       "      <td>---</td>\n",
       "      <td>---</td>\n",
       "      <td>---</td>\n",
       "      <td>---</td>\n",
       "    </tr>\n",
       "    <tr>\n",
       "      <th>1557856</th>\n",
       "      <td>2015-12-31 23:59:45</td>\n",
       "      <td>Noise - Street/Sidewalk</td>\n",
       "      <td>Loud Music/Party</td>\n",
       "      <td>Street/Sidewalk</td>\n",
       "      <td>10034</td>\n",
       "      <td>NEW YORK</td>\n",
       "      <td>MANHATTAN</td>\n",
       "      <td>40.865682</td>\n",
       "      <td>-73.923501</td>\n",
       "      <td>(40.86568153633767, -73.92350095571744)</td>\n",
       "      <td>...</td>\n",
       "      <td>NaN</td>\n",
       "      <td>1502.0</td>\n",
       "      <td>41,756</td>\n",
       "      <td>37.89 %</td>\n",
       "      <td>---</td>\n",
       "      <td>---</td>\n",
       "      <td>---</td>\n",
       "      <td>---</td>\n",
       "      <td>---</td>\n",
       "      <td>---</td>\n",
       "    </tr>\n",
       "  </tbody>\n",
       "</table>\n",
       "<p>5 rows × 25 columns</p>\n",
       "</div>"
      ],
      "text/plain": [
       "               Created_Date           Complaint Type        Descriptor  \\\n",
       "1557852 2015-12-31 23:53:14      Noise - Residential  Loud Music/Party   \n",
       "1557853 2015-12-31 23:55:51      Noise - Residential  Loud Music/Party   \n",
       "1557854 2015-12-31 23:56:34      Noise - Residential  Loud Music/Party   \n",
       "1557855 2015-12-31 23:59:19      Noise - Residential  Loud Music/Party   \n",
       "1557856 2015-12-31 23:59:45  Noise - Street/Sidewalk  Loud Music/Party   \n",
       "\n",
       "                      Location Type  Zip Code           City        Borough  \\\n",
       "1557852  Residential Building/House     10456          BRONX          BRONX   \n",
       "1557853  Residential Building/House     11416     OZONE PARK         QUEENS   \n",
       "1557854  Residential Building/House     10301  STATEN ISLAND  STATEN ISLAND   \n",
       "1557855  Residential Building/House     10002       NEW YORK      MANHATTAN   \n",
       "1557856             Street/Sidewalk     10034       NEW YORK      MANHATTAN   \n",
       "\n",
       "          Latitude  Longitude                                 Location  \\\n",
       "1557852  40.834988 -73.913096  (40.83498836390913, -73.91309606358962)   \n",
       "1557853  40.689664 -73.838503  (40.68966427375357, -73.83850277971572)   \n",
       "1557854  40.620622 -74.109884  (40.62062246757604, -74.10988401532107)   \n",
       "1557855  40.710478 -73.986571   (40.7104778366638, -73.98657106854841)   \n",
       "1557856  40.865682 -73.923501  (40.86568153633767, -73.92350095571744)   \n",
       "\n",
       "           ...     V2014   V2015  Population  % Poverty Level  V2010_cat  \\\n",
       "1557852    ...       NaN  2024.0      76,656          64.49 %        ---   \n",
       "1557853    ...       NaN  1862.0      23,668          23.26 %        ---   \n",
       "1557854    ...       NaN  3320.0      38,805          18.16 %        ---   \n",
       "1557855    ...       NaN  1172.0      84,870          35.04 %        ---   \n",
       "1557856    ...       NaN  1502.0      41,756          37.89 %        ---   \n",
       "\n",
       "         V2011_cat  V2012_cat V2013_cat V2014_cat V2015_cat  \n",
       "1557852        ---        ---       ---       ---       ---  \n",
       "1557853        ---        ---       ---       ---       ---  \n",
       "1557854        ---        ---       ---       ---       ---  \n",
       "1557855        ---        ---       ---       ---       ---  \n",
       "1557856        ---        ---       ---       ---       ---  \n",
       "\n",
       "[5 rows x 25 columns]"
      ]
     },
     "execution_count": 49,
     "metadata": {},
     "output_type": "execute_result"
    }
   ],
   "source": [
    "temp_df4.tail()"
   ]
  },
  {
   "cell_type": "code",
   "execution_count": 50,
   "metadata": {
    "collapsed": false
   },
   "outputs": [],
   "source": [
    "temp_df4.loc[:,['V2010_cat']] = binning(temp_df4['V2010'])\n",
    "temp_df4.loc[:,['V2011_cat']] = binning(temp_df4['V2011'])\n",
    "temp_df4.loc[:,['V2012_cat']] = binning(temp_df4['V2012'])\n",
    "temp_df4.loc[:,['V2013_cat']] = binning(temp_df4['V2013'])\n",
    "temp_df4.loc[:,['V2014_cat']] = binning(temp_df4['V2014'])\n",
    "temp_df4.loc[:,['V2015_cat']] = binning(temp_df4['V2015'])"
   ]
  },
  {
   "cell_type": "code",
   "execution_count": 51,
   "metadata": {
    "collapsed": false
   },
   "outputs": [
    {
     "data": {
      "text/html": [
       "<div>\n",
       "<table border=\"1\" class=\"dataframe\">\n",
       "  <thead>\n",
       "    <tr style=\"text-align: right;\">\n",
       "      <th></th>\n",
       "      <th>Created_Date</th>\n",
       "      <th>Complaint Type</th>\n",
       "      <th>Descriptor</th>\n",
       "      <th>Location Type</th>\n",
       "      <th>Zip Code</th>\n",
       "      <th>City</th>\n",
       "      <th>Borough</th>\n",
       "      <th>Latitude</th>\n",
       "      <th>Longitude</th>\n",
       "      <th>Location</th>\n",
       "      <th>...</th>\n",
       "      <th>V2014</th>\n",
       "      <th>V2015</th>\n",
       "      <th>Population</th>\n",
       "      <th>% Poverty Level</th>\n",
       "      <th>V2010_cat</th>\n",
       "      <th>V2011_cat</th>\n",
       "      <th>V2012_cat</th>\n",
       "      <th>V2013_cat</th>\n",
       "      <th>V2014_cat</th>\n",
       "      <th>V2015_cat</th>\n",
       "    </tr>\n",
       "  </thead>\n",
       "  <tbody>\n",
       "    <tr>\n",
       "      <th>1557852</th>\n",
       "      <td>2015-12-31 23:53:14</td>\n",
       "      <td>Noise - Residential</td>\n",
       "      <td>Loud Music/Party</td>\n",
       "      <td>Residential Building/House</td>\n",
       "      <td>10456</td>\n",
       "      <td>BRONX</td>\n",
       "      <td>BRONX</td>\n",
       "      <td>40.834988</td>\n",
       "      <td>-73.913096</td>\n",
       "      <td>(40.83498836390913, -73.91309606358962)</td>\n",
       "      <td>...</td>\n",
       "      <td>NaN</td>\n",
       "      <td>2024.0</td>\n",
       "      <td>76,656</td>\n",
       "      <td>64.49 %</td>\n",
       "      <td>NaN</td>\n",
       "      <td>NaN</td>\n",
       "      <td>NaN</td>\n",
       "      <td>NaN</td>\n",
       "      <td>NaN</td>\n",
       "      <td>Within Higher IQR</td>\n",
       "    </tr>\n",
       "    <tr>\n",
       "      <th>1557853</th>\n",
       "      <td>2015-12-31 23:55:51</td>\n",
       "      <td>Noise - Residential</td>\n",
       "      <td>Loud Music/Party</td>\n",
       "      <td>Residential Building/House</td>\n",
       "      <td>11416</td>\n",
       "      <td>OZONE PARK</td>\n",
       "      <td>QUEENS</td>\n",
       "      <td>40.689664</td>\n",
       "      <td>-73.838503</td>\n",
       "      <td>(40.68966427375357, -73.83850277971572)</td>\n",
       "      <td>...</td>\n",
       "      <td>NaN</td>\n",
       "      <td>1862.0</td>\n",
       "      <td>23,668</td>\n",
       "      <td>23.26 %</td>\n",
       "      <td>NaN</td>\n",
       "      <td>NaN</td>\n",
       "      <td>NaN</td>\n",
       "      <td>NaN</td>\n",
       "      <td>NaN</td>\n",
       "      <td>Within Higher IQR</td>\n",
       "    </tr>\n",
       "    <tr>\n",
       "      <th>1557854</th>\n",
       "      <td>2015-12-31 23:56:34</td>\n",
       "      <td>Noise - Residential</td>\n",
       "      <td>Loud Music/Party</td>\n",
       "      <td>Residential Building/House</td>\n",
       "      <td>10301</td>\n",
       "      <td>STATEN ISLAND</td>\n",
       "      <td>STATEN ISLAND</td>\n",
       "      <td>40.620622</td>\n",
       "      <td>-74.109884</td>\n",
       "      <td>(40.62062246757604, -74.10988401532107)</td>\n",
       "      <td>...</td>\n",
       "      <td>NaN</td>\n",
       "      <td>3320.0</td>\n",
       "      <td>38,805</td>\n",
       "      <td>18.16 %</td>\n",
       "      <td>NaN</td>\n",
       "      <td>NaN</td>\n",
       "      <td>NaN</td>\n",
       "      <td>NaN</td>\n",
       "      <td>NaN</td>\n",
       "      <td>Higher than IQR</td>\n",
       "    </tr>\n",
       "    <tr>\n",
       "      <th>1557855</th>\n",
       "      <td>2015-12-31 23:59:19</td>\n",
       "      <td>Noise - Residential</td>\n",
       "      <td>Loud Music/Party</td>\n",
       "      <td>Residential Building/House</td>\n",
       "      <td>10002</td>\n",
       "      <td>NEW YORK</td>\n",
       "      <td>MANHATTAN</td>\n",
       "      <td>40.710478</td>\n",
       "      <td>-73.986571</td>\n",
       "      <td>(40.7104778366638, -73.98657106854841)</td>\n",
       "      <td>...</td>\n",
       "      <td>NaN</td>\n",
       "      <td>1172.0</td>\n",
       "      <td>84,870</td>\n",
       "      <td>35.04 %</td>\n",
       "      <td>NaN</td>\n",
       "      <td>NaN</td>\n",
       "      <td>NaN</td>\n",
       "      <td>NaN</td>\n",
       "      <td>NaN</td>\n",
       "      <td>Lower than IQR</td>\n",
       "    </tr>\n",
       "    <tr>\n",
       "      <th>1557856</th>\n",
       "      <td>2015-12-31 23:59:45</td>\n",
       "      <td>Noise - Street/Sidewalk</td>\n",
       "      <td>Loud Music/Party</td>\n",
       "      <td>Street/Sidewalk</td>\n",
       "      <td>10034</td>\n",
       "      <td>NEW YORK</td>\n",
       "      <td>MANHATTAN</td>\n",
       "      <td>40.865682</td>\n",
       "      <td>-73.923501</td>\n",
       "      <td>(40.86568153633767, -73.92350095571744)</td>\n",
       "      <td>...</td>\n",
       "      <td>NaN</td>\n",
       "      <td>1502.0</td>\n",
       "      <td>41,756</td>\n",
       "      <td>37.89 %</td>\n",
       "      <td>NaN</td>\n",
       "      <td>NaN</td>\n",
       "      <td>NaN</td>\n",
       "      <td>NaN</td>\n",
       "      <td>NaN</td>\n",
       "      <td>Within Lower IQR</td>\n",
       "    </tr>\n",
       "  </tbody>\n",
       "</table>\n",
       "<p>5 rows × 25 columns</p>\n",
       "</div>"
      ],
      "text/plain": [
       "               Created_Date           Complaint Type        Descriptor  \\\n",
       "1557852 2015-12-31 23:53:14      Noise - Residential  Loud Music/Party   \n",
       "1557853 2015-12-31 23:55:51      Noise - Residential  Loud Music/Party   \n",
       "1557854 2015-12-31 23:56:34      Noise - Residential  Loud Music/Party   \n",
       "1557855 2015-12-31 23:59:19      Noise - Residential  Loud Music/Party   \n",
       "1557856 2015-12-31 23:59:45  Noise - Street/Sidewalk  Loud Music/Party   \n",
       "\n",
       "                      Location Type  Zip Code           City        Borough  \\\n",
       "1557852  Residential Building/House     10456          BRONX          BRONX   \n",
       "1557853  Residential Building/House     11416     OZONE PARK         QUEENS   \n",
       "1557854  Residential Building/House     10301  STATEN ISLAND  STATEN ISLAND   \n",
       "1557855  Residential Building/House     10002       NEW YORK      MANHATTAN   \n",
       "1557856             Street/Sidewalk     10034       NEW YORK      MANHATTAN   \n",
       "\n",
       "          Latitude  Longitude                                 Location  \\\n",
       "1557852  40.834988 -73.913096  (40.83498836390913, -73.91309606358962)   \n",
       "1557853  40.689664 -73.838503  (40.68966427375357, -73.83850277971572)   \n",
       "1557854  40.620622 -74.109884  (40.62062246757604, -74.10988401532107)   \n",
       "1557855  40.710478 -73.986571   (40.7104778366638, -73.98657106854841)   \n",
       "1557856  40.865682 -73.923501  (40.86568153633767, -73.92350095571744)   \n",
       "\n",
       "               ...          V2014   V2015  Population  % Poverty Level  \\\n",
       "1557852        ...            NaN  2024.0      76,656          64.49 %   \n",
       "1557853        ...            NaN  1862.0      23,668          23.26 %   \n",
       "1557854        ...            NaN  3320.0      38,805          18.16 %   \n",
       "1557855        ...            NaN  1172.0      84,870          35.04 %   \n",
       "1557856        ...            NaN  1502.0      41,756          37.89 %   \n",
       "\n",
       "         V2010_cat  V2011_cat  V2012_cat V2013_cat V2014_cat  \\\n",
       "1557852        NaN        NaN        NaN       NaN       NaN   \n",
       "1557853        NaN        NaN        NaN       NaN       NaN   \n",
       "1557854        NaN        NaN        NaN       NaN       NaN   \n",
       "1557855        NaN        NaN        NaN       NaN       NaN   \n",
       "1557856        NaN        NaN        NaN       NaN       NaN   \n",
       "\n",
       "                 V2015_cat  \n",
       "1557852  Within Higher IQR  \n",
       "1557853  Within Higher IQR  \n",
       "1557854    Higher than IQR  \n",
       "1557855     Lower than IQR  \n",
       "1557856   Within Lower IQR  \n",
       "\n",
       "[5 rows x 25 columns]"
      ]
     },
     "execution_count": 51,
     "metadata": {},
     "output_type": "execute_result"
    }
   ],
   "source": [
    "temp_df4.tail()"
   ]
  },
  {
   "cell_type": "code",
   "execution_count": 54,
   "metadata": {
    "collapsed": false
   },
   "outputs": [],
   "source": [
    "#temp_df4.to_csv('temp_df4.csv', sep = \"\\t\")"
   ]
  },
  {
   "cell_type": "code",
   "execution_count": 52,
   "metadata": {
    "collapsed": true
   },
   "outputs": [],
   "source": [
    "misd = pd.read_csv(\"/Users/YuchenZheng/Desktop/Data Science/Data Mining/final project/misdnew.csv\", sep = '\\t')"
   ]
  },
  {
   "cell_type": "code",
   "execution_count": 53,
   "metadata": {
    "collapsed": true
   },
   "outputs": [],
   "source": [
    "misd = misd.drop(['Unnamed: 0'], 1)"
   ]
  },
  {
   "cell_type": "code",
   "execution_count": 54,
   "metadata": {
    "collapsed": true
   },
   "outputs": [],
   "source": [
    "misd.Precinct = misd.Precinct.astype(int)"
   ]
  },
  {
   "cell_type": "code",
   "execution_count": 55,
   "metadata": {
    "collapsed": false
   },
   "outputs": [
    {
     "data": {
      "text/html": [
       "<div>\n",
       "<table border=\"1\" class=\"dataframe\">\n",
       "  <thead>\n",
       "    <tr style=\"text-align: right;\">\n",
       "      <th></th>\n",
       "      <th>Precinct</th>\n",
       "      <th>Misd Crime</th>\n",
       "      <th>Misd2010</th>\n",
       "      <th>Misd2011</th>\n",
       "      <th>Misd2012</th>\n",
       "      <th>Misd2013</th>\n",
       "      <th>Misd2014</th>\n",
       "      <th>Misd2015</th>\n",
       "    </tr>\n",
       "  </thead>\n",
       "  <tbody>\n",
       "    <tr>\n",
       "      <th>0</th>\n",
       "      <td>1</td>\n",
       "      <td>MISDEMEANOR POSSESSION OF STOLEN PROPERTY     ...</td>\n",
       "      <td>34.0</td>\n",
       "      <td>33.0</td>\n",
       "      <td>42.0</td>\n",
       "      <td>43</td>\n",
       "      <td>37</td>\n",
       "      <td>18</td>\n",
       "    </tr>\n",
       "    <tr>\n",
       "      <th>1</th>\n",
       "      <td>1</td>\n",
       "      <td>MISDEMEANOR SEX CRIMES (4)</td>\n",
       "      <td>27.0</td>\n",
       "      <td>50.0</td>\n",
       "      <td>44.0</td>\n",
       "      <td>42</td>\n",
       "      <td>43</td>\n",
       "      <td>31</td>\n",
       "    </tr>\n",
       "    <tr>\n",
       "      <th>2</th>\n",
       "      <td>1</td>\n",
       "      <td>MISDEMEANOR DANGEROUS DRUGS  (1)</td>\n",
       "      <td>78.0</td>\n",
       "      <td>91.0</td>\n",
       "      <td>72.0</td>\n",
       "      <td>84</td>\n",
       "      <td>93</td>\n",
       "      <td>98</td>\n",
       "    </tr>\n",
       "    <tr>\n",
       "      <th>3</th>\n",
       "      <td>1</td>\n",
       "      <td>MISDEMEANOR DANGEROUS WEAPONS (5)</td>\n",
       "      <td>39.0</td>\n",
       "      <td>29.0</td>\n",
       "      <td>32.0</td>\n",
       "      <td>19</td>\n",
       "      <td>32</td>\n",
       "      <td>26</td>\n",
       "    </tr>\n",
       "    <tr>\n",
       "      <th>4</th>\n",
       "      <td>1</td>\n",
       "      <td>PETIT LARCENY</td>\n",
       "      <td>1702.0</td>\n",
       "      <td>1938.0</td>\n",
       "      <td>2119.0</td>\n",
       "      <td>2014</td>\n",
       "      <td>1863</td>\n",
       "      <td>1782</td>\n",
       "    </tr>\n",
       "  </tbody>\n",
       "</table>\n",
       "</div>"
      ],
      "text/plain": [
       "   Precinct                                         Misd Crime  Misd2010  \\\n",
       "0         1  MISDEMEANOR POSSESSION OF STOLEN PROPERTY     ...      34.0   \n",
       "1         1                         MISDEMEANOR SEX CRIMES (4)      27.0   \n",
       "2         1                   MISDEMEANOR DANGEROUS DRUGS  (1)      78.0   \n",
       "3         1   MISDEMEANOR DANGEROUS WEAPONS (5)                     39.0   \n",
       "4         1             PETIT LARCENY                             1702.0   \n",
       "\n",
       "   Misd2011  Misd2012  Misd2013  Misd2014  Misd2015  \n",
       "0      33.0      42.0        43        37        18  \n",
       "1      50.0      44.0        42        43        31  \n",
       "2      91.0      72.0        84        93        98  \n",
       "3      29.0      32.0        19        32        26  \n",
       "4    1938.0    2119.0      2014      1863      1782  "
      ]
     },
     "execution_count": 55,
     "metadata": {},
     "output_type": "execute_result"
    }
   ],
   "source": [
    "misd.head()"
   ]
  },
  {
   "cell_type": "code",
   "execution_count": 56,
   "metadata": {
    "collapsed": false
   },
   "outputs": [],
   "source": [
    "misd = misd.groupby(['Precinct'])[['Misd2010','Misd2011','Misd2012','Misd2013','Misd2014','Misd2015']].sum()"
   ]
  },
  {
   "cell_type": "code",
   "execution_count": 57,
   "metadata": {
    "collapsed": false
   },
   "outputs": [],
   "source": [
    "misd = misd.reset_index()"
   ]
  },
  {
   "cell_type": "code",
   "execution_count": 58,
   "metadata": {
    "collapsed": true
   },
   "outputs": [],
   "source": [
    "temp_df5 = pd.merge(left=temp_df4,right=misd, how='left', on=['Precinct'])"
   ]
  },
  {
   "cell_type": "code",
   "execution_count": 59,
   "metadata": {
    "collapsed": false
   },
   "outputs": [
    {
     "data": {
      "text/plain": [
       "(1539582, 31)"
      ]
     },
     "execution_count": 59,
     "metadata": {},
     "output_type": "execute_result"
    }
   ],
   "source": [
    "temp_df5.shape"
   ]
  },
  {
   "cell_type": "code",
   "execution_count": 60,
   "metadata": {
    "collapsed": true
   },
   "outputs": [],
   "source": [
    "temp_df5 = temp_df5[temp_df5['Misd2010'].notnull()]"
   ]
  },
  {
   "cell_type": "code",
   "execution_count": 61,
   "metadata": {
    "collapsed": false
   },
   "outputs": [],
   "source": [
    "temp_df5.loc[temp_df5[\"Created_Date\"].dt.year != 2010,'Misd2010'] =np.nan\n",
    "temp_df5.loc[temp_df5[\"Created_Date\"].dt.year != 2011,'Misd2011'] =np.nan\n",
    "temp_df5.loc[temp_df5[\"Created_Date\"].dt.year != 2012,'Misd2012'] =np.nan\n",
    "temp_df5.loc[temp_df5[\"Created_Date\"].dt.year != 2013,'Misd2013'] =np.nan\n",
    "temp_df5.loc[temp_df5[\"Created_Date\"].dt.year != 2014,'Misd2014'] =np.nan\n",
    "temp_df5.loc[temp_df5[\"Created_Date\"].dt.year != 2015,'Misd2015'] =np.nan"
   ]
  },
  {
   "cell_type": "code",
   "execution_count": 62,
   "metadata": {
    "collapsed": true
   },
   "outputs": [],
   "source": [
    "temp_df5['Misd2010_cat']='---'\n",
    "temp_df5['Misd2011_cat']='---'\n",
    "temp_df5['Misd2012_cat']='---'\n",
    "temp_df5['Misd2013_cat']='---'\n",
    "temp_df5['Misd2014_cat']='---'\n",
    "temp_df5['Misd2015_cat']='---'"
   ]
  },
  {
   "cell_type": "code",
   "execution_count": 63,
   "metadata": {
    "collapsed": false
   },
   "outputs": [],
   "source": [
    "temp_df5.loc[:,['Misd2010_cat']] = binning(temp_df5['Misd2010'])\n",
    "temp_df5.loc[:,['Misd2011_cat']] = binning(temp_df5['Misd2011'])\n",
    "temp_df5.loc[:,['Misd2012_cat']] = binning(temp_df5['Misd2012'])\n",
    "temp_df5.loc[:,['Misd2013_cat']] = binning(temp_df5['Misd2013'])\n",
    "temp_df5.loc[:,['Misd2014_cat']] = binning(temp_df5['Misd2014'])\n",
    "temp_df5.loc[:,['Misd2015_cat']] = binning(temp_df5['Misd2015'])"
   ]
  },
  {
   "cell_type": "code",
   "execution_count": 64,
   "metadata": {
    "collapsed": true
   },
   "outputs": [],
   "source": [
    "major = pd.read_csv(\"/Users/YuchenZheng/Desktop/Data Science/Data Mining/final project/majornew.csv\", sep = '\\t')"
   ]
  },
  {
   "cell_type": "code",
   "execution_count": 65,
   "metadata": {
    "collapsed": true
   },
   "outputs": [],
   "source": [
    "major = major.drop(['Unnamed: 0'], 1)"
   ]
  },
  {
   "cell_type": "code",
   "execution_count": 66,
   "metadata": {
    "collapsed": false
   },
   "outputs": [],
   "source": [
    "major.Precinct = major.Precinct.astype(int)"
   ]
  },
  {
   "cell_type": "code",
   "execution_count": 67,
   "metadata": {
    "collapsed": false
   },
   "outputs": [
    {
     "data": {
      "text/html": [
       "<div>\n",
       "<table border=\"1\" class=\"dataframe\">\n",
       "  <thead>\n",
       "    <tr style=\"text-align: right;\">\n",
       "      <th></th>\n",
       "      <th>Precinct</th>\n",
       "      <th>Major Crime</th>\n",
       "      <th>M2010</th>\n",
       "      <th>M2011</th>\n",
       "      <th>M2012</th>\n",
       "      <th>M2013</th>\n",
       "      <th>M2014</th>\n",
       "      <th>M2015</th>\n",
       "    </tr>\n",
       "  </thead>\n",
       "  <tbody>\n",
       "    <tr>\n",
       "      <th>0</th>\n",
       "      <td>1</td>\n",
       "      <td>MURDER &amp; NON NEGL. MANSLAUGHTER               ...</td>\n",
       "      <td>2.0</td>\n",
       "      <td>0.0</td>\n",
       "      <td>1.0</td>\n",
       "      <td>0</td>\n",
       "      <td>0</td>\n",
       "      <td>1</td>\n",
       "    </tr>\n",
       "    <tr>\n",
       "      <th>1</th>\n",
       "      <td>1</td>\n",
       "      <td>RAPE</td>\n",
       "      <td>6.0</td>\n",
       "      <td>13.0</td>\n",
       "      <td>10.0</td>\n",
       "      <td>12</td>\n",
       "      <td>8</td>\n",
       "      <td>7</td>\n",
       "    </tr>\n",
       "    <tr>\n",
       "      <th>2</th>\n",
       "      <td>1</td>\n",
       "      <td>ROBBERY</td>\n",
       "      <td>96.0</td>\n",
       "      <td>102.0</td>\n",
       "      <td>81.0</td>\n",
       "      <td>68</td>\n",
       "      <td>50</td>\n",
       "      <td>79</td>\n",
       "    </tr>\n",
       "    <tr>\n",
       "      <th>3</th>\n",
       "      <td>1</td>\n",
       "      <td>FELONY ASSAULT</td>\n",
       "      <td>68.0</td>\n",
       "      <td>94.0</td>\n",
       "      <td>110.0</td>\n",
       "      <td>87</td>\n",
       "      <td>76</td>\n",
       "      <td>86</td>\n",
       "    </tr>\n",
       "    <tr>\n",
       "      <th>4</th>\n",
       "      <td>1</td>\n",
       "      <td>BURGLARY</td>\n",
       "      <td>170.0</td>\n",
       "      <td>155.0</td>\n",
       "      <td>188.0</td>\n",
       "      <td>171</td>\n",
       "      <td>145</td>\n",
       "      <td>138</td>\n",
       "    </tr>\n",
       "  </tbody>\n",
       "</table>\n",
       "</div>"
      ],
      "text/plain": [
       "   Precinct                                        Major Crime  M2010  M2011  \\\n",
       "0         1  MURDER & NON NEGL. MANSLAUGHTER               ...    2.0    0.0   \n",
       "1         1             RAPE                                      6.0   13.0   \n",
       "2         1             ROBBERY                                  96.0  102.0   \n",
       "3         1             FELONY ASSAULT                           68.0   94.0   \n",
       "4         1             BURGLARY                                170.0  155.0   \n",
       "\n",
       "   M2012  M2013  M2014  M2015  \n",
       "0    1.0      0      0      1  \n",
       "1   10.0     12      8      7  \n",
       "2   81.0     68     50     79  \n",
       "3  110.0     87     76     86  \n",
       "4  188.0    171    145    138  "
      ]
     },
     "execution_count": 67,
     "metadata": {},
     "output_type": "execute_result"
    }
   ],
   "source": [
    "major.head()"
   ]
  },
  {
   "cell_type": "code",
   "execution_count": 68,
   "metadata": {
    "collapsed": false
   },
   "outputs": [],
   "source": [
    "major = major.groupby(['Precinct'])[['M2010','M2011','M2012','M2013','M2014','M2015']].sum()"
   ]
  },
  {
   "cell_type": "code",
   "execution_count": 69,
   "metadata": {
    "collapsed": true
   },
   "outputs": [],
   "source": [
    "major = major.reset_index()"
   ]
  },
  {
   "cell_type": "code",
   "execution_count": 70,
   "metadata": {
    "collapsed": true
   },
   "outputs": [],
   "source": [
    "temp_df6 = pd.merge(left=temp_df5,right=major, how='left', on=['Precinct'])"
   ]
  },
  {
   "cell_type": "code",
   "execution_count": 71,
   "metadata": {
    "collapsed": false
   },
   "outputs": [
    {
     "data": {
      "text/plain": [
       "(1539582, 43)"
      ]
     },
     "execution_count": 71,
     "metadata": {},
     "output_type": "execute_result"
    }
   ],
   "source": [
    "temp_df6.shape"
   ]
  },
  {
   "cell_type": "code",
   "execution_count": 72,
   "metadata": {
    "collapsed": false
   },
   "outputs": [],
   "source": [
    "temp_df6.loc[temp_df6[\"Created_Date\"].dt.year != 2010,'M2010'] =np.nan\n",
    "temp_df6.loc[temp_df6[\"Created_Date\"].dt.year != 2011,'M2011'] =np.nan\n",
    "temp_df6.loc[temp_df6[\"Created_Date\"].dt.year != 2012,'M2012'] =np.nan\n",
    "temp_df6.loc[temp_df6[\"Created_Date\"].dt.year != 2013,'M2013'] =np.nan\n",
    "temp_df6.loc[temp_df6[\"Created_Date\"].dt.year != 2014,'M2014'] =np.nan\n",
    "temp_df6.loc[temp_df6[\"Created_Date\"].dt.year != 2015,'M2015'] =np.nan"
   ]
  },
  {
   "cell_type": "code",
   "execution_count": 73,
   "metadata": {
    "collapsed": true
   },
   "outputs": [],
   "source": [
    "temp_df6['M2010_cat']='---'\n",
    "temp_df6['M2011_cat']='---'\n",
    "temp_df6['M2012_cat']='---'\n",
    "temp_df6['M2013_cat']='---'\n",
    "temp_df6['M2014_cat']='---'\n",
    "temp_df6['M2015_cat']='---'"
   ]
  },
  {
   "cell_type": "code",
   "execution_count": 74,
   "metadata": {
    "collapsed": false
   },
   "outputs": [
    {
     "data": {
      "text/html": [
       "<div>\n",
       "<table border=\"1\" class=\"dataframe\">\n",
       "  <thead>\n",
       "    <tr style=\"text-align: right;\">\n",
       "      <th></th>\n",
       "      <th>Created_Date</th>\n",
       "      <th>Complaint Type</th>\n",
       "      <th>Descriptor</th>\n",
       "      <th>Location Type</th>\n",
       "      <th>Zip Code</th>\n",
       "      <th>City</th>\n",
       "      <th>Borough</th>\n",
       "      <th>Latitude</th>\n",
       "      <th>Longitude</th>\n",
       "      <th>Location</th>\n",
       "      <th>...</th>\n",
       "      <th>M2012</th>\n",
       "      <th>M2013</th>\n",
       "      <th>M2014</th>\n",
       "      <th>M2015</th>\n",
       "      <th>M2010_cat</th>\n",
       "      <th>M2011_cat</th>\n",
       "      <th>M2012_cat</th>\n",
       "      <th>M2013_cat</th>\n",
       "      <th>M2014_cat</th>\n",
       "      <th>M2015_cat</th>\n",
       "    </tr>\n",
       "  </thead>\n",
       "  <tbody>\n",
       "    <tr>\n",
       "      <th>1539577</th>\n",
       "      <td>2015-12-31 23:53:14</td>\n",
       "      <td>Noise - Residential</td>\n",
       "      <td>Loud Music/Party</td>\n",
       "      <td>Residential Building/House</td>\n",
       "      <td>10456</td>\n",
       "      <td>BRONX</td>\n",
       "      <td>BRONX</td>\n",
       "      <td>40.834988</td>\n",
       "      <td>-73.913096</td>\n",
       "      <td>(40.83498836390913, -73.91309606358962)</td>\n",
       "      <td>...</td>\n",
       "      <td>NaN</td>\n",
       "      <td>NaN</td>\n",
       "      <td>NaN</td>\n",
       "      <td>2686.0</td>\n",
       "      <td>---</td>\n",
       "      <td>---</td>\n",
       "      <td>---</td>\n",
       "      <td>---</td>\n",
       "      <td>---</td>\n",
       "      <td>---</td>\n",
       "    </tr>\n",
       "    <tr>\n",
       "      <th>1539578</th>\n",
       "      <td>2015-12-31 23:55:51</td>\n",
       "      <td>Noise - Residential</td>\n",
       "      <td>Loud Music/Party</td>\n",
       "      <td>Residential Building/House</td>\n",
       "      <td>11416</td>\n",
       "      <td>OZONE PARK</td>\n",
       "      <td>QUEENS</td>\n",
       "      <td>40.689664</td>\n",
       "      <td>-73.838503</td>\n",
       "      <td>(40.68966427375357, -73.83850277971572)</td>\n",
       "      <td>...</td>\n",
       "      <td>NaN</td>\n",
       "      <td>NaN</td>\n",
       "      <td>NaN</td>\n",
       "      <td>2850.0</td>\n",
       "      <td>---</td>\n",
       "      <td>---</td>\n",
       "      <td>---</td>\n",
       "      <td>---</td>\n",
       "      <td>---</td>\n",
       "      <td>---</td>\n",
       "    </tr>\n",
       "    <tr>\n",
       "      <th>1539579</th>\n",
       "      <td>2015-12-31 23:56:34</td>\n",
       "      <td>Noise - Residential</td>\n",
       "      <td>Loud Music/Party</td>\n",
       "      <td>Residential Building/House</td>\n",
       "      <td>10301</td>\n",
       "      <td>STATEN ISLAND</td>\n",
       "      <td>STATEN ISLAND</td>\n",
       "      <td>40.620622</td>\n",
       "      <td>-74.109884</td>\n",
       "      <td>(40.62062246757604, -74.10988401532107)</td>\n",
       "      <td>...</td>\n",
       "      <td>NaN</td>\n",
       "      <td>NaN</td>\n",
       "      <td>NaN</td>\n",
       "      <td>2294.0</td>\n",
       "      <td>---</td>\n",
       "      <td>---</td>\n",
       "      <td>---</td>\n",
       "      <td>---</td>\n",
       "      <td>---</td>\n",
       "      <td>---</td>\n",
       "    </tr>\n",
       "    <tr>\n",
       "      <th>1539580</th>\n",
       "      <td>2015-12-31 23:59:19</td>\n",
       "      <td>Noise - Residential</td>\n",
       "      <td>Loud Music/Party</td>\n",
       "      <td>Residential Building/House</td>\n",
       "      <td>10002</td>\n",
       "      <td>NEW YORK</td>\n",
       "      <td>MANHATTAN</td>\n",
       "      <td>40.710478</td>\n",
       "      <td>-73.986571</td>\n",
       "      <td>(40.7104778366638, -73.98657106854841)</td>\n",
       "      <td>...</td>\n",
       "      <td>NaN</td>\n",
       "      <td>NaN</td>\n",
       "      <td>NaN</td>\n",
       "      <td>1562.0</td>\n",
       "      <td>---</td>\n",
       "      <td>---</td>\n",
       "      <td>---</td>\n",
       "      <td>---</td>\n",
       "      <td>---</td>\n",
       "      <td>---</td>\n",
       "    </tr>\n",
       "    <tr>\n",
       "      <th>1539581</th>\n",
       "      <td>2015-12-31 23:59:45</td>\n",
       "      <td>Noise - Street/Sidewalk</td>\n",
       "      <td>Loud Music/Party</td>\n",
       "      <td>Street/Sidewalk</td>\n",
       "      <td>10034</td>\n",
       "      <td>NEW YORK</td>\n",
       "      <td>MANHATTAN</td>\n",
       "      <td>40.865682</td>\n",
       "      <td>-73.923501</td>\n",
       "      <td>(40.86568153633767, -73.92350095571744)</td>\n",
       "      <td>...</td>\n",
       "      <td>NaN</td>\n",
       "      <td>NaN</td>\n",
       "      <td>NaN</td>\n",
       "      <td>2630.0</td>\n",
       "      <td>---</td>\n",
       "      <td>---</td>\n",
       "      <td>---</td>\n",
       "      <td>---</td>\n",
       "      <td>---</td>\n",
       "      <td>---</td>\n",
       "    </tr>\n",
       "  </tbody>\n",
       "</table>\n",
       "<p>5 rows × 49 columns</p>\n",
       "</div>"
      ],
      "text/plain": [
       "               Created_Date           Complaint Type        Descriptor  \\\n",
       "1539577 2015-12-31 23:53:14      Noise - Residential  Loud Music/Party   \n",
       "1539578 2015-12-31 23:55:51      Noise - Residential  Loud Music/Party   \n",
       "1539579 2015-12-31 23:56:34      Noise - Residential  Loud Music/Party   \n",
       "1539580 2015-12-31 23:59:19      Noise - Residential  Loud Music/Party   \n",
       "1539581 2015-12-31 23:59:45  Noise - Street/Sidewalk  Loud Music/Party   \n",
       "\n",
       "                      Location Type  Zip Code           City        Borough  \\\n",
       "1539577  Residential Building/House     10456          BRONX          BRONX   \n",
       "1539578  Residential Building/House     11416     OZONE PARK         QUEENS   \n",
       "1539579  Residential Building/House     10301  STATEN ISLAND  STATEN ISLAND   \n",
       "1539580  Residential Building/House     10002       NEW YORK      MANHATTAN   \n",
       "1539581             Street/Sidewalk     10034       NEW YORK      MANHATTAN   \n",
       "\n",
       "          Latitude  Longitude                                 Location  \\\n",
       "1539577  40.834988 -73.913096  (40.83498836390913, -73.91309606358962)   \n",
       "1539578  40.689664 -73.838503  (40.68966427375357, -73.83850277971572)   \n",
       "1539579  40.620622 -74.109884  (40.62062246757604, -74.10988401532107)   \n",
       "1539580  40.710478 -73.986571   (40.7104778366638, -73.98657106854841)   \n",
       "1539581  40.865682 -73.923501  (40.86568153633767, -73.92350095571744)   \n",
       "\n",
       "           ...     M2012  M2013  M2014   M2015  M2010_cat  M2011_cat  \\\n",
       "1539577    ...       NaN    NaN    NaN  2686.0        ---        ---   \n",
       "1539578    ...       NaN    NaN    NaN  2850.0        ---        ---   \n",
       "1539579    ...       NaN    NaN    NaN  2294.0        ---        ---   \n",
       "1539580    ...       NaN    NaN    NaN  1562.0        ---        ---   \n",
       "1539581    ...       NaN    NaN    NaN  2630.0        ---        ---   \n",
       "\n",
       "         M2012_cat M2013_cat M2014_cat M2015_cat  \n",
       "1539577        ---       ---       ---       ---  \n",
       "1539578        ---       ---       ---       ---  \n",
       "1539579        ---       ---       ---       ---  \n",
       "1539580        ---       ---       ---       ---  \n",
       "1539581        ---       ---       ---       ---  \n",
       "\n",
       "[5 rows x 49 columns]"
      ]
     },
     "execution_count": 74,
     "metadata": {},
     "output_type": "execute_result"
    }
   ],
   "source": [
    "temp_df6.tail()"
   ]
  },
  {
   "cell_type": "code",
   "execution_count": 75,
   "metadata": {
    "collapsed": false
   },
   "outputs": [],
   "source": [
    "temp_df6.loc[:,['M2010_cat']] = binning(temp_df6['M2010'])\n",
    "temp_df6.loc[:,['M2011_cat']] = binning(temp_df6['M2011'])\n",
    "temp_df6.loc[:,['M2012_cat']] = binning(temp_df6['M2012'])\n",
    "temp_df6.loc[:,['M2013_cat']] = binning(temp_df6['M2013'])\n",
    "temp_df6.loc[:,['M2014_cat']] = binning(temp_df6['M2014'])\n",
    "temp_df6.loc[:,['M2015_cat']] = binning(temp_df6['M2015'])"
   ]
  },
  {
   "cell_type": "code",
   "execution_count": 76,
   "metadata": {
    "collapsed": true
   },
   "outputs": [],
   "source": [
    "nonmajor = pd.read_csv(\"/Users/YuchenZheng/Desktop/Data Science/Data Mining/final project/nonmajornew.csv\", sep = '\\t')"
   ]
  },
  {
   "cell_type": "code",
   "execution_count": 77,
   "metadata": {
    "collapsed": true
   },
   "outputs": [],
   "source": [
    "nonmajor = nonmajor.drop(['Unnamed: 0'], 1)"
   ]
  },
  {
   "cell_type": "code",
   "execution_count": 78,
   "metadata": {
    "collapsed": false
   },
   "outputs": [],
   "source": [
    "nonmajor.Precinct = nonmajor.Precinct.astype(int)"
   ]
  },
  {
   "cell_type": "code",
   "execution_count": 79,
   "metadata": {
    "collapsed": false
   },
   "outputs": [
    {
     "data": {
      "text/html": [
       "<div>\n",
       "<table border=\"1\" class=\"dataframe\">\n",
       "  <thead>\n",
       "    <tr style=\"text-align: right;\">\n",
       "      <th></th>\n",
       "      <th>Precinct</th>\n",
       "      <th>NonMajor Crime</th>\n",
       "      <th>NM2010</th>\n",
       "      <th>NM2011</th>\n",
       "      <th>NM2012</th>\n",
       "      <th>NM2013</th>\n",
       "      <th>NM2014</th>\n",
       "      <th>NM2015</th>\n",
       "    </tr>\n",
       "  </thead>\n",
       "  <tbody>\n",
       "    <tr>\n",
       "      <th>0</th>\n",
       "      <td>1</td>\n",
       "      <td>FELONY POSSESSION STOLEN PROPERTY</td>\n",
       "      <td>17.0</td>\n",
       "      <td>15.0</td>\n",
       "      <td>12.0</td>\n",
       "      <td>10</td>\n",
       "      <td>31</td>\n",
       "      <td>13</td>\n",
       "    </tr>\n",
       "    <tr>\n",
       "      <th>1</th>\n",
       "      <td>1</td>\n",
       "      <td>FORGERY/THEFT-FRAUD/IDENTITY THEFT            ...</td>\n",
       "      <td>197.0</td>\n",
       "      <td>169.0</td>\n",
       "      <td>183.0</td>\n",
       "      <td>111</td>\n",
       "      <td>142</td>\n",
       "      <td>138</td>\n",
       "    </tr>\n",
       "    <tr>\n",
       "      <th>2</th>\n",
       "      <td>1</td>\n",
       "      <td>ARSON</td>\n",
       "      <td>5.0</td>\n",
       "      <td>3.0</td>\n",
       "      <td>3.0</td>\n",
       "      <td>3</td>\n",
       "      <td>9</td>\n",
       "      <td>1</td>\n",
       "    </tr>\n",
       "    <tr>\n",
       "      <th>3</th>\n",
       "      <td>1</td>\n",
       "      <td>FELONY SEX CRIMES (3)</td>\n",
       "      <td>7.0</td>\n",
       "      <td>13.0</td>\n",
       "      <td>12.0</td>\n",
       "      <td>14</td>\n",
       "      <td>7</td>\n",
       "      <td>13</td>\n",
       "    </tr>\n",
       "    <tr>\n",
       "      <th>4</th>\n",
       "      <td>1</td>\n",
       "      <td>FELONY DANGEROUS DRUGS  (1)</td>\n",
       "      <td>21.0</td>\n",
       "      <td>29.0</td>\n",
       "      <td>28.0</td>\n",
       "      <td>37</td>\n",
       "      <td>33</td>\n",
       "      <td>18</td>\n",
       "    </tr>\n",
       "  </tbody>\n",
       "</table>\n",
       "</div>"
      ],
      "text/plain": [
       "   Precinct                                     NonMajor Crime  NM2010  \\\n",
       "0         1      FELONY POSSESSION STOLEN PROPERTY                17.0   \n",
       "1         1  FORGERY/THEFT-FRAUD/IDENTITY THEFT            ...   197.0   \n",
       "2         1             ARSON                                      5.0   \n",
       "3         1                              FELONY SEX CRIMES (3)     7.0   \n",
       "4         1                        FELONY DANGEROUS DRUGS  (1)    21.0   \n",
       "\n",
       "   NM2011  NM2012  NM2013  NM2014  NM2015  \n",
       "0    15.0    12.0      10      31      13  \n",
       "1   169.0   183.0     111     142     138  \n",
       "2     3.0     3.0       3       9       1  \n",
       "3    13.0    12.0      14       7      13  \n",
       "4    29.0    28.0      37      33      18  "
      ]
     },
     "execution_count": 79,
     "metadata": {},
     "output_type": "execute_result"
    }
   ],
   "source": [
    "nonmajor.head()"
   ]
  },
  {
   "cell_type": "code",
   "execution_count": 80,
   "metadata": {
    "collapsed": true
   },
   "outputs": [],
   "source": [
    "nonmajor = nonmajor.groupby(['Precinct'])[['NM2010','NM2011','NM2012','NM2013','NM2014','NM2015']].sum()"
   ]
  },
  {
   "cell_type": "code",
   "execution_count": 81,
   "metadata": {
    "collapsed": true
   },
   "outputs": [],
   "source": [
    "nonmajor = nonmajor.reset_index()"
   ]
  },
  {
   "cell_type": "code",
   "execution_count": 82,
   "metadata": {
    "collapsed": true
   },
   "outputs": [],
   "source": [
    "final = pd.merge(left=temp_df6,right=nonmajor, how='left', on=['Precinct'])"
   ]
  },
  {
   "cell_type": "code",
   "execution_count": 83,
   "metadata": {
    "collapsed": true
   },
   "outputs": [],
   "source": [
    "final.loc[final[\"Created_Date\"].dt.year != 2010,'NM2010'] =np.nan\n",
    "final.loc[final[\"Created_Date\"].dt.year != 2011,'NM2011'] =np.nan\n",
    "final.loc[final[\"Created_Date\"].dt.year != 2012,'NM2012'] =np.nan\n",
    "final.loc[final[\"Created_Date\"].dt.year != 2013,'NM2013'] =np.nan\n",
    "final.loc[final[\"Created_Date\"].dt.year != 2014,'NM2014'] =np.nan\n",
    "final.loc[final[\"Created_Date\"].dt.year != 2015,'NM2015'] =np.nan"
   ]
  },
  {
   "cell_type": "code",
   "execution_count": 84,
   "metadata": {
    "collapsed": true
   },
   "outputs": [],
   "source": [
    "final['NM2010_cat']='---'\n",
    "final['NM2011_cat']='---'\n",
    "final['NM2012_cat']='---'\n",
    "final['NM2013_cat']='---'\n",
    "final['NM2014_cat']='---'\n",
    "final['NM2015_cat']='---'"
   ]
  },
  {
   "cell_type": "code",
   "execution_count": 85,
   "metadata": {
    "collapsed": true
   },
   "outputs": [],
   "source": [
    "final.loc[:,['NM2010_cat']] = binning(final['NM2010'])\n",
    "final.loc[:,['NM2011_cat']] = binning(final['NM2011'])\n",
    "final.loc[:,['NM2012_cat']] = binning(final['NM2012'])\n",
    "final.loc[:,['NM2013_cat']] = binning(final['NM2013'])\n",
    "final.loc[:,['NM2014_cat']] = binning(final['NM2014'])\n",
    "final.loc[:,['NM2015_cat']] = binning(final['NM2015'])"
   ]
  },
  {
   "cell_type": "code",
   "execution_count": 87,
   "metadata": {
    "collapsed": false
   },
   "outputs": [],
   "source": [
    "final.to_csv('final.csv', sep = \"\\t\")"
   ]
  },
  {
   "cell_type": "code",
   "execution_count": 17,
   "metadata": {
    "collapsed": false
   },
   "outputs": [
    {
     "name": "stderr",
     "output_type": "stream",
     "text": [
      "/Users/YuchenZheng/anaconda/lib/python3.5/site-packages/IPython/core/interactiveshell.py:2717: DtypeWarning: Columns (20,21,22,23,24,32,33,34,35,36,44,45,46,47,48,56,57,58,59,60) have mixed types. Specify dtype option on import or set low_memory=False.\n",
      "  interactivity=interactivity, compiler=compiler, result=result)\n"
     ]
    }
   ],
   "source": [
    "final = pd.read_csv( \"/Users/YuchenZheng/Desktop/Data Science/Data Mining/final project/final.csv\",sep = '\\t')"
   ]
  },
  {
   "cell_type": "code",
   "execution_count": 88,
   "metadata": {
    "collapsed": false
   },
   "outputs": [
    {
     "data": {
      "text/html": [
       "<div>\n",
       "<table border=\"1\" class=\"dataframe\">\n",
       "  <thead>\n",
       "    <tr style=\"text-align: right;\">\n",
       "      <th></th>\n",
       "      <th>Created_Date</th>\n",
       "      <th>Complaint Type</th>\n",
       "      <th>Descriptor</th>\n",
       "      <th>Location Type</th>\n",
       "      <th>Zip Code</th>\n",
       "      <th>City</th>\n",
       "      <th>Borough</th>\n",
       "      <th>Latitude</th>\n",
       "      <th>Longitude</th>\n",
       "      <th>Location</th>\n",
       "      <th>...</th>\n",
       "      <th>NM2012</th>\n",
       "      <th>NM2013</th>\n",
       "      <th>NM2014</th>\n",
       "      <th>NM2015</th>\n",
       "      <th>NM2010_cat</th>\n",
       "      <th>NM2011_cat</th>\n",
       "      <th>NM2012_cat</th>\n",
       "      <th>NM2013_cat</th>\n",
       "      <th>NM2014_cat</th>\n",
       "      <th>NM2015_cat</th>\n",
       "    </tr>\n",
       "  </thead>\n",
       "  <tbody>\n",
       "    <tr>\n",
       "      <th>1539577</th>\n",
       "      <td>2015-12-31 23:53:14</td>\n",
       "      <td>Noise - Residential</td>\n",
       "      <td>Loud Music/Party</td>\n",
       "      <td>Residential Building/House</td>\n",
       "      <td>10456</td>\n",
       "      <td>BRONX</td>\n",
       "      <td>BRONX</td>\n",
       "      <td>40.834988</td>\n",
       "      <td>-73.913096</td>\n",
       "      <td>(40.83498836390913, -73.91309606358962)</td>\n",
       "      <td>...</td>\n",
       "      <td>NaN</td>\n",
       "      <td>NaN</td>\n",
       "      <td>NaN</td>\n",
       "      <td>1672.0</td>\n",
       "      <td>NaN</td>\n",
       "      <td>NaN</td>\n",
       "      <td>NaN</td>\n",
       "      <td>NaN</td>\n",
       "      <td>NaN</td>\n",
       "      <td>Within Higher IQR</td>\n",
       "    </tr>\n",
       "    <tr>\n",
       "      <th>1539578</th>\n",
       "      <td>2015-12-31 23:55:51</td>\n",
       "      <td>Noise - Residential</td>\n",
       "      <td>Loud Music/Party</td>\n",
       "      <td>Residential Building/House</td>\n",
       "      <td>11416</td>\n",
       "      <td>OZONE PARK</td>\n",
       "      <td>QUEENS</td>\n",
       "      <td>40.689664</td>\n",
       "      <td>-73.838503</td>\n",
       "      <td>(40.68966427375357, -73.83850277971572)</td>\n",
       "      <td>...</td>\n",
       "      <td>NaN</td>\n",
       "      <td>NaN</td>\n",
       "      <td>NaN</td>\n",
       "      <td>1328.0</td>\n",
       "      <td>NaN</td>\n",
       "      <td>NaN</td>\n",
       "      <td>NaN</td>\n",
       "      <td>NaN</td>\n",
       "      <td>NaN</td>\n",
       "      <td>Within Lower IQR</td>\n",
       "    </tr>\n",
       "    <tr>\n",
       "      <th>1539579</th>\n",
       "      <td>2015-12-31 23:56:34</td>\n",
       "      <td>Noise - Residential</td>\n",
       "      <td>Loud Music/Party</td>\n",
       "      <td>Residential Building/House</td>\n",
       "      <td>10301</td>\n",
       "      <td>STATEN ISLAND</td>\n",
       "      <td>STATEN ISLAND</td>\n",
       "      <td>40.620622</td>\n",
       "      <td>-74.109884</td>\n",
       "      <td>(40.62062246757604, -74.10988401532107)</td>\n",
       "      <td>...</td>\n",
       "      <td>NaN</td>\n",
       "      <td>NaN</td>\n",
       "      <td>NaN</td>\n",
       "      <td>1520.0</td>\n",
       "      <td>NaN</td>\n",
       "      <td>NaN</td>\n",
       "      <td>NaN</td>\n",
       "      <td>NaN</td>\n",
       "      <td>NaN</td>\n",
       "      <td>Within Higher IQR</td>\n",
       "    </tr>\n",
       "    <tr>\n",
       "      <th>1539580</th>\n",
       "      <td>2015-12-31 23:59:19</td>\n",
       "      <td>Noise - Residential</td>\n",
       "      <td>Loud Music/Party</td>\n",
       "      <td>Residential Building/House</td>\n",
       "      <td>10002</td>\n",
       "      <td>NEW YORK</td>\n",
       "      <td>MANHATTAN</td>\n",
       "      <td>40.710478</td>\n",
       "      <td>-73.986571</td>\n",
       "      <td>(40.7104778366638, -73.98657106854841)</td>\n",
       "      <td>...</td>\n",
       "      <td>NaN</td>\n",
       "      <td>NaN</td>\n",
       "      <td>NaN</td>\n",
       "      <td>964.0</td>\n",
       "      <td>NaN</td>\n",
       "      <td>NaN</td>\n",
       "      <td>NaN</td>\n",
       "      <td>NaN</td>\n",
       "      <td>NaN</td>\n",
       "      <td>Lower than IQR</td>\n",
       "    </tr>\n",
       "    <tr>\n",
       "      <th>1539581</th>\n",
       "      <td>2015-12-31 23:59:45</td>\n",
       "      <td>Noise - Street/Sidewalk</td>\n",
       "      <td>Loud Music/Party</td>\n",
       "      <td>Street/Sidewalk</td>\n",
       "      <td>10034</td>\n",
       "      <td>NEW YORK</td>\n",
       "      <td>MANHATTAN</td>\n",
       "      <td>40.865682</td>\n",
       "      <td>-73.923501</td>\n",
       "      <td>(40.86568153633767, -73.92350095571744)</td>\n",
       "      <td>...</td>\n",
       "      <td>NaN</td>\n",
       "      <td>NaN</td>\n",
       "      <td>NaN</td>\n",
       "      <td>1476.0</td>\n",
       "      <td>NaN</td>\n",
       "      <td>NaN</td>\n",
       "      <td>NaN</td>\n",
       "      <td>NaN</td>\n",
       "      <td>NaN</td>\n",
       "      <td>Within Lower IQR</td>\n",
       "    </tr>\n",
       "  </tbody>\n",
       "</table>\n",
       "<p>5 rows × 61 columns</p>\n",
       "</div>"
      ],
      "text/plain": [
       "               Created_Date           Complaint Type        Descriptor  \\\n",
       "1539577 2015-12-31 23:53:14      Noise - Residential  Loud Music/Party   \n",
       "1539578 2015-12-31 23:55:51      Noise - Residential  Loud Music/Party   \n",
       "1539579 2015-12-31 23:56:34      Noise - Residential  Loud Music/Party   \n",
       "1539580 2015-12-31 23:59:19      Noise - Residential  Loud Music/Party   \n",
       "1539581 2015-12-31 23:59:45  Noise - Street/Sidewalk  Loud Music/Party   \n",
       "\n",
       "                      Location Type  Zip Code           City        Borough  \\\n",
       "1539577  Residential Building/House     10456          BRONX          BRONX   \n",
       "1539578  Residential Building/House     11416     OZONE PARK         QUEENS   \n",
       "1539579  Residential Building/House     10301  STATEN ISLAND  STATEN ISLAND   \n",
       "1539580  Residential Building/House     10002       NEW YORK      MANHATTAN   \n",
       "1539581             Street/Sidewalk     10034       NEW YORK      MANHATTAN   \n",
       "\n",
       "          Latitude  Longitude                                 Location  \\\n",
       "1539577  40.834988 -73.913096  (40.83498836390913, -73.91309606358962)   \n",
       "1539578  40.689664 -73.838503  (40.68966427375357, -73.83850277971572)   \n",
       "1539579  40.620622 -74.109884  (40.62062246757604, -74.10988401532107)   \n",
       "1539580  40.710478 -73.986571   (40.7104778366638, -73.98657106854841)   \n",
       "1539581  40.865682 -73.923501  (40.86568153633767, -73.92350095571744)   \n",
       "\n",
       "               ...          NM2012  NM2013  NM2014  NM2015  NM2010_cat  \\\n",
       "1539577        ...             NaN     NaN     NaN  1672.0         NaN   \n",
       "1539578        ...             NaN     NaN     NaN  1328.0         NaN   \n",
       "1539579        ...             NaN     NaN     NaN  1520.0         NaN   \n",
       "1539580        ...             NaN     NaN     NaN   964.0         NaN   \n",
       "1539581        ...             NaN     NaN     NaN  1476.0         NaN   \n",
       "\n",
       "         NM2011_cat  NM2012_cat NM2013_cat NM2014_cat         NM2015_cat  \n",
       "1539577         NaN         NaN        NaN        NaN  Within Higher IQR  \n",
       "1539578         NaN         NaN        NaN        NaN   Within Lower IQR  \n",
       "1539579         NaN         NaN        NaN        NaN  Within Higher IQR  \n",
       "1539580         NaN         NaN        NaN        NaN     Lower than IQR  \n",
       "1539581         NaN         NaN        NaN        NaN   Within Lower IQR  \n",
       "\n",
       "[5 rows x 61 columns]"
      ]
     },
     "execution_count": 88,
     "metadata": {},
     "output_type": "execute_result"
    }
   ],
   "source": [
    "final.tail()"
   ]
  },
  {
   "cell_type": "code",
   "execution_count": 89,
   "metadata": {
    "collapsed": false
   },
   "outputs": [],
   "source": [
    "final = final.drop(['Latitude', 'Longitude','Location'],1)"
   ]
  },
  {
   "cell_type": "code",
   "execution_count": 90,
   "metadata": {
    "collapsed": true
   },
   "outputs": [],
   "source": [
    "final['Created_Date'] =pd.to_datetime(final.Created_Date)"
   ]
  },
  {
   "cell_type": "code",
   "execution_count": 98,
   "metadata": {
    "collapsed": false
   },
   "outputs": [],
   "source": [
    "#final = final.drop(['Unnamed: 0'], 1)"
   ]
  },
  {
   "cell_type": "code",
   "execution_count": 23,
   "metadata": {
    "collapsed": false
   },
   "outputs": [
    {
     "data": {
      "text/plain": [
       "Index(['Created_Date', 'Complaint Type', 'Descriptor', 'Location Type',\n",
       "       'Zip Code', 'City', 'Borough', 'Precinct', 'V2010', 'V2011', 'V2012',\n",
       "       'V2013', 'V2014', 'V2015', 'Population', '% Poverty Level', 'V2010_cat',\n",
       "       'V2011_cat', 'V2012_cat', 'V2013_cat', 'V2014_cat', 'V2015_cat',\n",
       "       'Misd2010', 'Misd2011', 'Misd2012', 'Misd2013', 'Misd2014', 'Misd2015',\n",
       "       'Misd2010_cat', 'Misd2011_cat', 'Misd2012_cat', 'Misd2013_cat',\n",
       "       'Misd2014_cat', 'Misd2015_cat', 'M2010', 'M2011', 'M2012', 'M2013',\n",
       "       'M2014', 'M2015', 'M2010_cat', 'M2011_cat', 'M2012_cat', 'M2013_cat',\n",
       "       'M2014_cat', 'M2015_cat', 'NM2010', 'NM2011', 'NM2012', 'NM2013',\n",
       "       'NM2014', 'NM2015', 'NM2010_cat', 'NM2011_cat', 'NM2012_cat',\n",
       "       'NM2013_cat', 'NM2014_cat', 'NM2015_cat'],\n",
       "      dtype='object')"
      ]
     },
     "execution_count": 23,
     "metadata": {},
     "output_type": "execute_result"
    }
   ],
   "source": [
    "final.columns"
   ]
  },
  {
   "cell_type": "code",
   "execution_count": 92,
   "metadata": {
    "collapsed": false
   },
   "outputs": [],
   "source": [
    "test_df1 = pd.melt(final, id_vars=['Created_Date', 'Complaint Type', 'Descriptor', 'Location Type',\n",
    "       'Zip Code', 'City', 'Borough', 'Precinct'], value_vars=['V2010', 'V2011', 'V2012',\n",
    "       'V2013', 'V2014', 'V2015'],var_name='Year', value_name='Violence Crime')"
   ]
  },
  {
   "cell_type": "code",
   "execution_count": 93,
   "metadata": {
    "collapsed": false
   },
   "outputs": [
    {
     "data": {
      "text/html": [
       "<div>\n",
       "<table border=\"1\" class=\"dataframe\">\n",
       "  <thead>\n",
       "    <tr style=\"text-align: right;\">\n",
       "      <th></th>\n",
       "      <th>Created_Date</th>\n",
       "      <th>Complaint Type</th>\n",
       "      <th>Descriptor</th>\n",
       "      <th>Location Type</th>\n",
       "      <th>Zip Code</th>\n",
       "      <th>City</th>\n",
       "      <th>Borough</th>\n",
       "      <th>Precinct</th>\n",
       "      <th>Year</th>\n",
       "      <th>Violence Crime</th>\n",
       "    </tr>\n",
       "  </thead>\n",
       "  <tbody>\n",
       "    <tr>\n",
       "      <th>9237487</th>\n",
       "      <td>2015-12-31 23:53:14</td>\n",
       "      <td>Noise - Residential</td>\n",
       "      <td>Loud Music/Party</td>\n",
       "      <td>Residential Building/House</td>\n",
       "      <td>10456</td>\n",
       "      <td>BRONX</td>\n",
       "      <td>BRONX</td>\n",
       "      <td>42</td>\n",
       "      <td>V2015</td>\n",
       "      <td>2024.0</td>\n",
       "    </tr>\n",
       "    <tr>\n",
       "      <th>9237488</th>\n",
       "      <td>2015-12-31 23:55:51</td>\n",
       "      <td>Noise - Residential</td>\n",
       "      <td>Loud Music/Party</td>\n",
       "      <td>Residential Building/House</td>\n",
       "      <td>11416</td>\n",
       "      <td>OZONE PARK</td>\n",
       "      <td>QUEENS</td>\n",
       "      <td>102</td>\n",
       "      <td>V2015</td>\n",
       "      <td>1862.0</td>\n",
       "    </tr>\n",
       "    <tr>\n",
       "      <th>9237489</th>\n",
       "      <td>2015-12-31 23:56:34</td>\n",
       "      <td>Noise - Residential</td>\n",
       "      <td>Loud Music/Party</td>\n",
       "      <td>Residential Building/House</td>\n",
       "      <td>10301</td>\n",
       "      <td>STATEN ISLAND</td>\n",
       "      <td>STATEN ISLAND</td>\n",
       "      <td>120</td>\n",
       "      <td>V2015</td>\n",
       "      <td>3320.0</td>\n",
       "    </tr>\n",
       "    <tr>\n",
       "      <th>9237490</th>\n",
       "      <td>2015-12-31 23:59:19</td>\n",
       "      <td>Noise - Residential</td>\n",
       "      <td>Loud Music/Party</td>\n",
       "      <td>Residential Building/House</td>\n",
       "      <td>10002</td>\n",
       "      <td>NEW YORK</td>\n",
       "      <td>MANHATTAN</td>\n",
       "      <td>7</td>\n",
       "      <td>V2015</td>\n",
       "      <td>1172.0</td>\n",
       "    </tr>\n",
       "    <tr>\n",
       "      <th>9237491</th>\n",
       "      <td>2015-12-31 23:59:45</td>\n",
       "      <td>Noise - Street/Sidewalk</td>\n",
       "      <td>Loud Music/Party</td>\n",
       "      <td>Street/Sidewalk</td>\n",
       "      <td>10034</td>\n",
       "      <td>NEW YORK</td>\n",
       "      <td>MANHATTAN</td>\n",
       "      <td>34</td>\n",
       "      <td>V2015</td>\n",
       "      <td>1502.0</td>\n",
       "    </tr>\n",
       "  </tbody>\n",
       "</table>\n",
       "</div>"
      ],
      "text/plain": [
       "               Created_Date           Complaint Type        Descriptor  \\\n",
       "9237487 2015-12-31 23:53:14      Noise - Residential  Loud Music/Party   \n",
       "9237488 2015-12-31 23:55:51      Noise - Residential  Loud Music/Party   \n",
       "9237489 2015-12-31 23:56:34      Noise - Residential  Loud Music/Party   \n",
       "9237490 2015-12-31 23:59:19      Noise - Residential  Loud Music/Party   \n",
       "9237491 2015-12-31 23:59:45  Noise - Street/Sidewalk  Loud Music/Party   \n",
       "\n",
       "                      Location Type  Zip Code           City        Borough  \\\n",
       "9237487  Residential Building/House     10456          BRONX          BRONX   \n",
       "9237488  Residential Building/House     11416     OZONE PARK         QUEENS   \n",
       "9237489  Residential Building/House     10301  STATEN ISLAND  STATEN ISLAND   \n",
       "9237490  Residential Building/House     10002       NEW YORK      MANHATTAN   \n",
       "9237491             Street/Sidewalk     10034       NEW YORK      MANHATTAN   \n",
       "\n",
       "         Precinct   Year  Violence Crime  \n",
       "9237487        42  V2015          2024.0  \n",
       "9237488       102  V2015          1862.0  \n",
       "9237489       120  V2015          3320.0  \n",
       "9237490         7  V2015          1172.0  \n",
       "9237491        34  V2015          1502.0  "
      ]
     },
     "execution_count": 93,
     "metadata": {},
     "output_type": "execute_result"
    }
   ],
   "source": [
    "test_df1.tail()"
   ]
  },
  {
   "cell_type": "code",
   "execution_count": 94,
   "metadata": {
    "collapsed": false
   },
   "outputs": [],
   "source": [
    "test_df1 = test_df1[test_df1['Violence Crime'].notnull()]"
   ]
  },
  {
   "cell_type": "code",
   "execution_count": 95,
   "metadata": {
    "collapsed": false
   },
   "outputs": [
    {
     "data": {
      "text/plain": [
       "(1539582, 10)"
      ]
     },
     "execution_count": 95,
     "metadata": {},
     "output_type": "execute_result"
    }
   ],
   "source": [
    "test_df1.shape"
   ]
  },
  {
   "cell_type": "code",
   "execution_count": 96,
   "metadata": {
    "collapsed": true
   },
   "outputs": [],
   "source": [
    "test_df2 = pd.melt(final, id_vars=['Created_Date', 'Complaint Type', 'Descriptor', 'Location Type',\n",
    "       'Zip Code', 'City', 'Borough', 'Precinct'], value_vars=['V2010_cat','V2011_cat', 'V2012_cat', 'V2013_cat', 'V2014_cat', 'V2015_cat'],var_name='Year', value_name='Violence Binning')"
   ]
  },
  {
   "cell_type": "code",
   "execution_count": 97,
   "metadata": {
    "collapsed": false
   },
   "outputs": [
    {
     "data": {
      "text/html": [
       "<div>\n",
       "<table border=\"1\" class=\"dataframe\">\n",
       "  <thead>\n",
       "    <tr style=\"text-align: right;\">\n",
       "      <th></th>\n",
       "      <th>Created_Date</th>\n",
       "      <th>Complaint Type</th>\n",
       "      <th>Descriptor</th>\n",
       "      <th>Location Type</th>\n",
       "      <th>Zip Code</th>\n",
       "      <th>City</th>\n",
       "      <th>Borough</th>\n",
       "      <th>Precinct</th>\n",
       "      <th>Year</th>\n",
       "      <th>Violence Binning</th>\n",
       "    </tr>\n",
       "  </thead>\n",
       "  <tbody>\n",
       "    <tr>\n",
       "      <th>9237487</th>\n",
       "      <td>2015-12-31 23:53:14</td>\n",
       "      <td>Noise - Residential</td>\n",
       "      <td>Loud Music/Party</td>\n",
       "      <td>Residential Building/House</td>\n",
       "      <td>10456</td>\n",
       "      <td>BRONX</td>\n",
       "      <td>BRONX</td>\n",
       "      <td>42</td>\n",
       "      <td>V2015_cat</td>\n",
       "      <td>Within Higher IQR</td>\n",
       "    </tr>\n",
       "    <tr>\n",
       "      <th>9237488</th>\n",
       "      <td>2015-12-31 23:55:51</td>\n",
       "      <td>Noise - Residential</td>\n",
       "      <td>Loud Music/Party</td>\n",
       "      <td>Residential Building/House</td>\n",
       "      <td>11416</td>\n",
       "      <td>OZONE PARK</td>\n",
       "      <td>QUEENS</td>\n",
       "      <td>102</td>\n",
       "      <td>V2015_cat</td>\n",
       "      <td>Within Higher IQR</td>\n",
       "    </tr>\n",
       "    <tr>\n",
       "      <th>9237489</th>\n",
       "      <td>2015-12-31 23:56:34</td>\n",
       "      <td>Noise - Residential</td>\n",
       "      <td>Loud Music/Party</td>\n",
       "      <td>Residential Building/House</td>\n",
       "      <td>10301</td>\n",
       "      <td>STATEN ISLAND</td>\n",
       "      <td>STATEN ISLAND</td>\n",
       "      <td>120</td>\n",
       "      <td>V2015_cat</td>\n",
       "      <td>Higher than IQR</td>\n",
       "    </tr>\n",
       "    <tr>\n",
       "      <th>9237490</th>\n",
       "      <td>2015-12-31 23:59:19</td>\n",
       "      <td>Noise - Residential</td>\n",
       "      <td>Loud Music/Party</td>\n",
       "      <td>Residential Building/House</td>\n",
       "      <td>10002</td>\n",
       "      <td>NEW YORK</td>\n",
       "      <td>MANHATTAN</td>\n",
       "      <td>7</td>\n",
       "      <td>V2015_cat</td>\n",
       "      <td>Lower than IQR</td>\n",
       "    </tr>\n",
       "    <tr>\n",
       "      <th>9237491</th>\n",
       "      <td>2015-12-31 23:59:45</td>\n",
       "      <td>Noise - Street/Sidewalk</td>\n",
       "      <td>Loud Music/Party</td>\n",
       "      <td>Street/Sidewalk</td>\n",
       "      <td>10034</td>\n",
       "      <td>NEW YORK</td>\n",
       "      <td>MANHATTAN</td>\n",
       "      <td>34</td>\n",
       "      <td>V2015_cat</td>\n",
       "      <td>Within Lower IQR</td>\n",
       "    </tr>\n",
       "  </tbody>\n",
       "</table>\n",
       "</div>"
      ],
      "text/plain": [
       "               Created_Date           Complaint Type        Descriptor  \\\n",
       "9237487 2015-12-31 23:53:14      Noise - Residential  Loud Music/Party   \n",
       "9237488 2015-12-31 23:55:51      Noise - Residential  Loud Music/Party   \n",
       "9237489 2015-12-31 23:56:34      Noise - Residential  Loud Music/Party   \n",
       "9237490 2015-12-31 23:59:19      Noise - Residential  Loud Music/Party   \n",
       "9237491 2015-12-31 23:59:45  Noise - Street/Sidewalk  Loud Music/Party   \n",
       "\n",
       "                      Location Type  Zip Code           City        Borough  \\\n",
       "9237487  Residential Building/House     10456          BRONX          BRONX   \n",
       "9237488  Residential Building/House     11416     OZONE PARK         QUEENS   \n",
       "9237489  Residential Building/House     10301  STATEN ISLAND  STATEN ISLAND   \n",
       "9237490  Residential Building/House     10002       NEW YORK      MANHATTAN   \n",
       "9237491             Street/Sidewalk     10034       NEW YORK      MANHATTAN   \n",
       "\n",
       "         Precinct       Year   Violence Binning  \n",
       "9237487        42  V2015_cat  Within Higher IQR  \n",
       "9237488       102  V2015_cat  Within Higher IQR  \n",
       "9237489       120  V2015_cat    Higher than IQR  \n",
       "9237490         7  V2015_cat     Lower than IQR  \n",
       "9237491        34  V2015_cat   Within Lower IQR  "
      ]
     },
     "execution_count": 97,
     "metadata": {},
     "output_type": "execute_result"
    }
   ],
   "source": [
    "test_df2.tail()"
   ]
  },
  {
   "cell_type": "code",
   "execution_count": 99,
   "metadata": {
    "collapsed": true
   },
   "outputs": [],
   "source": [
    "test_df2 = test_df2[test_df2['Violence Binning'].notnull()]"
   ]
  },
  {
   "cell_type": "code",
   "execution_count": 100,
   "metadata": {
    "collapsed": false
   },
   "outputs": [
    {
     "data": {
      "text/plain": [
       "(1539582, 10)"
      ]
     },
     "execution_count": 100,
     "metadata": {},
     "output_type": "execute_result"
    }
   ],
   "source": [
    "test_df2.shape"
   ]
  },
  {
   "cell_type": "code",
   "execution_count": 101,
   "metadata": {
    "collapsed": true
   },
   "outputs": [],
   "source": [
    "test_df3 = pd.melt(final, id_vars=['Created_Date', 'Complaint Type', 'Descriptor', 'Location Type',\n",
    "       'Zip Code', 'City', 'Borough', 'Precinct'], value_vars=['Misd2010', 'Misd2011', 'Misd2012', 'Misd2013', 'Misd2014', 'Misd2015'],var_name='Year', value_name='Misd Crime')"
   ]
  },
  {
   "cell_type": "code",
   "execution_count": 102,
   "metadata": {
    "collapsed": true
   },
   "outputs": [],
   "source": [
    "test_df3 = test_df3[test_df3['Misd Crime'].notnull()]"
   ]
  },
  {
   "cell_type": "code",
   "execution_count": 103,
   "metadata": {
    "collapsed": false
   },
   "outputs": [
    {
     "data": {
      "text/plain": [
       "(1539582, 10)"
      ]
     },
     "execution_count": 103,
     "metadata": {},
     "output_type": "execute_result"
    }
   ],
   "source": [
    "test_df3.shape"
   ]
  },
  {
   "cell_type": "code",
   "execution_count": 104,
   "metadata": {
    "collapsed": true
   },
   "outputs": [],
   "source": [
    "test_df4 = pd.melt(final, id_vars=['Created_Date', 'Complaint Type', 'Descriptor', 'Location Type',\n",
    "       'Zip Code', 'City', 'Borough', 'Precinct'], value_vars=['Misd2010_cat', 'Misd2011_cat', 'Misd2012_cat', 'Misd2013_cat',\n",
    "       'Misd2014_cat', 'Misd2015_cat'],var_name='Year', value_name='Misd Binning')"
   ]
  },
  {
   "cell_type": "code",
   "execution_count": 105,
   "metadata": {
    "collapsed": false
   },
   "outputs": [],
   "source": [
    "test_df4 = test_df4[test_df4['Misd Binning'].notnull()]"
   ]
  },
  {
   "cell_type": "code",
   "execution_count": 106,
   "metadata": {
    "collapsed": false
   },
   "outputs": [
    {
     "data": {
      "text/plain": [
       "(1539582, 10)"
      ]
     },
     "execution_count": 106,
     "metadata": {},
     "output_type": "execute_result"
    }
   ],
   "source": [
    "test_df4.shape"
   ]
  },
  {
   "cell_type": "code",
   "execution_count": 107,
   "metadata": {
    "collapsed": false
   },
   "outputs": [],
   "source": [
    "test_df5 = pd.melt(final, id_vars=['Created_Date', 'Complaint Type', 'Descriptor', 'Location Type',\n",
    "       'Zip Code', 'City', 'Borough', 'Precinct'], value_vars=['M2010', 'M2011', 'M2012', 'M2013',\n",
    "       'M2014', 'M2015'],var_name='Year', value_name='Major Crime')"
   ]
  },
  {
   "cell_type": "code",
   "execution_count": 108,
   "metadata": {
    "collapsed": false
   },
   "outputs": [],
   "source": [
    "test_df5 = test_df5[test_df5['Major Crime'].notnull()]"
   ]
  },
  {
   "cell_type": "code",
   "execution_count": 109,
   "metadata": {
    "collapsed": false
   },
   "outputs": [
    {
     "data": {
      "text/plain": [
       "(1539582, 10)"
      ]
     },
     "execution_count": 109,
     "metadata": {},
     "output_type": "execute_result"
    }
   ],
   "source": [
    "test_df5.shape"
   ]
  },
  {
   "cell_type": "code",
   "execution_count": 110,
   "metadata": {
    "collapsed": true
   },
   "outputs": [],
   "source": [
    "test_df6 = pd.melt(final, id_vars=['Created_Date', 'Complaint Type', 'Descriptor', 'Location Type',\n",
    "       'Zip Code', 'City', 'Borough', 'Precinct'], value_vars=['M2010_cat', 'M2011_cat', 'M2012_cat', 'M2013_cat',\n",
    "       'M2014_cat', 'M2015_cat'],var_name='Year', value_name='Major Binning')"
   ]
  },
  {
   "cell_type": "code",
   "execution_count": 111,
   "metadata": {
    "collapsed": false
   },
   "outputs": [],
   "source": [
    "test_df6 = test_df6[test_df6['Major Binning'].notnull()]"
   ]
  },
  {
   "cell_type": "code",
   "execution_count": 112,
   "metadata": {
    "collapsed": false
   },
   "outputs": [
    {
     "data": {
      "text/plain": [
       "(1539582, 10)"
      ]
     },
     "execution_count": 112,
     "metadata": {},
     "output_type": "execute_result"
    }
   ],
   "source": [
    "test_df6.shape"
   ]
  },
  {
   "cell_type": "code",
   "execution_count": 113,
   "metadata": {
    "collapsed": true
   },
   "outputs": [],
   "source": [
    "test_df7 = pd.melt(final, id_vars=['Created_Date', 'Complaint Type', 'Descriptor', 'Location Type',\n",
    "       'Zip Code', 'City', 'Borough', 'Precinct'], value_vars=['NM2010', 'NM2011', 'NM2012', 'NM2013',\n",
    "       'NM2014', 'NM2015'],var_name='Year', value_name='Nonmajor Crime')"
   ]
  },
  {
   "cell_type": "code",
   "execution_count": 114,
   "metadata": {
    "collapsed": false
   },
   "outputs": [],
   "source": [
    "test_df7 = test_df7[test_df7['Nonmajor Crime'].notnull()]"
   ]
  },
  {
   "cell_type": "code",
   "execution_count": 115,
   "metadata": {
    "collapsed": false
   },
   "outputs": [
    {
     "data": {
      "text/plain": [
       "(1539582, 10)"
      ]
     },
     "execution_count": 115,
     "metadata": {},
     "output_type": "execute_result"
    }
   ],
   "source": [
    "test_df7.shape"
   ]
  },
  {
   "cell_type": "code",
   "execution_count": 116,
   "metadata": {
    "collapsed": true
   },
   "outputs": [],
   "source": [
    "test_df8 = pd.melt(final, id_vars=['Created_Date', 'Complaint Type', 'Descriptor', 'Location Type',\n",
    "       'Zip Code', 'City', 'Borough', 'Precinct'], value_vars=['NM2010_cat', 'NM2011_cat', 'NM2012_cat',\n",
    "       'NM2013_cat', 'NM2014_cat', 'NM2015_cat'],var_name='Year', value_name='Nonmajor Binning')"
   ]
  },
  {
   "cell_type": "code",
   "execution_count": 117,
   "metadata": {
    "collapsed": false
   },
   "outputs": [],
   "source": [
    "test_df8 = test_df8[test_df8['Nonmajor Binning'].notnull()]"
   ]
  },
  {
   "cell_type": "code",
   "execution_count": 118,
   "metadata": {
    "collapsed": false
   },
   "outputs": [
    {
     "data": {
      "text/html": [
       "<div>\n",
       "<table border=\"1\" class=\"dataframe\">\n",
       "  <thead>\n",
       "    <tr style=\"text-align: right;\">\n",
       "      <th></th>\n",
       "      <th>Created_Date</th>\n",
       "      <th>Complaint Type</th>\n",
       "      <th>Descriptor</th>\n",
       "      <th>Location Type</th>\n",
       "      <th>Zip Code</th>\n",
       "      <th>City</th>\n",
       "      <th>Borough</th>\n",
       "      <th>Precinct</th>\n",
       "      <th>Year</th>\n",
       "      <th>Nonmajor Binning</th>\n",
       "    </tr>\n",
       "  </thead>\n",
       "  <tbody>\n",
       "    <tr>\n",
       "      <th>0</th>\n",
       "      <td>2010-01-01 00:03:46</td>\n",
       "      <td>Noise - Residential</td>\n",
       "      <td>Loud Television</td>\n",
       "      <td>Residential Building/House</td>\n",
       "      <td>11230</td>\n",
       "      <td>BROOKLYN</td>\n",
       "      <td>BROOKLYN</td>\n",
       "      <td>70</td>\n",
       "      <td>NM2010_cat</td>\n",
       "      <td>Within Higher IQR</td>\n",
       "    </tr>\n",
       "    <tr>\n",
       "      <th>1</th>\n",
       "      <td>2010-01-01 00:08:02</td>\n",
       "      <td>Noise - Residential</td>\n",
       "      <td>Loud Music/Party</td>\n",
       "      <td>Residential Building/House</td>\n",
       "      <td>11220</td>\n",
       "      <td>BROOKLYN</td>\n",
       "      <td>BROOKLYN</td>\n",
       "      <td>68</td>\n",
       "      <td>NM2010_cat</td>\n",
       "      <td>Lower than IQR</td>\n",
       "    </tr>\n",
       "    <tr>\n",
       "      <th>2</th>\n",
       "      <td>2010-01-01 00:15:08</td>\n",
       "      <td>Noise - Residential</td>\n",
       "      <td>Banging/Pounding</td>\n",
       "      <td>Residential Building/House</td>\n",
       "      <td>11355</td>\n",
       "      <td>FLUSHING</td>\n",
       "      <td>QUEENS</td>\n",
       "      <td>109</td>\n",
       "      <td>NM2010_cat</td>\n",
       "      <td>Within Higher IQR</td>\n",
       "    </tr>\n",
       "    <tr>\n",
       "      <th>3</th>\n",
       "      <td>2010-01-01 00:15:12</td>\n",
       "      <td>Noise - Residential</td>\n",
       "      <td>Loud Music/Party</td>\n",
       "      <td>Residential Building/House</td>\n",
       "      <td>10014</td>\n",
       "      <td>NEW YORK</td>\n",
       "      <td>MANHATTAN</td>\n",
       "      <td>6</td>\n",
       "      <td>NM2010_cat</td>\n",
       "      <td>Within Lower IQR</td>\n",
       "    </tr>\n",
       "    <tr>\n",
       "      <th>4</th>\n",
       "      <td>2010-01-01 00:15:51</td>\n",
       "      <td>Noise - Commercial</td>\n",
       "      <td>Loud Music/Party</td>\n",
       "      <td>Club/Bar/Restaurant</td>\n",
       "      <td>11220</td>\n",
       "      <td>BROOKLYN</td>\n",
       "      <td>BROOKLYN</td>\n",
       "      <td>68</td>\n",
       "      <td>NM2010_cat</td>\n",
       "      <td>Lower than IQR</td>\n",
       "    </tr>\n",
       "  </tbody>\n",
       "</table>\n",
       "</div>"
      ],
      "text/plain": [
       "         Created_Date       Complaint Type        Descriptor  \\\n",
       "0 2010-01-01 00:03:46  Noise - Residential   Loud Television   \n",
       "1 2010-01-01 00:08:02  Noise - Residential  Loud Music/Party   \n",
       "2 2010-01-01 00:15:08  Noise - Residential  Banging/Pounding   \n",
       "3 2010-01-01 00:15:12  Noise - Residential  Loud Music/Party   \n",
       "4 2010-01-01 00:15:51   Noise - Commercial  Loud Music/Party   \n",
       "\n",
       "                Location Type  Zip Code      City    Borough  Precinct  \\\n",
       "0  Residential Building/House     11230  BROOKLYN   BROOKLYN        70   \n",
       "1  Residential Building/House     11220  BROOKLYN   BROOKLYN        68   \n",
       "2  Residential Building/House     11355  FLUSHING     QUEENS       109   \n",
       "3  Residential Building/House     10014  NEW YORK  MANHATTAN         6   \n",
       "4         Club/Bar/Restaurant     11220  BROOKLYN   BROOKLYN        68   \n",
       "\n",
       "         Year   Nonmajor Binning  \n",
       "0  NM2010_cat  Within Higher IQR  \n",
       "1  NM2010_cat     Lower than IQR  \n",
       "2  NM2010_cat  Within Higher IQR  \n",
       "3  NM2010_cat   Within Lower IQR  \n",
       "4  NM2010_cat     Lower than IQR  "
      ]
     },
     "execution_count": 118,
     "metadata": {},
     "output_type": "execute_result"
    }
   ],
   "source": [
    "test_df8.head()"
   ]
  },
  {
   "cell_type": "code",
   "execution_count": 119,
   "metadata": {
    "collapsed": true
   },
   "outputs": [],
   "source": [
    "test_df1['Year'] = test_df1['Year'].str.replace('V2010','2010')\n",
    "test_df1['Year'] = test_df1['Year'].str.replace('V2011','2011')\n",
    "test_df1['Year'] = test_df1['Year'].str.replace('V2012','2012')\n",
    "test_df1['Year'] = test_df1['Year'].str.replace('V2013','2013')\n",
    "test_df1['Year'] = test_df1['Year'].str.replace('V2014','2014')\n",
    "test_df1['Year'] = test_df1['Year'].str.replace('V2015','2015')"
   ]
  },
  {
   "cell_type": "code",
   "execution_count": 120,
   "metadata": {
    "collapsed": false
   },
   "outputs": [],
   "source": [
    "test_df2['Year'] = test_df2['Year'].str.replace('V2010_cat','2010')\n",
    "test_df2['Year'] = test_df2['Year'].str.replace('V2011_cat','2011')\n",
    "test_df2['Year'] = test_df2['Year'].str.replace('V2012_cat','2012')\n",
    "test_df2['Year'] = test_df2['Year'].str.replace('V2013_cat','2013')\n",
    "test_df2['Year'] = test_df2['Year'].str.replace('V2014_cat','2014')\n",
    "test_df2['Year'] = test_df2['Year'].str.replace('V2015_cat','2015')\n",
    "test_df3['Year'] = test_df3['Year'].str.replace('Misd2010','2010')\n",
    "test_df3['Year'] = test_df3['Year'].str.replace('Misd2011','2011')\n",
    "test_df3['Year'] = test_df3['Year'].str.replace('Misd2012','2012')\n",
    "test_df3['Year'] = test_df3['Year'].str.replace('Misd2013','2013')\n",
    "test_df3['Year'] = test_df3['Year'].str.replace('Misd2014','2014')\n",
    "test_df3['Year'] = test_df3['Year'].str.replace('Misd2015','2015')\n",
    "test_df4['Year'] = test_df4['Year'].str.replace('Misd2010_cat','2010')\n",
    "test_df4['Year'] = test_df4['Year'].str.replace('Misd2011_cat','2011')\n",
    "test_df4['Year'] = test_df4['Year'].str.replace('Misd2012_cat','2012')\n",
    "test_df4['Year'] = test_df4['Year'].str.replace('Misd2013_cat','2013')\n",
    "test_df4['Year'] = test_df4['Year'].str.replace('Misd2014_cat','2014')\n",
    "test_df4['Year'] = test_df4['Year'].str.replace('Misd2015_cat','2015')\n",
    "test_df5['Year'] = test_df5['Year'].str.replace('M2010','2010')\n",
    "test_df5['Year'] = test_df5['Year'].str.replace('M2011','2011')\n",
    "test_df5['Year'] = test_df5['Year'].str.replace('M2012','2012')\n",
    "test_df5['Year'] = test_df5['Year'].str.replace('M2013','2013')\n",
    "test_df5['Year'] = test_df5['Year'].str.replace('M2014','2014')\n",
    "test_df5['Year'] = test_df5['Year'].str.replace('M2015','2015')\n",
    "test_df6['Year'] = test_df6['Year'].str.replace('M2010_cat','2010')\n",
    "test_df6['Year'] = test_df6['Year'].str.replace('M2011_cat','2011')\n",
    "test_df6['Year'] = test_df6['Year'].str.replace('M2012_cat','2012')\n",
    "test_df6['Year'] = test_df6['Year'].str.replace('M2013_cat','2013')\n",
    "test_df6['Year'] = test_df6['Year'].str.replace('M2014_cat','2014')\n",
    "test_df6['Year'] = test_df6['Year'].str.replace('M2015_cat','2015')\n",
    "test_df7['Year'] = test_df7['Year'].str.replace('NM2010','2010')\n",
    "test_df7['Year'] = test_df7['Year'].str.replace('NM2011','2011')\n",
    "test_df7['Year'] = test_df7['Year'].str.replace('NM2012','2012')\n",
    "test_df7['Year'] = test_df7['Year'].str.replace('NM2013','2013')\n",
    "test_df7['Year'] = test_df7['Year'].str.replace('NM2014','2014')\n",
    "test_df7['Year'] = test_df7['Year'].str.replace('NM2015','2015')\n",
    "test_df8['Year'] = test_df8['Year'].str.replace('NM2010_cat','2010')\n",
    "test_df8['Year'] = test_df8['Year'].str.replace('NM2011_cat','2011')\n",
    "test_df8['Year'] = test_df8['Year'].str.replace('NM2012_cat','2012')\n",
    "test_df8['Year'] = test_df8['Year'].str.replace('NM2013_cat','2013')\n",
    "test_df8['Year'] = test_df8['Year'].str.replace('NM2014_cat','2014')\n",
    "test_df8['Year'] = test_df8['Year'].str.replace('NM2015_cat','2015')"
   ]
  },
  {
   "cell_type": "code",
   "execution_count": 121,
   "metadata": {
    "collapsed": false
   },
   "outputs": [],
   "source": [
    "test_df9 = final[['Created_Date', 'Complaint Type', 'Descriptor', 'Location Type', 'Zip Code', 'City', 'Borough', 'Precinct', 'Population', '% Poverty Level']]"
   ]
  },
  {
   "cell_type": "code",
   "execution_count": 122,
   "metadata": {
    "collapsed": false
   },
   "outputs": [],
   "source": [
    "test_df1 = test_df1.reset_index()\n",
    "test_df2 = test_df2.reset_index()\n",
    "test_df3 = test_df3.reset_index()\n",
    "test_df4 = test_df4.reset_index()\n",
    "test_df5 = test_df5.reset_index()\n",
    "test_df6 = test_df6.reset_index()\n",
    "test_df7 = test_df7.reset_index()\n",
    "test_df8 = test_df8.reset_index()"
   ]
  },
  {
   "cell_type": "code",
   "execution_count": 123,
   "metadata": {
    "collapsed": true
   },
   "outputs": [],
   "source": [
    "dataframe1 = test_df1[['Year','Violence Crime']]"
   ]
  },
  {
   "cell_type": "code",
   "execution_count": 124,
   "metadata": {
    "collapsed": false
   },
   "outputs": [],
   "source": [
    "result_df1 = test_df9.join(dataframe1)"
   ]
  },
  {
   "cell_type": "code",
   "execution_count": 125,
   "metadata": {
    "collapsed": false
   },
   "outputs": [],
   "source": [
    "dataframe2 = test_df2[['Violence Binning']]"
   ]
  },
  {
   "cell_type": "code",
   "execution_count": 126,
   "metadata": {
    "collapsed": false
   },
   "outputs": [],
   "source": [
    "result_df2 = result_df1.join(dataframe2)"
   ]
  },
  {
   "cell_type": "code",
   "execution_count": 127,
   "metadata": {
    "collapsed": true
   },
   "outputs": [],
   "source": [
    "dataframe3 = test_df3[['Misd Crime']]"
   ]
  },
  {
   "cell_type": "code",
   "execution_count": 128,
   "metadata": {
    "collapsed": true
   },
   "outputs": [],
   "source": [
    "result_df3 = result_df2.join(dataframe3)"
   ]
  },
  {
   "cell_type": "code",
   "execution_count": 129,
   "metadata": {
    "collapsed": true
   },
   "outputs": [],
   "source": [
    "dataframe4 = test_df4[['Misd Binning']]"
   ]
  },
  {
   "cell_type": "code",
   "execution_count": 130,
   "metadata": {
    "collapsed": true
   },
   "outputs": [],
   "source": [
    "result_df4 = result_df3.join(dataframe4)"
   ]
  },
  {
   "cell_type": "code",
   "execution_count": 131,
   "metadata": {
    "collapsed": true
   },
   "outputs": [],
   "source": [
    "dataframe5 = test_df5[['Major Crime']]"
   ]
  },
  {
   "cell_type": "code",
   "execution_count": 132,
   "metadata": {
    "collapsed": true
   },
   "outputs": [],
   "source": [
    "result_df5 = result_df4.join(dataframe5)"
   ]
  },
  {
   "cell_type": "code",
   "execution_count": 133,
   "metadata": {
    "collapsed": true
   },
   "outputs": [],
   "source": [
    "dataframe6 = test_df6[['Major Binning']]"
   ]
  },
  {
   "cell_type": "code",
   "execution_count": 134,
   "metadata": {
    "collapsed": true
   },
   "outputs": [],
   "source": [
    "result_df6 = result_df5.join(dataframe6)"
   ]
  },
  {
   "cell_type": "code",
   "execution_count": 135,
   "metadata": {
    "collapsed": true
   },
   "outputs": [],
   "source": [
    "dataframe7 = test_df7[['Nonmajor Crime']]"
   ]
  },
  {
   "cell_type": "code",
   "execution_count": 136,
   "metadata": {
    "collapsed": true
   },
   "outputs": [],
   "source": [
    "result_df7 = result_df6.join(dataframe7)"
   ]
  },
  {
   "cell_type": "code",
   "execution_count": 137,
   "metadata": {
    "collapsed": true
   },
   "outputs": [],
   "source": [
    "dataframe8 = test_df8[['Nonmajor Binning']]"
   ]
  },
  {
   "cell_type": "code",
   "execution_count": 138,
   "metadata": {
    "collapsed": true
   },
   "outputs": [],
   "source": [
    "result_df8 = result_df7.join(dataframe8)"
   ]
  },
  {
   "cell_type": "code",
   "execution_count": 139,
   "metadata": {
    "collapsed": false
   },
   "outputs": [
    {
     "data": {
      "text/html": [
       "<div>\n",
       "<table border=\"1\" class=\"dataframe\">\n",
       "  <thead>\n",
       "    <tr style=\"text-align: right;\">\n",
       "      <th></th>\n",
       "      <th>Created_Date</th>\n",
       "      <th>Complaint Type</th>\n",
       "      <th>Descriptor</th>\n",
       "      <th>Location Type</th>\n",
       "      <th>Zip Code</th>\n",
       "      <th>City</th>\n",
       "      <th>Borough</th>\n",
       "      <th>Precinct</th>\n",
       "      <th>Population</th>\n",
       "      <th>% Poverty Level</th>\n",
       "      <th>Year</th>\n",
       "      <th>Violence Crime</th>\n",
       "      <th>Violence Binning</th>\n",
       "      <th>Misd Crime</th>\n",
       "      <th>Misd Binning</th>\n",
       "      <th>Major Crime</th>\n",
       "      <th>Major Binning</th>\n",
       "      <th>Nonmajor Crime</th>\n",
       "      <th>Nonmajor Binning</th>\n",
       "    </tr>\n",
       "  </thead>\n",
       "  <tbody>\n",
       "    <tr>\n",
       "      <th>1539577</th>\n",
       "      <td>2015-12-31 23:53:14</td>\n",
       "      <td>Noise - Residential</td>\n",
       "      <td>Loud Music/Party</td>\n",
       "      <td>Residential Building/House</td>\n",
       "      <td>10456</td>\n",
       "      <td>BRONX</td>\n",
       "      <td>BRONX</td>\n",
       "      <td>42</td>\n",
       "      <td>76,656</td>\n",
       "      <td>64.49 %</td>\n",
       "      <td>2015</td>\n",
       "      <td>2024.0</td>\n",
       "      <td>Within Higher IQR</td>\n",
       "      <td>11306.0</td>\n",
       "      <td>Higher than IQR</td>\n",
       "      <td>2686.0</td>\n",
       "      <td>Within Lower IQR</td>\n",
       "      <td>1672.0</td>\n",
       "      <td>Within Higher IQR</td>\n",
       "    </tr>\n",
       "    <tr>\n",
       "      <th>1539578</th>\n",
       "      <td>2015-12-31 23:55:51</td>\n",
       "      <td>Noise - Residential</td>\n",
       "      <td>Loud Music/Party</td>\n",
       "      <td>Residential Building/House</td>\n",
       "      <td>11416</td>\n",
       "      <td>OZONE PARK</td>\n",
       "      <td>QUEENS</td>\n",
       "      <td>102</td>\n",
       "      <td>23,668</td>\n",
       "      <td>23.26 %</td>\n",
       "      <td>2015</td>\n",
       "      <td>1862.0</td>\n",
       "      <td>Within Higher IQR</td>\n",
       "      <td>6696.0</td>\n",
       "      <td>Within Lower IQR</td>\n",
       "      <td>2850.0</td>\n",
       "      <td>Within Higher IQR</td>\n",
       "      <td>1328.0</td>\n",
       "      <td>Within Lower IQR</td>\n",
       "    </tr>\n",
       "    <tr>\n",
       "      <th>1539579</th>\n",
       "      <td>2015-12-31 23:56:34</td>\n",
       "      <td>Noise - Residential</td>\n",
       "      <td>Loud Music/Party</td>\n",
       "      <td>Residential Building/House</td>\n",
       "      <td>10301</td>\n",
       "      <td>STATEN ISLAND</td>\n",
       "      <td>STATEN ISLAND</td>\n",
       "      <td>120</td>\n",
       "      <td>38,805</td>\n",
       "      <td>18.16 %</td>\n",
       "      <td>2015</td>\n",
       "      <td>3320.0</td>\n",
       "      <td>Higher than IQR</td>\n",
       "      <td>9448.0</td>\n",
       "      <td>Within Higher IQR</td>\n",
       "      <td>2294.0</td>\n",
       "      <td>Within Lower IQR</td>\n",
       "      <td>1520.0</td>\n",
       "      <td>Within Higher IQR</td>\n",
       "    </tr>\n",
       "    <tr>\n",
       "      <th>1539580</th>\n",
       "      <td>2015-12-31 23:59:19</td>\n",
       "      <td>Noise - Residential</td>\n",
       "      <td>Loud Music/Party</td>\n",
       "      <td>Residential Building/House</td>\n",
       "      <td>10002</td>\n",
       "      <td>NEW YORK</td>\n",
       "      <td>MANHATTAN</td>\n",
       "      <td>7</td>\n",
       "      <td>84,870</td>\n",
       "      <td>35.04 %</td>\n",
       "      <td>2015</td>\n",
       "      <td>1172.0</td>\n",
       "      <td>Lower than IQR</td>\n",
       "      <td>5864.0</td>\n",
       "      <td>Lower than IQR</td>\n",
       "      <td>1562.0</td>\n",
       "      <td>Lower than IQR</td>\n",
       "      <td>964.0</td>\n",
       "      <td>Lower than IQR</td>\n",
       "    </tr>\n",
       "    <tr>\n",
       "      <th>1539581</th>\n",
       "      <td>2015-12-31 23:59:45</td>\n",
       "      <td>Noise - Street/Sidewalk</td>\n",
       "      <td>Loud Music/Party</td>\n",
       "      <td>Street/Sidewalk</td>\n",
       "      <td>10034</td>\n",
       "      <td>NEW YORK</td>\n",
       "      <td>MANHATTAN</td>\n",
       "      <td>34</td>\n",
       "      <td>41,756</td>\n",
       "      <td>37.89 %</td>\n",
       "      <td>2015</td>\n",
       "      <td>1502.0</td>\n",
       "      <td>Within Lower IQR</td>\n",
       "      <td>7926.0</td>\n",
       "      <td>Within Lower IQR</td>\n",
       "      <td>2630.0</td>\n",
       "      <td>Within Lower IQR</td>\n",
       "      <td>1476.0</td>\n",
       "      <td>Within Lower IQR</td>\n",
       "    </tr>\n",
       "  </tbody>\n",
       "</table>\n",
       "</div>"
      ],
      "text/plain": [
       "               Created_Date           Complaint Type        Descriptor  \\\n",
       "1539577 2015-12-31 23:53:14      Noise - Residential  Loud Music/Party   \n",
       "1539578 2015-12-31 23:55:51      Noise - Residential  Loud Music/Party   \n",
       "1539579 2015-12-31 23:56:34      Noise - Residential  Loud Music/Party   \n",
       "1539580 2015-12-31 23:59:19      Noise - Residential  Loud Music/Party   \n",
       "1539581 2015-12-31 23:59:45  Noise - Street/Sidewalk  Loud Music/Party   \n",
       "\n",
       "                      Location Type  Zip Code           City        Borough  \\\n",
       "1539577  Residential Building/House     10456          BRONX          BRONX   \n",
       "1539578  Residential Building/House     11416     OZONE PARK         QUEENS   \n",
       "1539579  Residential Building/House     10301  STATEN ISLAND  STATEN ISLAND   \n",
       "1539580  Residential Building/House     10002       NEW YORK      MANHATTAN   \n",
       "1539581             Street/Sidewalk     10034       NEW YORK      MANHATTAN   \n",
       "\n",
       "         Precinct Population % Poverty Level  Year  Violence Crime  \\\n",
       "1539577        42     76,656         64.49 %  2015          2024.0   \n",
       "1539578       102     23,668         23.26 %  2015          1862.0   \n",
       "1539579       120     38,805         18.16 %  2015          3320.0   \n",
       "1539580         7     84,870         35.04 %  2015          1172.0   \n",
       "1539581        34     41,756         37.89 %  2015          1502.0   \n",
       "\n",
       "          Violence Binning  Misd Crime       Misd Binning  Major Crime  \\\n",
       "1539577  Within Higher IQR     11306.0    Higher than IQR       2686.0   \n",
       "1539578  Within Higher IQR      6696.0   Within Lower IQR       2850.0   \n",
       "1539579    Higher than IQR      9448.0  Within Higher IQR       2294.0   \n",
       "1539580     Lower than IQR      5864.0     Lower than IQR       1562.0   \n",
       "1539581   Within Lower IQR      7926.0   Within Lower IQR       2630.0   \n",
       "\n",
       "             Major Binning  Nonmajor Crime   Nonmajor Binning  \n",
       "1539577   Within Lower IQR          1672.0  Within Higher IQR  \n",
       "1539578  Within Higher IQR          1328.0   Within Lower IQR  \n",
       "1539579   Within Lower IQR          1520.0  Within Higher IQR  \n",
       "1539580     Lower than IQR           964.0     Lower than IQR  \n",
       "1539581   Within Lower IQR          1476.0   Within Lower IQR  "
      ]
     },
     "execution_count": 139,
     "metadata": {},
     "output_type": "execute_result"
    }
   ],
   "source": [
    "result_df8.tail()"
   ]
  },
  {
   "cell_type": "code",
   "execution_count": 92,
   "metadata": {
    "collapsed": true
   },
   "outputs": [],
   "source": [
    "result_df8.to_csv('result_df.csv',sep = '\\t')"
   ]
  },
  {
   "cell_type": "code",
   "execution_count": 140,
   "metadata": {
    "collapsed": false
   },
   "outputs": [],
   "source": [
    "result_df8['Violence Binning'] =  result_df8['Violence Binning'].str.replace('Within Lower IQR','VC Within Lower IQR')\n",
    "result_df8['Violence Binning'] =  result_df8['Violence Binning'].str.replace('Within Higher IQR','VC Within Higher IQR')\n",
    "result_df8['Violence Binning'] =  result_df8['Violence Binning'].str.replace('Higher than IQR','VC Higher than IQR')\n",
    "result_df8['Violence Binning'] =  result_df8['Violence Binning'].str.replace('Lower than IQR','VC Lower than IQR')\n",
    "result_df8['Violence Binning'] =  result_df8['Violence Binning'].str.replace('Low Outliers','VC Low Outliers')\n",
    "result_df8['Violence Binning'] =  result_df8['Violence Binning'].str.replace('Higher outliers','VC High Outliers')"
   ]
  },
  {
   "cell_type": "code",
   "execution_count": 141,
   "metadata": {
    "collapsed": false
   },
   "outputs": [],
   "source": [
    "result_df8['Misd Binning'] =  result_df8['Misd Binning'].str.replace('Within Lower IQR','Misd Within Lower IQR')\n",
    "result_df8['Misd Binning'] =  result_df8['Misd Binning'].str.replace('Within Higher IQR','Misd Within Higher IQR')\n",
    "result_df8['Misd Binning'] =  result_df8['Misd Binning'].str.replace('Higher than IQR','Misd Higher than IQR')\n",
    "result_df8['Misd Binning'] =  result_df8['Misd Binning'].str.replace('Lower than IQR','Misd Lower than IQR')\n",
    "result_df8['Misd Binning'] =  result_df8['Misd Binning'].str.replace('Low Outliers','Misd Low Outliers')\n",
    "result_df8['Misd Binning'] =  result_df8['Misd Binning'].str.replace('Higher outliers','Misd High Outliers')"
   ]
  },
  {
   "cell_type": "code",
   "execution_count": 142,
   "metadata": {
    "collapsed": true
   },
   "outputs": [],
   "source": [
    "result_df8['Major Binning'] =  result_df8['Major Binning'].str.replace('Within Lower IQR','Major Within Lower IQR')\n",
    "result_df8['Major Binning'] =  result_df8['Major Binning'].str.replace('Within Higher IQR','Major Within Higher IQR')\n",
    "result_df8['Major Binning'] =  result_df8['Major Binning'].str.replace('Higher than IQR','Major Higher than IQR')\n",
    "result_df8['Major Binning'] =  result_df8['Major Binning'].str.replace('Lower than IQR','Major Lower than IQR')\n",
    "result_df8['Major Binning'] =  result_df8['Major Binning'].str.replace('Low Outliers','Major Low Outliers')\n",
    "result_df8['Major Binning'] =  result_df8['Major Binning'].str.replace('Higher outliers','Major High Outliers')"
   ]
  },
  {
   "cell_type": "code",
   "execution_count": 143,
   "metadata": {
    "collapsed": false
   },
   "outputs": [],
   "source": [
    "result_df8['Nonmajor Binning'] =  result_df8['Nonmajor Binning'].str.replace('Within Lower IQR','Nonmajor Within Lower IQR')\n",
    "result_df8['Nonmajor Binning'] =  result_df8['Nonmajor Binning'].str.replace('Within Higher IQR','Nonmajor Within Higher IQR')\n",
    "result_df8['Nonmajor Binning'] =  result_df8['Nonmajor Binning'].str.replace('Higher than IQR','Nonmajor Higher than IQR')\n",
    "result_df8['Nonmajor Binning'] =  result_df8['Nonmajor Binning'].str.replace('Lower than IQR','Nonmajor Lower than IQR')\n",
    "result_df8['Nonmajor Binning'] =  result_df8['Nonmajor Binning'].str.replace('Low Outliers','Nonmajor Low Outliers')\n",
    "result_df8['Nonmajor Binning'] =  result_df8['Nonmajor Binning'].str.replace('Higher outliers','Nonmajor High Outliers')"
   ]
  },
  {
   "cell_type": "markdown",
   "metadata": {},
   "source": [
    "#Codes for manipulating result_df8 so that population and poverty level are nominal"
   ]
  },
  {
   "cell_type": "code",
   "execution_count": 144,
   "metadata": {
    "collapsed": false
   },
   "outputs": [],
   "source": [
    "result_df8 = result_df8.drop(['Violence Crime', 'Misd Crime', 'Major Crime', 'Nonmajor Crime'],1)"
   ]
  },
  {
   "cell_type": "code",
   "execution_count": 145,
   "metadata": {
    "collapsed": false
   },
   "outputs": [],
   "source": [
    "result_df8['Population'] = result_df8.Population.str.replace(',','').astype(int)"
   ]
  },
  {
   "cell_type": "code",
   "execution_count": 146,
   "metadata": {
    "collapsed": false
   },
   "outputs": [],
   "source": [
    "result_df8.loc[:,['Population']] = binning(result_df8['Population'])"
   ]
  },
  {
   "cell_type": "code",
   "execution_count": 147,
   "metadata": {
    "collapsed": false
   },
   "outputs": [],
   "source": [
    "result_df8['Population'] =  result_df8['Population'].str.replace('Within Lower IQR','Population Within Lower IQR')\n",
    "result_df8['Population'] =  result_df8['Population'].str.replace('Within Higher IQR','Population Within Higher IQR')\n",
    "result_df8['Population'] =  result_df8['Population'].str.replace('Higher than IQR','Population Higher than IQR')\n",
    "result_df8['Population'] =  result_df8['Population'].str.replace('Lower than IQR','Population Lower than IQR')\n",
    "result_df8['Population'] =  result_df8['Population'].str.replace('Low Outliers','Population Low Outliers')\n",
    "result_df8['Population'] =  result_df8['Population'].str.replace('Higher outliers','Population High Outliers')"
   ]
  },
  {
   "cell_type": "code",
   "execution_count": 148,
   "metadata": {
    "collapsed": true
   },
   "outputs": [],
   "source": [
    "result_df8['% Poverty Level'] = result_df8['% Poverty Level'].str.replace('%','')\n",
    "#result_df8['% Poverty Level'] = result_df8.Population.str.replace(',','')"
   ]
  },
  {
   "cell_type": "code",
   "execution_count": 149,
   "metadata": {
    "collapsed": true
   },
   "outputs": [],
   "source": [
    "result_df8['% Poverty Level'] = result_df8['% Poverty Level'].astype(float)"
   ]
  },
  {
   "cell_type": "code",
   "execution_count": 150,
   "metadata": {
    "collapsed": false,
    "scrolled": true
   },
   "outputs": [],
   "source": [
    "result_df8.loc[:,['% Poverty Level']] = binning(result_df8['% Poverty Level'])"
   ]
  },
  {
   "cell_type": "code",
   "execution_count": 151,
   "metadata": {
    "collapsed": true
   },
   "outputs": [],
   "source": [
    "result_df8['% Poverty Level'] =  result_df8['% Poverty Level'].str.replace('Within Lower IQR','% Poverty Level Within Lower IQR')\n",
    "result_df8['% Poverty Level'] =  result_df8['% Poverty Level'].str.replace('Within Higher IQR','% Poverty Level Within Higher IQR')\n",
    "result_df8['% Poverty Level'] =  result_df8['% Poverty Level'].str.replace('Higher than IQR','% Poverty Level Higher than IQR')\n",
    "result_df8['% Poverty Level'] =  result_df8['% Poverty Level'].str.replace('Lower than IQR','% Poverty Level Lower than IQR')\n",
    "result_df8['% Poverty Level'] =  result_df8['% Poverty Level'].str.replace('Low Outliers','% Poverty Level Lower Outliers')\n",
    "result_df8['% Poverty Level'] =  result_df8['% Poverty Level'].str.replace('Higher outliers','% Poverty Level Higher Outliers')"
   ]
  },
  {
   "cell_type": "code",
   "execution_count": 152,
   "metadata": {
    "collapsed": false
   },
   "outputs": [
    {
     "data": {
      "text/html": [
       "<div>\n",
       "<table border=\"1\" class=\"dataframe\">\n",
       "  <thead>\n",
       "    <tr style=\"text-align: right;\">\n",
       "      <th></th>\n",
       "      <th>Created_Date</th>\n",
       "      <th>Complaint Type</th>\n",
       "      <th>Descriptor</th>\n",
       "      <th>Location Type</th>\n",
       "      <th>Zip Code</th>\n",
       "      <th>City</th>\n",
       "      <th>Borough</th>\n",
       "      <th>Precinct</th>\n",
       "      <th>Population</th>\n",
       "      <th>% Poverty Level</th>\n",
       "      <th>Year</th>\n",
       "      <th>Violence Binning</th>\n",
       "      <th>Misd Binning</th>\n",
       "      <th>Major Binning</th>\n",
       "      <th>Nonmajor Binning</th>\n",
       "    </tr>\n",
       "  </thead>\n",
       "  <tbody>\n",
       "  </tbody>\n",
       "</table>\n",
       "</div>"
      ],
      "text/plain": [
       "Empty DataFrame\n",
       "Columns: [Created_Date, Complaint Type, Descriptor, Location Type, Zip Code, City, Borough, Precinct, Population, % Poverty Level, Year, Violence Binning, Misd Binning, Major Binning, Nonmajor Binning]\n",
       "Index: []"
      ]
     },
     "execution_count": 152,
     "metadata": {},
     "output_type": "execute_result"
    }
   ],
   "source": [
    "result_df8[result_df8['Misd Binning'].isnull()]"
   ]
  },
  {
   "cell_type": "code",
   "execution_count": 89,
   "metadata": {
    "collapsed": false
   },
   "outputs": [
    {
     "data": {
      "text/plain": [
       "array(['VC Within Lower IQR', 'VC Higher than IQR', 'VC Lower than IQR',\n",
       "       'VC High Outliers', 'VC Within Higher IQR'], dtype=object)"
      ]
     },
     "execution_count": 89,
     "metadata": {},
     "output_type": "execute_result"
    }
   ],
   "source": [
    "result_df8['Violence Binning'].unique()"
   ]
  },
  {
   "cell_type": "code",
   "execution_count": 3,
   "metadata": {
    "collapsed": false
   },
   "outputs": [
    {
     "data": {
      "text/plain": [
       "(1539582, 20)"
      ]
     },
     "execution_count": 3,
     "metadata": {},
     "output_type": "execute_result"
    }
   ],
   "source": [
    "result_df8.shape"
   ]
  },
  {
   "cell_type": "code",
   "execution_count": 4,
   "metadata": {
    "collapsed": true
   },
   "outputs": [],
   "source": [
    "numofnoise_temp_df = result_df8.groupby(['Zip Code'])['Created_Date'].count()"
   ]
  },
  {
   "cell_type": "code",
   "execution_count": 5,
   "metadata": {
    "collapsed": true
   },
   "outputs": [],
   "source": [
    "numofnoise = numofnoise_temp_df.to_frame()"
   ]
  },
  {
   "cell_type": "code",
   "execution_count": 6,
   "metadata": {
    "collapsed": true
   },
   "outputs": [],
   "source": [
    "numofnoise = numofnoise.reset_index()"
   ]
  },
  {
   "cell_type": "code",
   "execution_count": 7,
   "metadata": {
    "collapsed": true
   },
   "outputs": [],
   "source": [
    "numofnoise.columns = ['Zip Code', 'Number of Noise Complaint']"
   ]
  },
  {
   "cell_type": "code",
   "execution_count": 9,
   "metadata": {
    "collapsed": false
   },
   "outputs": [],
   "source": [
    "numofnoise.to_csv('numofnoise.csv',sep = '\\t')"
   ]
  },
  {
   "cell_type": "code",
   "execution_count": 2,
   "metadata": {
    "collapsed": true
   },
   "outputs": [],
   "source": [
    "numofnoise = pd.read_csv( \"/Users/YuchenZheng/Desktop/Data Science/Data Mining/final project/numofnoise.csv\",sep = '\\t')"
   ]
  },
  {
   "cell_type": "code",
   "execution_count": 3,
   "metadata": {
    "collapsed": false
   },
   "outputs": [
    {
     "data": {
      "text/html": [
       "<div>\n",
       "<table border=\"1\" class=\"dataframe\">\n",
       "  <thead>\n",
       "    <tr style=\"text-align: right;\">\n",
       "      <th></th>\n",
       "      <th>Unnamed: 0</th>\n",
       "      <th>Zip Code</th>\n",
       "      <th>Number of Noise Complaint</th>\n",
       "    </tr>\n",
       "  </thead>\n",
       "  <tbody>\n",
       "    <tr>\n",
       "      <th>0</th>\n",
       "      <td>0</td>\n",
       "      <td>10002</td>\n",
       "      <td>23361</td>\n",
       "    </tr>\n",
       "    <tr>\n",
       "      <th>1</th>\n",
       "      <td>1</td>\n",
       "      <td>10003</td>\n",
       "      <td>20531</td>\n",
       "    </tr>\n",
       "    <tr>\n",
       "      <th>2</th>\n",
       "      <td>2</td>\n",
       "      <td>10004</td>\n",
       "      <td>1558</td>\n",
       "    </tr>\n",
       "    <tr>\n",
       "      <th>3</th>\n",
       "      <td>3</td>\n",
       "      <td>10005</td>\n",
       "      <td>2839</td>\n",
       "    </tr>\n",
       "    <tr>\n",
       "      <th>4</th>\n",
       "      <td>4</td>\n",
       "      <td>10006</td>\n",
       "      <td>1766</td>\n",
       "    </tr>\n",
       "  </tbody>\n",
       "</table>\n",
       "</div>"
      ],
      "text/plain": [
       "   Unnamed: 0  Zip Code  Number of Noise Complaint\n",
       "0           0     10002                      23361\n",
       "1           1     10003                      20531\n",
       "2           2     10004                       1558\n",
       "3           3     10005                       2839\n",
       "4           4     10006                       1766"
      ]
     },
     "execution_count": 3,
     "metadata": {},
     "output_type": "execute_result"
    }
   ],
   "source": [
    "numofnoise.head()"
   ]
  },
  {
   "cell_type": "code",
   "execution_count": 4,
   "metadata": {
    "collapsed": false
   },
   "outputs": [
    {
     "data": {
      "text/plain": [
       "7249.0"
      ]
     },
     "execution_count": 4,
     "metadata": {},
     "output_type": "execute_result"
    }
   ],
   "source": [
    "numofnoise['Number of Noise Complaint'].median()"
   ]
  },
  {
   "cell_type": "code",
   "execution_count": 158,
   "metadata": {
    "collapsed": false
   },
   "outputs": [],
   "source": [
    "result_dft = pd.merge(result_df8, numofnoise, how = 'outer', on = ['Zip Code'])"
   ]
  },
  {
   "cell_type": "code",
   "execution_count": 159,
   "metadata": {
    "collapsed": false
   },
   "outputs": [
    {
     "data": {
      "text/html": [
       "<div>\n",
       "<table border=\"1\" class=\"dataframe\">\n",
       "  <thead>\n",
       "    <tr style=\"text-align: right;\">\n",
       "      <th></th>\n",
       "      <th>Created_Date</th>\n",
       "      <th>Complaint Type</th>\n",
       "      <th>Descriptor</th>\n",
       "      <th>Location Type</th>\n",
       "      <th>Zip Code</th>\n",
       "      <th>City</th>\n",
       "      <th>Borough</th>\n",
       "      <th>Precinct</th>\n",
       "      <th>Population</th>\n",
       "      <th>% Poverty Level</th>\n",
       "      <th>Year</th>\n",
       "      <th>Violence Binning</th>\n",
       "      <th>Misd Binning</th>\n",
       "      <th>Major Binning</th>\n",
       "      <th>Nonmajor Binning</th>\n",
       "      <th>Number of Noise Complaint</th>\n",
       "    </tr>\n",
       "  </thead>\n",
       "  <tbody>\n",
       "  </tbody>\n",
       "</table>\n",
       "</div>"
      ],
      "text/plain": [
       "Empty DataFrame\n",
       "Columns: [Created_Date, Complaint Type, Descriptor, Location Type, Zip Code, City, Borough, Precinct, Population, % Poverty Level, Year, Violence Binning, Misd Binning, Major Binning, Nonmajor Binning, Number of Noise Complaint]\n",
       "Index: []"
      ]
     },
     "execution_count": 159,
     "metadata": {},
     "output_type": "execute_result"
    }
   ],
   "source": [
    "result_dft[result_dft['Misd Binning'].isnull()]"
   ]
  },
  {
   "cell_type": "code",
   "execution_count": 160,
   "metadata": {
    "collapsed": true
   },
   "outputs": [],
   "source": [
    "result_dft['Noise Binning'] = '---'"
   ]
  },
  {
   "cell_type": "code",
   "execution_count": 161,
   "metadata": {
    "collapsed": false
   },
   "outputs": [],
   "source": [
    "result_dft.loc[:,['Noise Binning']] = binning(result_dft['Number of Noise Complaint'])"
   ]
  },
  {
   "cell_type": "code",
   "execution_count": 162,
   "metadata": {
    "collapsed": false
   },
   "outputs": [],
   "source": [
    "result_dft['Noise Binning'] =  result_dft['Noise Binning'].str.replace('Within Lower IQR','Noise Within Lower IQR')\n",
    "result_dft['Noise Binning'] =  result_dft['Noise Binning'].str.replace('Within Higher IQR','Noise Within Higher IQR')\n",
    "result_dft['Noise Binning'] =  result_dft['Noise Binning'].str.replace('Higher than IQR','Noise Higher than IQR')\n",
    "result_dft['Noise Binning'] =  result_dft['Noise Binning'].str.replace('Lower than IQR','Noise Lower than IQR')\n",
    "result_dft['Noise Binning'] =  result_dft['Noise Binning'].str.replace('Low Outliers','Noise Low Outliers')\n",
    "result_dft['Noise Binning'] =  result_dft['Noise Binning'].str.replace('Higher outliers','Noise High Outliers')"
   ]
  },
  {
   "cell_type": "code",
   "execution_count": 163,
   "metadata": {
    "collapsed": false
   },
   "outputs": [
    {
     "data": {
      "text/html": [
       "<div>\n",
       "<table border=\"1\" class=\"dataframe\">\n",
       "  <thead>\n",
       "    <tr style=\"text-align: right;\">\n",
       "      <th></th>\n",
       "      <th>Created_Date</th>\n",
       "      <th>Complaint Type</th>\n",
       "      <th>Descriptor</th>\n",
       "      <th>Location Type</th>\n",
       "      <th>Zip Code</th>\n",
       "      <th>City</th>\n",
       "      <th>Borough</th>\n",
       "      <th>Precinct</th>\n",
       "      <th>Population</th>\n",
       "      <th>% Poverty Level</th>\n",
       "      <th>Year</th>\n",
       "      <th>Violence Binning</th>\n",
       "      <th>Misd Binning</th>\n",
       "      <th>Major Binning</th>\n",
       "      <th>Nonmajor Binning</th>\n",
       "      <th>Number of Noise Complaint</th>\n",
       "      <th>Noise Binning</th>\n",
       "    </tr>\n",
       "  </thead>\n",
       "  <tbody>\n",
       "  </tbody>\n",
       "</table>\n",
       "</div>"
      ],
      "text/plain": [
       "Empty DataFrame\n",
       "Columns: [Created_Date, Complaint Type, Descriptor, Location Type, Zip Code, City, Borough, Precinct, Population, % Poverty Level, Year, Violence Binning, Misd Binning, Major Binning, Nonmajor Binning, Number of Noise Complaint, Noise Binning]\n",
       "Index: []"
      ]
     },
     "execution_count": 163,
     "metadata": {},
     "output_type": "execute_result"
    }
   ],
   "source": [
    "result_dft[result_dft['Misd Binning'].isnull()]"
   ]
  },
  {
   "cell_type": "code",
   "execution_count": 164,
   "metadata": {
    "collapsed": false
   },
   "outputs": [],
   "source": [
    "result_dft = result_dft.drop(['Number of Noise Complaint'],1)"
   ]
  },
  {
   "cell_type": "code",
   "execution_count": 165,
   "metadata": {
    "collapsed": false
   },
   "outputs": [
    {
     "data": {
      "text/plain": [
       "(1539582, 16)"
      ]
     },
     "execution_count": 165,
     "metadata": {},
     "output_type": "execute_result"
    }
   ],
   "source": [
    "result_dft.shape"
   ]
  },
  {
   "cell_type": "code",
   "execution_count": 167,
   "metadata": {
    "collapsed": false
   },
   "outputs": [],
   "source": [
    "result_dft.to_csv('revised_result_df.csv', sep='\\t')"
   ]
  },
  {
   "cell_type": "code",
   "execution_count": null,
   "metadata": {
    "collapsed": true
   },
   "outputs": [],
   "source": []
  },
  {
   "cell_type": "code",
   "execution_count": 5,
   "metadata": {
    "collapsed": false
   },
   "outputs": [],
   "source": [
    "result_df8['% Poverty Level'] = result_df8['% Poverty Level'].str.replace('%','')"
   ]
  },
  {
   "cell_type": "code",
   "execution_count": 6,
   "metadata": {
    "collapsed": true
   },
   "outputs": [],
   "source": [
    "result_df8['% Poverty Level'] = result_df8['% Poverty Level'].astype(str)"
   ]
  },
  {
   "cell_type": "code",
   "execution_count": 7,
   "metadata": {
    "collapsed": false
   },
   "outputs": [],
   "source": [
    "result_df8['% Poverty Level'] = pd.to_numeric(result_df8['% Poverty Level'])"
   ]
  },
  {
   "cell_type": "code",
   "execution_count": 8,
   "metadata": {
    "collapsed": true
   },
   "outputs": [
    {
     "data": {
      "text/plain": [
       "0          27.70\n",
       "1          36.53\n",
       "2          21.33\n",
       "3           6.50\n",
       "4          36.53\n",
       "5          59.12\n",
       "6          10.26\n",
       "7          38.38\n",
       "8          31.38\n",
       "9          14.84\n",
       "10         21.07\n",
       "11         20.78\n",
       "12         52.02\n",
       "13         21.33\n",
       "14         18.16\n",
       "15         27.70\n",
       "16         36.53\n",
       "17         45.44\n",
       "18         17.98\n",
       "19         11.93\n",
       "20         16.88\n",
       "21         15.21\n",
       "22         27.38\n",
       "23         22.49\n",
       "24         52.49\n",
       "25          7.99\n",
       "26          6.50\n",
       "27         21.60\n",
       "28         20.71\n",
       "29         27.38\n",
       "           ...  \n",
       "1539552    64.49\n",
       "1539553    16.98\n",
       "1539554    64.49\n",
       "1539555    35.19\n",
       "1539556    43.83\n",
       "1539557    11.32\n",
       "1539558    38.38\n",
       "1539559    64.49\n",
       "1539560    52.02\n",
       "1539561    25.76\n",
       "1539562    64.49\n",
       "1539563    60.47\n",
       "1539564    38.50\n",
       "1539565    19.75\n",
       "1539566    53.85\n",
       "1539567    48.52\n",
       "1539568    14.08\n",
       "1539569    10.10\n",
       "1539570     7.35\n",
       "1539571     5.73\n",
       "1539572    64.49\n",
       "1539573    60.47\n",
       "1539574     7.78\n",
       "1539575    30.96\n",
       "1539576    64.49\n",
       "1539577    64.49\n",
       "1539578    23.26\n",
       "1539579    18.16\n",
       "1539580    35.04\n",
       "1539581    37.89\n",
       "Name: % Poverty Level, dtype: float64"
      ]
     },
     "execution_count": 8,
     "metadata": {},
     "output_type": "execute_result"
    }
   ],
   "source": [
    "result_df8['% Poverty Level']"
   ]
  },
  {
   "cell_type": "code",
   "execution_count": 9,
   "metadata": {
    "collapsed": false
   },
   "outputs": [],
   "source": [
    "result_df8['% Poverty Level'] = result_df8['% Poverty Level']/100"
   ]
  },
  {
   "cell_type": "code",
   "execution_count": 10,
   "metadata": {
    "collapsed": false
   },
   "outputs": [
    {
     "data": {
      "text/plain": [
       "array(['Noise - Residential', 'Noise - Commercial',\n",
       "       'Noise - Street/Sidewalk', 'Noise', 'Noise - House of Worship',\n",
       "       'Noise - Vehicle', 'Noise - Park', 'Collection Truck Noise',\n",
       "       'Noise - Helicopter', 'Noise Survey'], dtype=object)"
      ]
     },
     "execution_count": 10,
     "metadata": {},
     "output_type": "execute_result"
    }
   ],
   "source": [
    "result_df8['Complaint Type'].unique()"
   ]
  },
  {
   "cell_type": "code",
   "execution_count": 11,
   "metadata": {
    "collapsed": false
   },
   "outputs": [
    {
     "data": {
      "text/plain": [
       "array(['Loud Television', 'Loud Music/Party', 'Banging/Pounding',\n",
       "       'Loud Talking'], dtype=object)"
      ]
     },
     "execution_count": 11,
     "metadata": {},
     "output_type": "execute_result"
    }
   ],
   "source": [
    "result_df8[result_df8['Complaint Type'] == 'Noise - Residential']['Descriptor'].unique()"
   ]
  },
  {
   "cell_type": "code",
   "execution_count": 12,
   "metadata": {
    "collapsed": false
   },
   "outputs": [
    {
     "data": {
      "text/plain": [
       "array(['Loud Music/Party', 'Loud Talking', 'Banging/Pounding',\n",
       "       'Loud Television'], dtype=object)"
      ]
     },
     "execution_count": 12,
     "metadata": {},
     "output_type": "execute_result"
    }
   ],
   "source": [
    "result_df8[result_df8['Complaint Type'] == 'Noise - House of Worship']['Descriptor'].unique()"
   ]
  },
  {
   "cell_type": "code",
   "execution_count": 13,
   "metadata": {
    "collapsed": false
   },
   "outputs": [
    {
     "data": {
      "text/plain": [
       "array(['Flying Too Low', 'Passing By', 'Hovering', 'Other', 'NYPD',\n",
       "       'News Gathering'], dtype=object)"
      ]
     },
     "execution_count": 13,
     "metadata": {},
     "output_type": "execute_result"
    }
   ],
   "source": [
    "result_df8[result_df8['Complaint Type'] == 'Noise - Helicopter']['Descriptor'].unique()"
   ]
  },
  {
   "cell_type": "code",
   "execution_count": 14,
   "metadata": {
    "collapsed": false
   },
   "outputs": [
    {
     "data": {
      "text/plain": [
       "array(['Loud Music/Party', 'Loud Talking', 'Car/Truck Music',\n",
       "       'Banging/Pounding', 'Car/Truck Horn', 'Loud Television'], dtype=object)"
      ]
     },
     "execution_count": 14,
     "metadata": {},
     "output_type": "execute_result"
    }
   ],
   "source": [
    "result_df8[result_df8['Complaint Type'] == 'Noise - Commercial']['Descriptor'].unique()"
   ]
  },
  {
   "cell_type": "code",
   "execution_count": 15,
   "metadata": {
    "collapsed": false,
    "scrolled": true
   },
   "outputs": [
    {
     "data": {
      "text/plain": [
       "array(['People Created Noise'], dtype=object)"
      ]
     },
     "execution_count": 15,
     "metadata": {},
     "output_type": "execute_result"
    }
   ],
   "source": [
    "result_df8[result_df8['Complaint Type'] == 'Noise Survey']['Descriptor'].unique()"
   ]
  },
  {
   "cell_type": "code",
   "execution_count": 16,
   "metadata": {
    "collapsed": false
   },
   "outputs": [
    {
     "data": {
      "text/plain": [
       "array(['Loud Television', 'Loud Music/Party', 'Banging/Pounding',\n",
       "       'Loud Talking', 'Noise, Barking Dog (NR5)', 'Car/Truck Music',\n",
       "       'Noise: Air Condition/Ventilation Equip, Commercial (NJ2)',\n",
       "       'Noise: Alarms (NR3)', 'Noise: Construction Equipment (NC1)',\n",
       "       'Car/Truck Horn', 'Noise: Construction Before/After Hours (NM1)',\n",
       "       'Noise: Jack Hammering (NC2)', '21 Collection Truck Noise',\n",
       "       'Noise: Private Carting Noise (NQ1)', 'Engine Idling',\n",
       "       'Noise: Air Condition/Ventilation Equip, Residential (NJ1)',\n",
       "       'Horn Honking Sign Requested (NR9)',\n",
       "       'Noise: Other Noise Sources (Use Comments) (NZZ)',\n",
       "       'Noise: Loud Music/Nighttime(Mark Date And Time) (NP1)',\n",
       "       'Noise, Other Animals (NR6)', 'Noise: Manufacturing Noise (NK1)',\n",
       "       'Noise: Vehicle (NR2)', 'Noise: Boat(Engine,Music,Etc) (NR10)',\n",
       "       'Noise, Ice Cream Truck (NR4)',\n",
       "       'Noise: Loud Music/Daytime (Mark Date And Time) (NN1)',\n",
       "       'Private Carting', 'Flying Too Low', 'Passing By', 'Hovering',\n",
       "       'Air Conditioner/Ventilation Equipment', 'Other', 'NYPD',\n",
       "       'News Gathering', 'People Created Noise',\n",
       "       'Noise: air condition/ventilation equipment (NV1)',\n",
       "       'Noise:  lawn care equipment (NCL)'], dtype=object)"
      ]
     },
     "execution_count": 16,
     "metadata": {},
     "output_type": "execute_result"
    }
   ],
   "source": [
    "result_df8.Descriptor.unique()"
   ]
  },
  {
   "cell_type": "code",
   "execution_count": 17,
   "metadata": {
    "collapsed": false
   },
   "outputs": [
    {
     "data": {
      "text/html": [
       "<div>\n",
       "<table border=\"1\" class=\"dataframe\">\n",
       "  <thead>\n",
       "    <tr style=\"text-align: right;\">\n",
       "      <th></th>\n",
       "      <th>Unnamed: 0</th>\n",
       "      <th>Created_Date</th>\n",
       "      <th>Complaint Type</th>\n",
       "      <th>Descriptor</th>\n",
       "      <th>Location Type</th>\n",
       "      <th>Zip Code</th>\n",
       "      <th>City</th>\n",
       "      <th>Borough</th>\n",
       "      <th>Precinct</th>\n",
       "      <th>Population</th>\n",
       "      <th>% Poverty Level</th>\n",
       "      <th>Year</th>\n",
       "      <th>Violence Crime</th>\n",
       "      <th>Violence Binning</th>\n",
       "      <th>Misd Crime</th>\n",
       "      <th>Misd Binning</th>\n",
       "      <th>Major Crime</th>\n",
       "      <th>Major Binning</th>\n",
       "      <th>Nonmajor Crime</th>\n",
       "      <th>Nonmajor Binning</th>\n",
       "    </tr>\n",
       "  </thead>\n",
       "  <tbody>\n",
       "    <tr>\n",
       "      <th>0</th>\n",
       "      <td>0</td>\n",
       "      <td>2010-01-01 00:03:46</td>\n",
       "      <td>Noise - Residential</td>\n",
       "      <td>Loud Television</td>\n",
       "      <td>Residential Building/House</td>\n",
       "      <td>11230</td>\n",
       "      <td>BROOKLYN</td>\n",
       "      <td>BROOKLYN</td>\n",
       "      <td>70</td>\n",
       "      <td>88,933</td>\n",
       "      <td>0.2770</td>\n",
       "      <td>2010</td>\n",
       "      <td>1474.0</td>\n",
       "      <td>VC Within Lower IQR</td>\n",
       "      <td>11546.0</td>\n",
       "      <td>Misd Within Higher IQR</td>\n",
       "      <td>3942.0</td>\n",
       "      <td>Major Higher than IQR</td>\n",
       "      <td>1956.0</td>\n",
       "      <td>Nonmajor Within Higher IQR</td>\n",
       "    </tr>\n",
       "    <tr>\n",
       "      <th>1</th>\n",
       "      <td>1</td>\n",
       "      <td>2010-01-01 00:08:02</td>\n",
       "      <td>Noise - Residential</td>\n",
       "      <td>Loud Music/Party</td>\n",
       "      <td>Residential Building/House</td>\n",
       "      <td>11220</td>\n",
       "      <td>BROOKLYN</td>\n",
       "      <td>BROOKLYN</td>\n",
       "      <td>68</td>\n",
       "      <td>92,718</td>\n",
       "      <td>0.3653</td>\n",
       "      <td>2010</td>\n",
       "      <td>1388.0</td>\n",
       "      <td>VC Within Lower IQR</td>\n",
       "      <td>7318.0</td>\n",
       "      <td>Misd Within Lower IQR</td>\n",
       "      <td>1828.0</td>\n",
       "      <td>Major Within Lower IQR</td>\n",
       "      <td>758.0</td>\n",
       "      <td>Nonmajor Within Lower IQR</td>\n",
       "    </tr>\n",
       "    <tr>\n",
       "      <th>2</th>\n",
       "      <td>2</td>\n",
       "      <td>2010-01-01 00:15:08</td>\n",
       "      <td>Noise - Residential</td>\n",
       "      <td>Banging/Pounding</td>\n",
       "      <td>Residential Building/House</td>\n",
       "      <td>11355</td>\n",
       "      <td>FLUSHING</td>\n",
       "      <td>QUEENS</td>\n",
       "      <td>109</td>\n",
       "      <td>83,281</td>\n",
       "      <td>0.2133</td>\n",
       "      <td>2010</td>\n",
       "      <td>2010.0</td>\n",
       "      <td>VC Higher than IQR</td>\n",
       "      <td>10172.0</td>\n",
       "      <td>Misd Within Higher IQR</td>\n",
       "      <td>3820.0</td>\n",
       "      <td>Major Higher than IQR</td>\n",
       "      <td>1662.0</td>\n",
       "      <td>Nonmajor Within Higher IQR</td>\n",
       "    </tr>\n",
       "    <tr>\n",
       "      <th>3</th>\n",
       "      <td>3</td>\n",
       "      <td>2010-01-01 00:15:12</td>\n",
       "      <td>Noise - Residential</td>\n",
       "      <td>Loud Music/Party</td>\n",
       "      <td>Residential Building/House</td>\n",
       "      <td>10014</td>\n",
       "      <td>NEW YORK</td>\n",
       "      <td>MANHATTAN</td>\n",
       "      <td>6</td>\n",
       "      <td>32,667</td>\n",
       "      <td>0.0650</td>\n",
       "      <td>2010</td>\n",
       "      <td>1004.0</td>\n",
       "      <td>VC Within Lower IQR</td>\n",
       "      <td>8730.0</td>\n",
       "      <td>Misd Within Lower IQR</td>\n",
       "      <td>3060.0</td>\n",
       "      <td>Major Within Higher IQR</td>\n",
       "      <td>1118.0</td>\n",
       "      <td>Nonmajor Within Lower IQR</td>\n",
       "    </tr>\n",
       "    <tr>\n",
       "      <th>4</th>\n",
       "      <td>4</td>\n",
       "      <td>2010-01-01 00:15:51</td>\n",
       "      <td>Noise - Commercial</td>\n",
       "      <td>Loud Music/Party</td>\n",
       "      <td>Club/Bar/Restaurant</td>\n",
       "      <td>11220</td>\n",
       "      <td>BROOKLYN</td>\n",
       "      <td>BROOKLYN</td>\n",
       "      <td>68</td>\n",
       "      <td>92,718</td>\n",
       "      <td>0.3653</td>\n",
       "      <td>2010</td>\n",
       "      <td>1388.0</td>\n",
       "      <td>VC Within Lower IQR</td>\n",
       "      <td>7318.0</td>\n",
       "      <td>Misd Within Lower IQR</td>\n",
       "      <td>1828.0</td>\n",
       "      <td>Major Within Lower IQR</td>\n",
       "      <td>758.0</td>\n",
       "      <td>Nonmajor Within Lower IQR</td>\n",
       "    </tr>\n",
       "    <tr>\n",
       "      <th>5</th>\n",
       "      <td>5</td>\n",
       "      <td>2010-01-01 00:19:07</td>\n",
       "      <td>Noise - Residential</td>\n",
       "      <td>Loud Music/Party</td>\n",
       "      <td>Residential Building/House</td>\n",
       "      <td>10453</td>\n",
       "      <td>BRONX</td>\n",
       "      <td>BRONX</td>\n",
       "      <td>46</td>\n",
       "      <td>76,775</td>\n",
       "      <td>0.5912</td>\n",
       "      <td>2010</td>\n",
       "      <td>2816.0</td>\n",
       "      <td>VC Higher than IQR</td>\n",
       "      <td>19660.0</td>\n",
       "      <td>Misd Higher than IQR</td>\n",
       "      <td>3032.0</td>\n",
       "      <td>Major Within Higher IQR</td>\n",
       "      <td>3086.0</td>\n",
       "      <td>Nonmajor Higher than IQR</td>\n",
       "    </tr>\n",
       "    <tr>\n",
       "      <th>6</th>\n",
       "      <td>6</td>\n",
       "      <td>2010-01-01 00:23:08</td>\n",
       "      <td>Noise - Street/Sidewalk</td>\n",
       "      <td>Loud Talking</td>\n",
       "      <td>Street/Sidewalk</td>\n",
       "      <td>10011</td>\n",
       "      <td>NEW YORK</td>\n",
       "      <td>MANHATTAN</td>\n",
       "      <td>10</td>\n",
       "      <td>46,669</td>\n",
       "      <td>0.1026</td>\n",
       "      <td>2010</td>\n",
       "      <td>842.0</td>\n",
       "      <td>VC Within Lower IQR</td>\n",
       "      <td>5340.0</td>\n",
       "      <td>Misd Within Lower IQR</td>\n",
       "      <td>2098.0</td>\n",
       "      <td>Major Within Lower IQR</td>\n",
       "      <td>964.0</td>\n",
       "      <td>Nonmajor Within Lower IQR</td>\n",
       "    </tr>\n",
       "    <tr>\n",
       "      <th>7</th>\n",
       "      <td>7</td>\n",
       "      <td>2010-01-01 00:24:00</td>\n",
       "      <td>Noise</td>\n",
       "      <td>Noise, Barking Dog (NR5)</td>\n",
       "      <td>NaN</td>\n",
       "      <td>10473</td>\n",
       "      <td>BRONX</td>\n",
       "      <td>BRONX</td>\n",
       "      <td>43</td>\n",
       "      <td>56,166</td>\n",
       "      <td>0.3838</td>\n",
       "      <td>2010</td>\n",
       "      <td>3136.0</td>\n",
       "      <td>VC Higher than IQR</td>\n",
       "      <td>24086.0</td>\n",
       "      <td>Misd Higher Outliers</td>\n",
       "      <td>4612.0</td>\n",
       "      <td>Major Higher than IQR</td>\n",
       "      <td>2302.0</td>\n",
       "      <td>Nonmajor Higher than IQR</td>\n",
       "    </tr>\n",
       "    <tr>\n",
       "      <th>8</th>\n",
       "      <td>8</td>\n",
       "      <td>2010-01-01 00:27:45</td>\n",
       "      <td>Noise - Residential</td>\n",
       "      <td>Loud Music/Party</td>\n",
       "      <td>Residential Building/House</td>\n",
       "      <td>11218</td>\n",
       "      <td>BROOKLYN</td>\n",
       "      <td>BROOKLYN</td>\n",
       "      <td>66</td>\n",
       "      <td>74,611</td>\n",
       "      <td>0.3138</td>\n",
       "      <td>2010</td>\n",
       "      <td>1208.0</td>\n",
       "      <td>VC Within Lower IQR</td>\n",
       "      <td>6080.0</td>\n",
       "      <td>Misd Within Lower IQR</td>\n",
       "      <td>2528.0</td>\n",
       "      <td>Major Within Lower IQR</td>\n",
       "      <td>722.0</td>\n",
       "      <td>Nonmajor Within Lower IQR</td>\n",
       "    </tr>\n",
       "    <tr>\n",
       "      <th>9</th>\n",
       "      <td>9</td>\n",
       "      <td>2010-01-01 00:29:18</td>\n",
       "      <td>Noise - Residential</td>\n",
       "      <td>Loud Music/Party</td>\n",
       "      <td>Residential Building/House</td>\n",
       "      <td>11215</td>\n",
       "      <td>BROOKLYN</td>\n",
       "      <td>BROOKLYN</td>\n",
       "      <td>78</td>\n",
       "      <td>63,001</td>\n",
       "      <td>0.1484</td>\n",
       "      <td>2010</td>\n",
       "      <td>658.0</td>\n",
       "      <td>VC Within Lower IQR</td>\n",
       "      <td>3994.0</td>\n",
       "      <td>Misd Within Lower IQR</td>\n",
       "      <td>1690.0</td>\n",
       "      <td>Major Within Lower IQR</td>\n",
       "      <td>482.0</td>\n",
       "      <td>Nonmajor Within Lower IQR</td>\n",
       "    </tr>\n",
       "    <tr>\n",
       "      <th>10</th>\n",
       "      <td>10</td>\n",
       "      <td>2010-01-01 00:29:25</td>\n",
       "      <td>Noise - Residential</td>\n",
       "      <td>Banging/Pounding</td>\n",
       "      <td>Residential Building/House</td>\n",
       "      <td>10463</td>\n",
       "      <td>BRONX</td>\n",
       "      <td>BRONX</td>\n",
       "      <td>50</td>\n",
       "      <td>65,576</td>\n",
       "      <td>0.2107</td>\n",
       "      <td>2010</td>\n",
       "      <td>1282.0</td>\n",
       "      <td>VC Within Lower IQR</td>\n",
       "      <td>5820.0</td>\n",
       "      <td>Misd Within Lower IQR</td>\n",
       "      <td>1924.0</td>\n",
       "      <td>Major Within Lower IQR</td>\n",
       "      <td>772.0</td>\n",
       "      <td>Nonmajor Within Lower IQR</td>\n",
       "    </tr>\n",
       "    <tr>\n",
       "      <th>11</th>\n",
       "      <td>11</td>\n",
       "      <td>2010-01-01 00:29:36</td>\n",
       "      <td>Noise - Residential</td>\n",
       "      <td>Loud Music/Party</td>\n",
       "      <td>Residential Building/House</td>\n",
       "      <td>10310</td>\n",
       "      <td>STATEN ISLAND</td>\n",
       "      <td>STATEN ISLAND</td>\n",
       "      <td>120</td>\n",
       "      <td>22,852</td>\n",
       "      <td>0.2078</td>\n",
       "      <td>2010</td>\n",
       "      <td>4246.0</td>\n",
       "      <td>VC Higher Outliers</td>\n",
       "      <td>18070.0</td>\n",
       "      <td>Misd Higher than IQR</td>\n",
       "      <td>3094.0</td>\n",
       "      <td>Major Within Higher IQR</td>\n",
       "      <td>2876.0</td>\n",
       "      <td>Nonmajor Higher than IQR</td>\n",
       "    </tr>\n",
       "    <tr>\n",
       "      <th>12</th>\n",
       "      <td>12</td>\n",
       "      <td>2010-01-01 00:29:57</td>\n",
       "      <td>Noise - Residential</td>\n",
       "      <td>Banging/Pounding</td>\n",
       "      <td>Residential Building/House</td>\n",
       "      <td>11233</td>\n",
       "      <td>BROOKLYN</td>\n",
       "      <td>BROOKLYN</td>\n",
       "      <td>60</td>\n",
       "      <td>61,955</td>\n",
       "      <td>0.5202</td>\n",
       "      <td>2010</td>\n",
       "      <td>1460.0</td>\n",
       "      <td>VC Within Lower IQR</td>\n",
       "      <td>10570.0</td>\n",
       "      <td>Misd Within Higher IQR</td>\n",
       "      <td>2646.0</td>\n",
       "      <td>Major Within Lower IQR</td>\n",
       "      <td>1728.0</td>\n",
       "      <td>Nonmajor Within Higher IQR</td>\n",
       "    </tr>\n",
       "    <tr>\n",
       "      <th>13</th>\n",
       "      <td>13</td>\n",
       "      <td>2010-01-01 00:30:50</td>\n",
       "      <td>Noise - Residential</td>\n",
       "      <td>Banging/Pounding</td>\n",
       "      <td>Residential Building/House</td>\n",
       "      <td>11355</td>\n",
       "      <td>FLUSHING</td>\n",
       "      <td>QUEENS</td>\n",
       "      <td>109</td>\n",
       "      <td>83,281</td>\n",
       "      <td>0.2133</td>\n",
       "      <td>2010</td>\n",
       "      <td>2010.0</td>\n",
       "      <td>VC Higher than IQR</td>\n",
       "      <td>10172.0</td>\n",
       "      <td>Misd Within Higher IQR</td>\n",
       "      <td>3820.0</td>\n",
       "      <td>Major Higher than IQR</td>\n",
       "      <td>1662.0</td>\n",
       "      <td>Nonmajor Within Higher IQR</td>\n",
       "    </tr>\n",
       "    <tr>\n",
       "      <th>14</th>\n",
       "      <td>14</td>\n",
       "      <td>2010-01-01 00:34:02</td>\n",
       "      <td>Noise - Residential</td>\n",
       "      <td>Loud Music/Party</td>\n",
       "      <td>Residential Building/House</td>\n",
       "      <td>10301</td>\n",
       "      <td>STATEN ISLAND</td>\n",
       "      <td>STATEN ISLAND</td>\n",
       "      <td>120</td>\n",
       "      <td>38,805</td>\n",
       "      <td>0.1816</td>\n",
       "      <td>2010</td>\n",
       "      <td>4246.0</td>\n",
       "      <td>VC Higher Outliers</td>\n",
       "      <td>18070.0</td>\n",
       "      <td>Misd Higher than IQR</td>\n",
       "      <td>3094.0</td>\n",
       "      <td>Major Within Higher IQR</td>\n",
       "      <td>2876.0</td>\n",
       "      <td>Nonmajor Higher than IQR</td>\n",
       "    </tr>\n",
       "    <tr>\n",
       "      <th>15</th>\n",
       "      <td>15</td>\n",
       "      <td>2010-01-01 00:36:01</td>\n",
       "      <td>Noise - Commercial</td>\n",
       "      <td>Loud Music/Party</td>\n",
       "      <td>Store/Commercial</td>\n",
       "      <td>11230</td>\n",
       "      <td>BROOKLYN</td>\n",
       "      <td>BROOKLYN</td>\n",
       "      <td>70</td>\n",
       "      <td>88,933</td>\n",
       "      <td>0.2770</td>\n",
       "      <td>2010</td>\n",
       "      <td>1474.0</td>\n",
       "      <td>VC Within Lower IQR</td>\n",
       "      <td>11546.0</td>\n",
       "      <td>Misd Within Higher IQR</td>\n",
       "      <td>3942.0</td>\n",
       "      <td>Major Higher than IQR</td>\n",
       "      <td>1956.0</td>\n",
       "      <td>Nonmajor Within Higher IQR</td>\n",
       "    </tr>\n",
       "    <tr>\n",
       "      <th>16</th>\n",
       "      <td>16</td>\n",
       "      <td>2010-01-01 00:36:07</td>\n",
       "      <td>Noise - Residential</td>\n",
       "      <td>Loud Music/Party</td>\n",
       "      <td>Residential Building/House</td>\n",
       "      <td>11220</td>\n",
       "      <td>BROOKLYN</td>\n",
       "      <td>BROOKLYN</td>\n",
       "      <td>68</td>\n",
       "      <td>92,718</td>\n",
       "      <td>0.3653</td>\n",
       "      <td>2010</td>\n",
       "      <td>1388.0</td>\n",
       "      <td>VC Within Lower IQR</td>\n",
       "      <td>7318.0</td>\n",
       "      <td>Misd Within Lower IQR</td>\n",
       "      <td>1828.0</td>\n",
       "      <td>Major Within Lower IQR</td>\n",
       "      <td>758.0</td>\n",
       "      <td>Nonmajor Within Lower IQR</td>\n",
       "    </tr>\n",
       "    <tr>\n",
       "      <th>17</th>\n",
       "      <td>17</td>\n",
       "      <td>2010-01-01 00:37:58</td>\n",
       "      <td>Noise - Residential</td>\n",
       "      <td>Loud Music/Party</td>\n",
       "      <td>Residential Building/House</td>\n",
       "      <td>11219</td>\n",
       "      <td>BROOKLYN</td>\n",
       "      <td>BROOKLYN</td>\n",
       "      <td>66</td>\n",
       "      <td>85,987</td>\n",
       "      <td>0.4544</td>\n",
       "      <td>2010</td>\n",
       "      <td>1208.0</td>\n",
       "      <td>VC Within Lower IQR</td>\n",
       "      <td>6080.0</td>\n",
       "      <td>Misd Within Lower IQR</td>\n",
       "      <td>2528.0</td>\n",
       "      <td>Major Within Lower IQR</td>\n",
       "      <td>722.0</td>\n",
       "      <td>Nonmajor Within Lower IQR</td>\n",
       "    </tr>\n",
       "    <tr>\n",
       "      <th>18</th>\n",
       "      <td>18</td>\n",
       "      <td>2010-01-01 00:38:36</td>\n",
       "      <td>Noise - Commercial</td>\n",
       "      <td>Loud Music/Party</td>\n",
       "      <td>Store/Commercial</td>\n",
       "      <td>11434</td>\n",
       "      <td>JAMAICA</td>\n",
       "      <td>QUEENS</td>\n",
       "      <td>113</td>\n",
       "      <td>59,142</td>\n",
       "      <td>0.1798</td>\n",
       "      <td>2010</td>\n",
       "      <td>1766.0</td>\n",
       "      <td>VC Within Higher IQR</td>\n",
       "      <td>12966.0</td>\n",
       "      <td>Misd Higher than IQR</td>\n",
       "      <td>4276.0</td>\n",
       "      <td>Major Higher than IQR</td>\n",
       "      <td>2714.0</td>\n",
       "      <td>Nonmajor Higher than IQR</td>\n",
       "    </tr>\n",
       "    <tr>\n",
       "      <th>19</th>\n",
       "      <td>19</td>\n",
       "      <td>2010-01-01 00:39:57</td>\n",
       "      <td>Noise - Commercial</td>\n",
       "      <td>Loud Music/Party</td>\n",
       "      <td>Club/Bar/Restaurant</td>\n",
       "      <td>11234</td>\n",
       "      <td>BROOKLYN</td>\n",
       "      <td>BROOKLYN</td>\n",
       "      <td>63</td>\n",
       "      <td>86,898</td>\n",
       "      <td>0.1193</td>\n",
       "      <td>2010</td>\n",
       "      <td>1422.0</td>\n",
       "      <td>VC Within Lower IQR</td>\n",
       "      <td>6564.0</td>\n",
       "      <td>Misd Within Lower IQR</td>\n",
       "      <td>2670.0</td>\n",
       "      <td>Major Within Lower IQR</td>\n",
       "      <td>702.0</td>\n",
       "      <td>Nonmajor Within Lower IQR</td>\n",
       "    </tr>\n",
       "    <tr>\n",
       "      <th>20</th>\n",
       "      <td>20</td>\n",
       "      <td>2010-01-01 00:40:48</td>\n",
       "      <td>Noise - Residential</td>\n",
       "      <td>Loud Music/Party</td>\n",
       "      <td>Residential Building/House</td>\n",
       "      <td>10025</td>\n",
       "      <td>NEW YORK</td>\n",
       "      <td>MANHATTAN</td>\n",
       "      <td>24</td>\n",
       "      <td>97,086</td>\n",
       "      <td>0.1688</td>\n",
       "      <td>2010</td>\n",
       "      <td>1530.0</td>\n",
       "      <td>VC Within Lower IQR</td>\n",
       "      <td>6884.0</td>\n",
       "      <td>Misd Within Lower IQR</td>\n",
       "      <td>2008.0</td>\n",
       "      <td>Major Within Lower IQR</td>\n",
       "      <td>754.0</td>\n",
       "      <td>Nonmajor Within Lower IQR</td>\n",
       "    </tr>\n",
       "    <tr>\n",
       "      <th>21</th>\n",
       "      <td>21</td>\n",
       "      <td>2010-01-01 00:43:06</td>\n",
       "      <td>Noise - Residential</td>\n",
       "      <td>Loud Music/Party</td>\n",
       "      <td>Residential Building/House</td>\n",
       "      <td>11209</td>\n",
       "      <td>BROOKLYN</td>\n",
       "      <td>BROOKLYN</td>\n",
       "      <td>68</td>\n",
       "      <td>69,840</td>\n",
       "      <td>0.1521</td>\n",
       "      <td>2010</td>\n",
       "      <td>1388.0</td>\n",
       "      <td>VC Within Lower IQR</td>\n",
       "      <td>7318.0</td>\n",
       "      <td>Misd Within Lower IQR</td>\n",
       "      <td>1828.0</td>\n",
       "      <td>Major Within Lower IQR</td>\n",
       "      <td>758.0</td>\n",
       "      <td>Nonmajor Within Lower IQR</td>\n",
       "    </tr>\n",
       "    <tr>\n",
       "      <th>22</th>\n",
       "      <td>22</td>\n",
       "      <td>2010-01-01 00:45:07</td>\n",
       "      <td>Noise - Residential</td>\n",
       "      <td>Loud Music/Party</td>\n",
       "      <td>Residential Building/House</td>\n",
       "      <td>10466</td>\n",
       "      <td>BRONX</td>\n",
       "      <td>BRONX</td>\n",
       "      <td>47</td>\n",
       "      <td>68,787</td>\n",
       "      <td>0.2738</td>\n",
       "      <td>2010</td>\n",
       "      <td>1930.0</td>\n",
       "      <td>VC Within Higher IQR</td>\n",
       "      <td>15354.0</td>\n",
       "      <td>Misd Higher than IQR</td>\n",
       "      <td>3930.0</td>\n",
       "      <td>Major Higher than IQR</td>\n",
       "      <td>1840.0</td>\n",
       "      <td>Nonmajor Within Higher IQR</td>\n",
       "    </tr>\n",
       "    <tr>\n",
       "      <th>23</th>\n",
       "      <td>23</td>\n",
       "      <td>2010-01-01 00:46:57</td>\n",
       "      <td>Noise - Residential</td>\n",
       "      <td>Banging/Pounding</td>\n",
       "      <td>Residential Building/House</td>\n",
       "      <td>11203</td>\n",
       "      <td>BROOKLYN</td>\n",
       "      <td>BROOKLYN</td>\n",
       "      <td>67</td>\n",
       "      <td>84,498</td>\n",
       "      <td>0.2249</td>\n",
       "      <td>2010</td>\n",
       "      <td>2266.0</td>\n",
       "      <td>VC Higher than IQR</td>\n",
       "      <td>12122.0</td>\n",
       "      <td>Misd Within Higher IQR</td>\n",
       "      <td>4240.0</td>\n",
       "      <td>Major Higher than IQR</td>\n",
       "      <td>2316.0</td>\n",
       "      <td>Nonmajor Higher than IQR</td>\n",
       "    </tr>\n",
       "    <tr>\n",
       "      <th>24</th>\n",
       "      <td>24</td>\n",
       "      <td>2010-01-01 00:48:21</td>\n",
       "      <td>Noise - Residential</td>\n",
       "      <td>Loud Music/Party</td>\n",
       "      <td>Residential Building/House</td>\n",
       "      <td>10451</td>\n",
       "      <td>BRONX</td>\n",
       "      <td>BRONX</td>\n",
       "      <td>42</td>\n",
       "      <td>40,961</td>\n",
       "      <td>0.5249</td>\n",
       "      <td>2010</td>\n",
       "      <td>1660.0</td>\n",
       "      <td>VC Within Higher IQR</td>\n",
       "      <td>13578.0</td>\n",
       "      <td>Misd Higher than IQR</td>\n",
       "      <td>2356.0</td>\n",
       "      <td>Major Within Lower IQR</td>\n",
       "      <td>2110.0</td>\n",
       "      <td>Nonmajor Within Higher IQR</td>\n",
       "    </tr>\n",
       "    <tr>\n",
       "      <th>25</th>\n",
       "      <td>25</td>\n",
       "      <td>2010-01-01 00:48:31</td>\n",
       "      <td>Noise - Residential</td>\n",
       "      <td>Loud Music/Party</td>\n",
       "      <td>Residential Building/House</td>\n",
       "      <td>10023</td>\n",
       "      <td>NEW YORK</td>\n",
       "      <td>MANHATTAN</td>\n",
       "      <td>20</td>\n",
       "      <td>62,206</td>\n",
       "      <td>0.0799</td>\n",
       "      <td>2010</td>\n",
       "      <td>1082.0</td>\n",
       "      <td>VC Within Lower IQR</td>\n",
       "      <td>5176.0</td>\n",
       "      <td>Misd Within Lower IQR</td>\n",
       "      <td>1940.0</td>\n",
       "      <td>Major Within Lower IQR</td>\n",
       "      <td>680.0</td>\n",
       "      <td>Nonmajor Within Lower IQR</td>\n",
       "    </tr>\n",
       "    <tr>\n",
       "      <th>26</th>\n",
       "      <td>26</td>\n",
       "      <td>2010-01-01 00:48:39</td>\n",
       "      <td>Noise - Commercial</td>\n",
       "      <td>Loud Music/Party</td>\n",
       "      <td>Club/Bar/Restaurant</td>\n",
       "      <td>10014</td>\n",
       "      <td>NEW YORK</td>\n",
       "      <td>MANHATTAN</td>\n",
       "      <td>6</td>\n",
       "      <td>32,667</td>\n",
       "      <td>0.0650</td>\n",
       "      <td>2010</td>\n",
       "      <td>1004.0</td>\n",
       "      <td>VC Within Lower IQR</td>\n",
       "      <td>8730.0</td>\n",
       "      <td>Misd Within Lower IQR</td>\n",
       "      <td>3060.0</td>\n",
       "      <td>Major Within Higher IQR</td>\n",
       "      <td>1118.0</td>\n",
       "      <td>Nonmajor Within Lower IQR</td>\n",
       "    </tr>\n",
       "    <tr>\n",
       "      <th>27</th>\n",
       "      <td>27</td>\n",
       "      <td>2010-01-01 00:48:43</td>\n",
       "      <td>Noise - Residential</td>\n",
       "      <td>Loud Music/Party</td>\n",
       "      <td>Residential Building/House</td>\n",
       "      <td>11373</td>\n",
       "      <td>ELMHURST</td>\n",
       "      <td>QUEENS</td>\n",
       "      <td>110</td>\n",
       "      <td>105,723</td>\n",
       "      <td>0.2160</td>\n",
       "      <td>2010</td>\n",
       "      <td>1488.0</td>\n",
       "      <td>VC Within Lower IQR</td>\n",
       "      <td>9962.0</td>\n",
       "      <td>Misd Within Higher IQR</td>\n",
       "      <td>3274.0</td>\n",
       "      <td>Major Within Higher IQR</td>\n",
       "      <td>1012.0</td>\n",
       "      <td>Nonmajor Within Lower IQR</td>\n",
       "    </tr>\n",
       "    <tr>\n",
       "      <th>28</th>\n",
       "      <td>28</td>\n",
       "      <td>2010-01-01 00:50:09</td>\n",
       "      <td>Noise - Residential</td>\n",
       "      <td>Loud Music/Party</td>\n",
       "      <td>Residential Building/House</td>\n",
       "      <td>11377</td>\n",
       "      <td>WOODSIDE</td>\n",
       "      <td>QUEENS</td>\n",
       "      <td>108</td>\n",
       "      <td>88,339</td>\n",
       "      <td>0.2071</td>\n",
       "      <td>2010</td>\n",
       "      <td>1460.0</td>\n",
       "      <td>VC Within Lower IQR</td>\n",
       "      <td>7316.0</td>\n",
       "      <td>Misd Within Lower IQR</td>\n",
       "      <td>2508.0</td>\n",
       "      <td>Major Within Lower IQR</td>\n",
       "      <td>816.0</td>\n",
       "      <td>Nonmajor Within Lower IQR</td>\n",
       "    </tr>\n",
       "    <tr>\n",
       "      <th>29</th>\n",
       "      <td>29</td>\n",
       "      <td>2010-01-01 00:50:23</td>\n",
       "      <td>Noise - Residential</td>\n",
       "      <td>Loud Music/Party</td>\n",
       "      <td>Residential Building/House</td>\n",
       "      <td>10466</td>\n",
       "      <td>BRONX</td>\n",
       "      <td>BRONX</td>\n",
       "      <td>47</td>\n",
       "      <td>68,787</td>\n",
       "      <td>0.2738</td>\n",
       "      <td>2010</td>\n",
       "      <td>1930.0</td>\n",
       "      <td>VC Within Higher IQR</td>\n",
       "      <td>15354.0</td>\n",
       "      <td>Misd Higher than IQR</td>\n",
       "      <td>3930.0</td>\n",
       "      <td>Major Higher than IQR</td>\n",
       "      <td>1840.0</td>\n",
       "      <td>Nonmajor Within Higher IQR</td>\n",
       "    </tr>\n",
       "    <tr>\n",
       "      <th>...</th>\n",
       "      <td>...</td>\n",
       "      <td>...</td>\n",
       "      <td>...</td>\n",
       "      <td>...</td>\n",
       "      <td>...</td>\n",
       "      <td>...</td>\n",
       "      <td>...</td>\n",
       "      <td>...</td>\n",
       "      <td>...</td>\n",
       "      <td>...</td>\n",
       "      <td>...</td>\n",
       "      <td>...</td>\n",
       "      <td>...</td>\n",
       "      <td>...</td>\n",
       "      <td>...</td>\n",
       "      <td>...</td>\n",
       "      <td>...</td>\n",
       "      <td>...</td>\n",
       "      <td>...</td>\n",
       "      <td>...</td>\n",
       "    </tr>\n",
       "    <tr>\n",
       "      <th>1539552</th>\n",
       "      <td>1539552</td>\n",
       "      <td>2015-12-31 23:41:22</td>\n",
       "      <td>Noise - Residential</td>\n",
       "      <td>Loud Music/Party</td>\n",
       "      <td>Residential Building/House</td>\n",
       "      <td>10456</td>\n",
       "      <td>BRONX</td>\n",
       "      <td>BRONX</td>\n",
       "      <td>42</td>\n",
       "      <td>76,656</td>\n",
       "      <td>0.6449</td>\n",
       "      <td>2015</td>\n",
       "      <td>2024.0</td>\n",
       "      <td>VC Within Higher IQR</td>\n",
       "      <td>11306.0</td>\n",
       "      <td>Misd Higher than IQR</td>\n",
       "      <td>2686.0</td>\n",
       "      <td>Major Within Lower IQR</td>\n",
       "      <td>1672.0</td>\n",
       "      <td>Nonmajor Within Higher IQR</td>\n",
       "    </tr>\n",
       "    <tr>\n",
       "      <th>1539553</th>\n",
       "      <td>1539553</td>\n",
       "      <td>2015-12-31 23:41:28</td>\n",
       "      <td>Noise - Residential</td>\n",
       "      <td>Loud Music/Party</td>\n",
       "      <td>Residential Building/House</td>\n",
       "      <td>10469</td>\n",
       "      <td>BRONX</td>\n",
       "      <td>BRONX</td>\n",
       "      <td>49</td>\n",
       "      <td>63,345</td>\n",
       "      <td>0.1698</td>\n",
       "      <td>2015</td>\n",
       "      <td>1602.0</td>\n",
       "      <td>VC Within Higher IQR</td>\n",
       "      <td>8788.0</td>\n",
       "      <td>Misd Within Higher IQR</td>\n",
       "      <td>2488.0</td>\n",
       "      <td>Major Within Lower IQR</td>\n",
       "      <td>1022.0</td>\n",
       "      <td>Nonmajor Within Lower IQR</td>\n",
       "    </tr>\n",
       "    <tr>\n",
       "      <th>1539554</th>\n",
       "      <td>1539554</td>\n",
       "      <td>2015-12-31 23:42:24</td>\n",
       "      <td>Noise - Residential</td>\n",
       "      <td>Loud Music/Party</td>\n",
       "      <td>Residential Building/House</td>\n",
       "      <td>10456</td>\n",
       "      <td>BRONX</td>\n",
       "      <td>BRONX</td>\n",
       "      <td>42</td>\n",
       "      <td>76,656</td>\n",
       "      <td>0.6449</td>\n",
       "      <td>2015</td>\n",
       "      <td>2024.0</td>\n",
       "      <td>VC Within Higher IQR</td>\n",
       "      <td>11306.0</td>\n",
       "      <td>Misd Higher than IQR</td>\n",
       "      <td>2686.0</td>\n",
       "      <td>Major Within Lower IQR</td>\n",
       "      <td>1672.0</td>\n",
       "      <td>Nonmajor Within Higher IQR</td>\n",
       "    </tr>\n",
       "    <tr>\n",
       "      <th>1539555</th>\n",
       "      <td>1539555</td>\n",
       "      <td>2015-12-31 23:42:51</td>\n",
       "      <td>Noise - Residential</td>\n",
       "      <td>Loud Music/Party</td>\n",
       "      <td>Residential Building/House</td>\n",
       "      <td>10467</td>\n",
       "      <td>BRONX</td>\n",
       "      <td>BRONX</td>\n",
       "      <td>52</td>\n",
       "      <td>94,342</td>\n",
       "      <td>0.3519</td>\n",
       "      <td>2015</td>\n",
       "      <td>2130.0</td>\n",
       "      <td>VC Higher than IQR</td>\n",
       "      <td>14230.0</td>\n",
       "      <td>Misd Higher than IQR</td>\n",
       "      <td>4218.0</td>\n",
       "      <td>Major Higher than IQR</td>\n",
       "      <td>2268.0</td>\n",
       "      <td>Nonmajor Higher than IQR</td>\n",
       "    </tr>\n",
       "    <tr>\n",
       "      <th>1539556</th>\n",
       "      <td>1539556</td>\n",
       "      <td>2015-12-31 23:42:53</td>\n",
       "      <td>Noise - Residential</td>\n",
       "      <td>Banging/Pounding</td>\n",
       "      <td>Residential Building/House</td>\n",
       "      <td>10031</td>\n",
       "      <td>NEW YORK</td>\n",
       "      <td>MANHATTAN</td>\n",
       "      <td>33</td>\n",
       "      <td>60,221</td>\n",
       "      <td>0.4383</td>\n",
       "      <td>2015</td>\n",
       "      <td>1082.0</td>\n",
       "      <td>VC Within Lower IQR</td>\n",
       "      <td>6806.0</td>\n",
       "      <td>Misd Within Lower IQR</td>\n",
       "      <td>1614.0</td>\n",
       "      <td>Major Within Lower IQR</td>\n",
       "      <td>1300.0</td>\n",
       "      <td>Nonmajor Within Lower IQR</td>\n",
       "    </tr>\n",
       "    <tr>\n",
       "      <th>1539557</th>\n",
       "      <td>1539557</td>\n",
       "      <td>2015-12-31 23:43:02</td>\n",
       "      <td>Noise - Residential</td>\n",
       "      <td>Loud Music/Party</td>\n",
       "      <td>Residential Building/House</td>\n",
       "      <td>11365</td>\n",
       "      <td>FRESH MEADOWS</td>\n",
       "      <td>QUEENS</td>\n",
       "      <td>107</td>\n",
       "      <td>41,566</td>\n",
       "      <td>0.1132</td>\n",
       "      <td>2015</td>\n",
       "      <td>1348.0</td>\n",
       "      <td>VC Within Lower IQR</td>\n",
       "      <td>5956.0</td>\n",
       "      <td>Misd Within Lower IQR</td>\n",
       "      <td>2208.0</td>\n",
       "      <td>Major Within Lower IQR</td>\n",
       "      <td>838.0</td>\n",
       "      <td>Nonmajor Within Lower IQR</td>\n",
       "    </tr>\n",
       "    <tr>\n",
       "      <th>1539558</th>\n",
       "      <td>1539558</td>\n",
       "      <td>2015-12-31 23:43:14</td>\n",
       "      <td>Noise - Residential</td>\n",
       "      <td>Loud Music/Party</td>\n",
       "      <td>Residential Building/House</td>\n",
       "      <td>10473</td>\n",
       "      <td>BRONX</td>\n",
       "      <td>BRONX</td>\n",
       "      <td>43</td>\n",
       "      <td>56,166</td>\n",
       "      <td>0.3838</td>\n",
       "      <td>2015</td>\n",
       "      <td>3294.0</td>\n",
       "      <td>VC Higher than IQR</td>\n",
       "      <td>15582.0</td>\n",
       "      <td>Misd Higher than IQR</td>\n",
       "      <td>4982.0</td>\n",
       "      <td>Major Higher than IQR</td>\n",
       "      <td>1952.0</td>\n",
       "      <td>Nonmajor Within Higher IQR</td>\n",
       "    </tr>\n",
       "    <tr>\n",
       "      <th>1539559</th>\n",
       "      <td>1539559</td>\n",
       "      <td>2015-12-31 23:43:31</td>\n",
       "      <td>Noise - Residential</td>\n",
       "      <td>Loud Music/Party</td>\n",
       "      <td>Residential Building/House</td>\n",
       "      <td>10456</td>\n",
       "      <td>BRONX</td>\n",
       "      <td>BRONX</td>\n",
       "      <td>42</td>\n",
       "      <td>76,656</td>\n",
       "      <td>0.6449</td>\n",
       "      <td>2015</td>\n",
       "      <td>2024.0</td>\n",
       "      <td>VC Within Higher IQR</td>\n",
       "      <td>11306.0</td>\n",
       "      <td>Misd Higher than IQR</td>\n",
       "      <td>2686.0</td>\n",
       "      <td>Major Within Lower IQR</td>\n",
       "      <td>1672.0</td>\n",
       "      <td>Nonmajor Within Higher IQR</td>\n",
       "    </tr>\n",
       "    <tr>\n",
       "      <th>1539560</th>\n",
       "      <td>1539560</td>\n",
       "      <td>2015-12-31 23:44:02</td>\n",
       "      <td>Noise - Residential</td>\n",
       "      <td>Loud Music/Party</td>\n",
       "      <td>Residential Building/House</td>\n",
       "      <td>11233</td>\n",
       "      <td>BROOKLYN</td>\n",
       "      <td>BROOKLYN</td>\n",
       "      <td>60</td>\n",
       "      <td>61,955</td>\n",
       "      <td>0.5202</td>\n",
       "      <td>2015</td>\n",
       "      <td>1842.0</td>\n",
       "      <td>VC Within Higher IQR</td>\n",
       "      <td>8948.0</td>\n",
       "      <td>Misd Within Higher IQR</td>\n",
       "      <td>2808.0</td>\n",
       "      <td>Major Within Lower IQR</td>\n",
       "      <td>1876.0</td>\n",
       "      <td>Nonmajor Within Higher IQR</td>\n",
       "    </tr>\n",
       "    <tr>\n",
       "      <th>1539561</th>\n",
       "      <td>1539561</td>\n",
       "      <td>2015-12-31 23:44:15</td>\n",
       "      <td>Noise - Residential</td>\n",
       "      <td>Loud Music/Party</td>\n",
       "      <td>Residential Building/House</td>\n",
       "      <td>10009</td>\n",
       "      <td>NEW YORK</td>\n",
       "      <td>MANHATTAN</td>\n",
       "      <td>9</td>\n",
       "      <td>58,595</td>\n",
       "      <td>0.2576</td>\n",
       "      <td>2015</td>\n",
       "      <td>1126.0</td>\n",
       "      <td>VC Within Lower IQR</td>\n",
       "      <td>7930.0</td>\n",
       "      <td>Misd Within Higher IQR</td>\n",
       "      <td>2674.0</td>\n",
       "      <td>Major Within Lower IQR</td>\n",
       "      <td>1230.0</td>\n",
       "      <td>Nonmajor Within Lower IQR</td>\n",
       "    </tr>\n",
       "    <tr>\n",
       "      <th>1539562</th>\n",
       "      <td>1539562</td>\n",
       "      <td>2015-12-31 23:44:33</td>\n",
       "      <td>Noise - Residential</td>\n",
       "      <td>Loud Music/Party</td>\n",
       "      <td>Residential Building/House</td>\n",
       "      <td>10456</td>\n",
       "      <td>BRONX</td>\n",
       "      <td>BRONX</td>\n",
       "      <td>42</td>\n",
       "      <td>76,656</td>\n",
       "      <td>0.6449</td>\n",
       "      <td>2015</td>\n",
       "      <td>2024.0</td>\n",
       "      <td>VC Within Higher IQR</td>\n",
       "      <td>11306.0</td>\n",
       "      <td>Misd Higher than IQR</td>\n",
       "      <td>2686.0</td>\n",
       "      <td>Major Within Lower IQR</td>\n",
       "      <td>1672.0</td>\n",
       "      <td>Nonmajor Within Higher IQR</td>\n",
       "    </tr>\n",
       "    <tr>\n",
       "      <th>1539563</th>\n",
       "      <td>1539563</td>\n",
       "      <td>2015-12-31 23:44:44</td>\n",
       "      <td>Noise - Residential</td>\n",
       "      <td>Loud Music/Party</td>\n",
       "      <td>Residential Building/House</td>\n",
       "      <td>10452</td>\n",
       "      <td>BRONX</td>\n",
       "      <td>BRONX</td>\n",
       "      <td>44</td>\n",
       "      <td>72,138</td>\n",
       "      <td>0.6047</td>\n",
       "      <td>2015</td>\n",
       "      <td>2748.0</td>\n",
       "      <td>VC Higher than IQR</td>\n",
       "      <td>18508.0</td>\n",
       "      <td>Misd Higher Outliers</td>\n",
       "      <td>4938.0</td>\n",
       "      <td>Major Higher than IQR</td>\n",
       "      <td>2344.0</td>\n",
       "      <td>Nonmajor Higher than IQR</td>\n",
       "    </tr>\n",
       "    <tr>\n",
       "      <th>1539564</th>\n",
       "      <td>1539564</td>\n",
       "      <td>2015-12-31 23:44:46</td>\n",
       "      <td>Noise - Residential</td>\n",
       "      <td>Loud Music/Party</td>\n",
       "      <td>Residential Building/House</td>\n",
       "      <td>11213</td>\n",
       "      <td>BROOKLYN</td>\n",
       "      <td>BROOKLYN</td>\n",
       "      <td>77</td>\n",
       "      <td>65,440</td>\n",
       "      <td>0.3850</td>\n",
       "      <td>2015</td>\n",
       "      <td>2082.0</td>\n",
       "      <td>VC Within Higher IQR</td>\n",
       "      <td>7884.0</td>\n",
       "      <td>Misd Within Lower IQR</td>\n",
       "      <td>2990.0</td>\n",
       "      <td>Major Within Higher IQR</td>\n",
       "      <td>1848.0</td>\n",
       "      <td>Nonmajor Within Higher IQR</td>\n",
       "    </tr>\n",
       "    <tr>\n",
       "      <th>1539565</th>\n",
       "      <td>1539565</td>\n",
       "      <td>2015-12-31 23:44:52</td>\n",
       "      <td>Noise - Commercial</td>\n",
       "      <td>Loud Music/Party</td>\n",
       "      <td>Club/Bar/Restaurant</td>\n",
       "      <td>11217</td>\n",
       "      <td>BROOKLYN</td>\n",
       "      <td>BROOKLYN</td>\n",
       "      <td>78</td>\n",
       "      <td>35,353</td>\n",
       "      <td>0.1975</td>\n",
       "      <td>2015</td>\n",
       "      <td>974.0</td>\n",
       "      <td>VC Within Lower IQR</td>\n",
       "      <td>5310.0</td>\n",
       "      <td>Misd Within Lower IQR</td>\n",
       "      <td>1940.0</td>\n",
       "      <td>Major Within Lower IQR</td>\n",
       "      <td>566.0</td>\n",
       "      <td>Nonmajor Within Lower IQR</td>\n",
       "    </tr>\n",
       "    <tr>\n",
       "      <th>1539566</th>\n",
       "      <td>1539566</td>\n",
       "      <td>2015-12-31 23:46:36</td>\n",
       "      <td>Noise - Residential</td>\n",
       "      <td>Loud Music/Party</td>\n",
       "      <td>Residential Building/House</td>\n",
       "      <td>11237</td>\n",
       "      <td>BROOKLYN</td>\n",
       "      <td>BROOKLYN</td>\n",
       "      <td>83</td>\n",
       "      <td>48,910</td>\n",
       "      <td>0.5385</td>\n",
       "      <td>2015</td>\n",
       "      <td>1416.0</td>\n",
       "      <td>VC Within Lower IQR</td>\n",
       "      <td>8382.0</td>\n",
       "      <td>Misd Within Higher IQR</td>\n",
       "      <td>3356.0</td>\n",
       "      <td>Major Within Higher IQR</td>\n",
       "      <td>1796.0</td>\n",
       "      <td>Nonmajor Within Higher IQR</td>\n",
       "    </tr>\n",
       "    <tr>\n",
       "      <th>1539567</th>\n",
       "      <td>1539567</td>\n",
       "      <td>2015-12-31 23:47:04</td>\n",
       "      <td>Noise - Residential</td>\n",
       "      <td>Loud Music/Party</td>\n",
       "      <td>Residential Building/House</td>\n",
       "      <td>10472</td>\n",
       "      <td>BRONX</td>\n",
       "      <td>BRONX</td>\n",
       "      <td>43</td>\n",
       "      <td>64,867</td>\n",
       "      <td>0.4852</td>\n",
       "      <td>2015</td>\n",
       "      <td>3294.0</td>\n",
       "      <td>VC Higher than IQR</td>\n",
       "      <td>15582.0</td>\n",
       "      <td>Misd Higher than IQR</td>\n",
       "      <td>4982.0</td>\n",
       "      <td>Major Higher than IQR</td>\n",
       "      <td>1952.0</td>\n",
       "      <td>Nonmajor Within Higher IQR</td>\n",
       "    </tr>\n",
       "    <tr>\n",
       "      <th>1539568</th>\n",
       "      <td>1539568</td>\n",
       "      <td>2015-12-31 23:48:03</td>\n",
       "      <td>Noise - Street/Sidewalk</td>\n",
       "      <td>Loud Music/Party</td>\n",
       "      <td>Street/Sidewalk</td>\n",
       "      <td>10461</td>\n",
       "      <td>BRONX</td>\n",
       "      <td>BRONX</td>\n",
       "      <td>49</td>\n",
       "      <td>49,808</td>\n",
       "      <td>0.1408</td>\n",
       "      <td>2015</td>\n",
       "      <td>1602.0</td>\n",
       "      <td>VC Within Higher IQR</td>\n",
       "      <td>8788.0</td>\n",
       "      <td>Misd Within Higher IQR</td>\n",
       "      <td>2488.0</td>\n",
       "      <td>Major Within Lower IQR</td>\n",
       "      <td>1022.0</td>\n",
       "      <td>Nonmajor Within Lower IQR</td>\n",
       "    </tr>\n",
       "    <tr>\n",
       "      <th>1539569</th>\n",
       "      <td>1539569</td>\n",
       "      <td>2015-12-31 23:50:14</td>\n",
       "      <td>Noise - Residential</td>\n",
       "      <td>Loud Music/Party</td>\n",
       "      <td>Residential Building/House</td>\n",
       "      <td>11379</td>\n",
       "      <td>MIDDLE VILLAGE</td>\n",
       "      <td>QUEENS</td>\n",
       "      <td>104</td>\n",
       "      <td>28,984</td>\n",
       "      <td>0.1010</td>\n",
       "      <td>2015</td>\n",
       "      <td>1710.0</td>\n",
       "      <td>VC Within Higher IQR</td>\n",
       "      <td>7736.0</td>\n",
       "      <td>Misd Within Lower IQR</td>\n",
       "      <td>2710.0</td>\n",
       "      <td>Major Within Lower IQR</td>\n",
       "      <td>1280.0</td>\n",
       "      <td>Nonmajor Within Lower IQR</td>\n",
       "    </tr>\n",
       "    <tr>\n",
       "      <th>1539570</th>\n",
       "      <td>1539570</td>\n",
       "      <td>2015-12-31 23:50:29</td>\n",
       "      <td>Noise - Residential</td>\n",
       "      <td>Banging/Pounding</td>\n",
       "      <td>Residential Building/House</td>\n",
       "      <td>11366</td>\n",
       "      <td>FRESH MEADOWS</td>\n",
       "      <td>QUEENS</td>\n",
       "      <td>107</td>\n",
       "      <td>13,366</td>\n",
       "      <td>0.0735</td>\n",
       "      <td>2015</td>\n",
       "      <td>1348.0</td>\n",
       "      <td>VC Within Lower IQR</td>\n",
       "      <td>5956.0</td>\n",
       "      <td>Misd Within Lower IQR</td>\n",
       "      <td>2208.0</td>\n",
       "      <td>Major Within Lower IQR</td>\n",
       "      <td>838.0</td>\n",
       "      <td>Nonmajor Within Lower IQR</td>\n",
       "    </tr>\n",
       "    <tr>\n",
       "      <th>1539571</th>\n",
       "      <td>1539571</td>\n",
       "      <td>2015-12-31 23:50:36</td>\n",
       "      <td>Noise - Residential</td>\n",
       "      <td>Loud Music/Party</td>\n",
       "      <td>Residential Building/House</td>\n",
       "      <td>10028</td>\n",
       "      <td>NEW YORK</td>\n",
       "      <td>MANHATTAN</td>\n",
       "      <td>30</td>\n",
       "      <td>44,987</td>\n",
       "      <td>0.0573</td>\n",
       "      <td>2015</td>\n",
       "      <td>1218.0</td>\n",
       "      <td>VC Within Lower IQR</td>\n",
       "      <td>6882.0</td>\n",
       "      <td>Misd Within Lower IQR</td>\n",
       "      <td>1466.0</td>\n",
       "      <td>Major Within Lower IQR</td>\n",
       "      <td>974.0</td>\n",
       "      <td>Nonmajor Within Lower IQR</td>\n",
       "    </tr>\n",
       "    <tr>\n",
       "      <th>1539572</th>\n",
       "      <td>1539572</td>\n",
       "      <td>2015-12-31 23:51:08</td>\n",
       "      <td>Noise - Residential</td>\n",
       "      <td>Loud Music/Party</td>\n",
       "      <td>Residential Building/House</td>\n",
       "      <td>10456</td>\n",
       "      <td>BRONX</td>\n",
       "      <td>BRONX</td>\n",
       "      <td>42</td>\n",
       "      <td>76,656</td>\n",
       "      <td>0.6449</td>\n",
       "      <td>2015</td>\n",
       "      <td>2024.0</td>\n",
       "      <td>VC Within Higher IQR</td>\n",
       "      <td>11306.0</td>\n",
       "      <td>Misd Higher than IQR</td>\n",
       "      <td>2686.0</td>\n",
       "      <td>Major Within Lower IQR</td>\n",
       "      <td>1672.0</td>\n",
       "      <td>Nonmajor Within Higher IQR</td>\n",
       "    </tr>\n",
       "    <tr>\n",
       "      <th>1539573</th>\n",
       "      <td>1539573</td>\n",
       "      <td>2015-12-31 23:51:28</td>\n",
       "      <td>Noise - Residential</td>\n",
       "      <td>Loud Music/Party</td>\n",
       "      <td>Residential Building/House</td>\n",
       "      <td>10452</td>\n",
       "      <td>BRONX</td>\n",
       "      <td>BRONX</td>\n",
       "      <td>44</td>\n",
       "      <td>72,138</td>\n",
       "      <td>0.6047</td>\n",
       "      <td>2015</td>\n",
       "      <td>2748.0</td>\n",
       "      <td>VC Higher than IQR</td>\n",
       "      <td>18508.0</td>\n",
       "      <td>Misd Higher Outliers</td>\n",
       "      <td>4938.0</td>\n",
       "      <td>Major Higher than IQR</td>\n",
       "      <td>2344.0</td>\n",
       "      <td>Nonmajor Higher than IQR</td>\n",
       "    </tr>\n",
       "    <tr>\n",
       "      <th>1539574</th>\n",
       "      <td>1539574</td>\n",
       "      <td>2015-12-31 23:51:54</td>\n",
       "      <td>Noise - Residential</td>\n",
       "      <td>Banging/Pounding</td>\n",
       "      <td>Residential Building/House</td>\n",
       "      <td>10471</td>\n",
       "      <td>BRONX</td>\n",
       "      <td>BRONX</td>\n",
       "      <td>50</td>\n",
       "      <td>23,413</td>\n",
       "      <td>0.0778</td>\n",
       "      <td>2015</td>\n",
       "      <td>1148.0</td>\n",
       "      <td>VC Within Lower IQR</td>\n",
       "      <td>5496.0</td>\n",
       "      <td>Misd Within Lower IQR</td>\n",
       "      <td>1902.0</td>\n",
       "      <td>Major Within Lower IQR</td>\n",
       "      <td>794.0</td>\n",
       "      <td>Nonmajor Within Lower IQR</td>\n",
       "    </tr>\n",
       "    <tr>\n",
       "      <th>1539575</th>\n",
       "      <td>1539575</td>\n",
       "      <td>2015-12-31 23:52:04</td>\n",
       "      <td>Noise - Residential</td>\n",
       "      <td>Loud Music/Party</td>\n",
       "      <td>Residential Building/House</td>\n",
       "      <td>11225</td>\n",
       "      <td>BROOKLYN</td>\n",
       "      <td>BROOKLYN</td>\n",
       "      <td>71</td>\n",
       "      <td>63,774</td>\n",
       "      <td>0.3096</td>\n",
       "      <td>2015</td>\n",
       "      <td>2230.0</td>\n",
       "      <td>VC Higher than IQR</td>\n",
       "      <td>8506.0</td>\n",
       "      <td>Misd Within Higher IQR</td>\n",
       "      <td>2994.0</td>\n",
       "      <td>Major Within Higher IQR</td>\n",
       "      <td>1518.0</td>\n",
       "      <td>Nonmajor Within Higher IQR</td>\n",
       "    </tr>\n",
       "    <tr>\n",
       "      <th>1539576</th>\n",
       "      <td>1539576</td>\n",
       "      <td>2015-12-31 23:52:12</td>\n",
       "      <td>Noise - Residential</td>\n",
       "      <td>Loud Music/Party</td>\n",
       "      <td>Residential Building/House</td>\n",
       "      <td>10456</td>\n",
       "      <td>BRONX</td>\n",
       "      <td>BRONX</td>\n",
       "      <td>42</td>\n",
       "      <td>76,656</td>\n",
       "      <td>0.6449</td>\n",
       "      <td>2015</td>\n",
       "      <td>2024.0</td>\n",
       "      <td>VC Within Higher IQR</td>\n",
       "      <td>11306.0</td>\n",
       "      <td>Misd Higher than IQR</td>\n",
       "      <td>2686.0</td>\n",
       "      <td>Major Within Lower IQR</td>\n",
       "      <td>1672.0</td>\n",
       "      <td>Nonmajor Within Higher IQR</td>\n",
       "    </tr>\n",
       "    <tr>\n",
       "      <th>1539577</th>\n",
       "      <td>1539577</td>\n",
       "      <td>2015-12-31 23:53:14</td>\n",
       "      <td>Noise - Residential</td>\n",
       "      <td>Loud Music/Party</td>\n",
       "      <td>Residential Building/House</td>\n",
       "      <td>10456</td>\n",
       "      <td>BRONX</td>\n",
       "      <td>BRONX</td>\n",
       "      <td>42</td>\n",
       "      <td>76,656</td>\n",
       "      <td>0.6449</td>\n",
       "      <td>2015</td>\n",
       "      <td>2024.0</td>\n",
       "      <td>VC Within Higher IQR</td>\n",
       "      <td>11306.0</td>\n",
       "      <td>Misd Higher than IQR</td>\n",
       "      <td>2686.0</td>\n",
       "      <td>Major Within Lower IQR</td>\n",
       "      <td>1672.0</td>\n",
       "      <td>Nonmajor Within Higher IQR</td>\n",
       "    </tr>\n",
       "    <tr>\n",
       "      <th>1539578</th>\n",
       "      <td>1539578</td>\n",
       "      <td>2015-12-31 23:55:51</td>\n",
       "      <td>Noise - Residential</td>\n",
       "      <td>Loud Music/Party</td>\n",
       "      <td>Residential Building/House</td>\n",
       "      <td>11416</td>\n",
       "      <td>OZONE PARK</td>\n",
       "      <td>QUEENS</td>\n",
       "      <td>102</td>\n",
       "      <td>23,668</td>\n",
       "      <td>0.2326</td>\n",
       "      <td>2015</td>\n",
       "      <td>1862.0</td>\n",
       "      <td>VC Within Higher IQR</td>\n",
       "      <td>6696.0</td>\n",
       "      <td>Misd Within Lower IQR</td>\n",
       "      <td>2850.0</td>\n",
       "      <td>Major Within Higher IQR</td>\n",
       "      <td>1328.0</td>\n",
       "      <td>Nonmajor Within Lower IQR</td>\n",
       "    </tr>\n",
       "    <tr>\n",
       "      <th>1539579</th>\n",
       "      <td>1539579</td>\n",
       "      <td>2015-12-31 23:56:34</td>\n",
       "      <td>Noise - Residential</td>\n",
       "      <td>Loud Music/Party</td>\n",
       "      <td>Residential Building/House</td>\n",
       "      <td>10301</td>\n",
       "      <td>STATEN ISLAND</td>\n",
       "      <td>STATEN ISLAND</td>\n",
       "      <td>120</td>\n",
       "      <td>38,805</td>\n",
       "      <td>0.1816</td>\n",
       "      <td>2015</td>\n",
       "      <td>3320.0</td>\n",
       "      <td>VC Higher than IQR</td>\n",
       "      <td>9448.0</td>\n",
       "      <td>Misd Within Higher IQR</td>\n",
       "      <td>2294.0</td>\n",
       "      <td>Major Within Lower IQR</td>\n",
       "      <td>1520.0</td>\n",
       "      <td>Nonmajor Within Higher IQR</td>\n",
       "    </tr>\n",
       "    <tr>\n",
       "      <th>1539580</th>\n",
       "      <td>1539580</td>\n",
       "      <td>2015-12-31 23:59:19</td>\n",
       "      <td>Noise - Residential</td>\n",
       "      <td>Loud Music/Party</td>\n",
       "      <td>Residential Building/House</td>\n",
       "      <td>10002</td>\n",
       "      <td>NEW YORK</td>\n",
       "      <td>MANHATTAN</td>\n",
       "      <td>7</td>\n",
       "      <td>84,870</td>\n",
       "      <td>0.3504</td>\n",
       "      <td>2015</td>\n",
       "      <td>1172.0</td>\n",
       "      <td>VC Within Lower IQR</td>\n",
       "      <td>5864.0</td>\n",
       "      <td>Misd Within Lower IQR</td>\n",
       "      <td>1562.0</td>\n",
       "      <td>Major Within Lower IQR</td>\n",
       "      <td>964.0</td>\n",
       "      <td>Nonmajor Within Lower IQR</td>\n",
       "    </tr>\n",
       "    <tr>\n",
       "      <th>1539581</th>\n",
       "      <td>1539581</td>\n",
       "      <td>2015-12-31 23:59:45</td>\n",
       "      <td>Noise - Street/Sidewalk</td>\n",
       "      <td>Loud Music/Party</td>\n",
       "      <td>Street/Sidewalk</td>\n",
       "      <td>10034</td>\n",
       "      <td>NEW YORK</td>\n",
       "      <td>MANHATTAN</td>\n",
       "      <td>34</td>\n",
       "      <td>41,756</td>\n",
       "      <td>0.3789</td>\n",
       "      <td>2015</td>\n",
       "      <td>1502.0</td>\n",
       "      <td>VC Within Lower IQR</td>\n",
       "      <td>7926.0</td>\n",
       "      <td>Misd Within Lower IQR</td>\n",
       "      <td>2630.0</td>\n",
       "      <td>Major Within Lower IQR</td>\n",
       "      <td>1476.0</td>\n",
       "      <td>Nonmajor Within Lower IQR</td>\n",
       "    </tr>\n",
       "  </tbody>\n",
       "</table>\n",
       "<p>1539582 rows × 20 columns</p>\n",
       "</div>"
      ],
      "text/plain": [
       "         Unnamed: 0         Created_Date           Complaint Type  \\\n",
       "0                 0  2010-01-01 00:03:46      Noise - Residential   \n",
       "1                 1  2010-01-01 00:08:02      Noise - Residential   \n",
       "2                 2  2010-01-01 00:15:08      Noise - Residential   \n",
       "3                 3  2010-01-01 00:15:12      Noise - Residential   \n",
       "4                 4  2010-01-01 00:15:51       Noise - Commercial   \n",
       "5                 5  2010-01-01 00:19:07      Noise - Residential   \n",
       "6                 6  2010-01-01 00:23:08  Noise - Street/Sidewalk   \n",
       "7                 7  2010-01-01 00:24:00                    Noise   \n",
       "8                 8  2010-01-01 00:27:45      Noise - Residential   \n",
       "9                 9  2010-01-01 00:29:18      Noise - Residential   \n",
       "10               10  2010-01-01 00:29:25      Noise - Residential   \n",
       "11               11  2010-01-01 00:29:36      Noise - Residential   \n",
       "12               12  2010-01-01 00:29:57      Noise - Residential   \n",
       "13               13  2010-01-01 00:30:50      Noise - Residential   \n",
       "14               14  2010-01-01 00:34:02      Noise - Residential   \n",
       "15               15  2010-01-01 00:36:01       Noise - Commercial   \n",
       "16               16  2010-01-01 00:36:07      Noise - Residential   \n",
       "17               17  2010-01-01 00:37:58      Noise - Residential   \n",
       "18               18  2010-01-01 00:38:36       Noise - Commercial   \n",
       "19               19  2010-01-01 00:39:57       Noise - Commercial   \n",
       "20               20  2010-01-01 00:40:48      Noise - Residential   \n",
       "21               21  2010-01-01 00:43:06      Noise - Residential   \n",
       "22               22  2010-01-01 00:45:07      Noise - Residential   \n",
       "23               23  2010-01-01 00:46:57      Noise - Residential   \n",
       "24               24  2010-01-01 00:48:21      Noise - Residential   \n",
       "25               25  2010-01-01 00:48:31      Noise - Residential   \n",
       "26               26  2010-01-01 00:48:39       Noise - Commercial   \n",
       "27               27  2010-01-01 00:48:43      Noise - Residential   \n",
       "28               28  2010-01-01 00:50:09      Noise - Residential   \n",
       "29               29  2010-01-01 00:50:23      Noise - Residential   \n",
       "...             ...                  ...                      ...   \n",
       "1539552     1539552  2015-12-31 23:41:22      Noise - Residential   \n",
       "1539553     1539553  2015-12-31 23:41:28      Noise - Residential   \n",
       "1539554     1539554  2015-12-31 23:42:24      Noise - Residential   \n",
       "1539555     1539555  2015-12-31 23:42:51      Noise - Residential   \n",
       "1539556     1539556  2015-12-31 23:42:53      Noise - Residential   \n",
       "1539557     1539557  2015-12-31 23:43:02      Noise - Residential   \n",
       "1539558     1539558  2015-12-31 23:43:14      Noise - Residential   \n",
       "1539559     1539559  2015-12-31 23:43:31      Noise - Residential   \n",
       "1539560     1539560  2015-12-31 23:44:02      Noise - Residential   \n",
       "1539561     1539561  2015-12-31 23:44:15      Noise - Residential   \n",
       "1539562     1539562  2015-12-31 23:44:33      Noise - Residential   \n",
       "1539563     1539563  2015-12-31 23:44:44      Noise - Residential   \n",
       "1539564     1539564  2015-12-31 23:44:46      Noise - Residential   \n",
       "1539565     1539565  2015-12-31 23:44:52       Noise - Commercial   \n",
       "1539566     1539566  2015-12-31 23:46:36      Noise - Residential   \n",
       "1539567     1539567  2015-12-31 23:47:04      Noise - Residential   \n",
       "1539568     1539568  2015-12-31 23:48:03  Noise - Street/Sidewalk   \n",
       "1539569     1539569  2015-12-31 23:50:14      Noise - Residential   \n",
       "1539570     1539570  2015-12-31 23:50:29      Noise - Residential   \n",
       "1539571     1539571  2015-12-31 23:50:36      Noise - Residential   \n",
       "1539572     1539572  2015-12-31 23:51:08      Noise - Residential   \n",
       "1539573     1539573  2015-12-31 23:51:28      Noise - Residential   \n",
       "1539574     1539574  2015-12-31 23:51:54      Noise - Residential   \n",
       "1539575     1539575  2015-12-31 23:52:04      Noise - Residential   \n",
       "1539576     1539576  2015-12-31 23:52:12      Noise - Residential   \n",
       "1539577     1539577  2015-12-31 23:53:14      Noise - Residential   \n",
       "1539578     1539578  2015-12-31 23:55:51      Noise - Residential   \n",
       "1539579     1539579  2015-12-31 23:56:34      Noise - Residential   \n",
       "1539580     1539580  2015-12-31 23:59:19      Noise - Residential   \n",
       "1539581     1539581  2015-12-31 23:59:45  Noise - Street/Sidewalk   \n",
       "\n",
       "                       Descriptor               Location Type  Zip Code  \\\n",
       "0                 Loud Television  Residential Building/House     11230   \n",
       "1                Loud Music/Party  Residential Building/House     11220   \n",
       "2                Banging/Pounding  Residential Building/House     11355   \n",
       "3                Loud Music/Party  Residential Building/House     10014   \n",
       "4                Loud Music/Party         Club/Bar/Restaurant     11220   \n",
       "5                Loud Music/Party  Residential Building/House     10453   \n",
       "6                    Loud Talking             Street/Sidewalk     10011   \n",
       "7        Noise, Barking Dog (NR5)                         NaN     10473   \n",
       "8                Loud Music/Party  Residential Building/House     11218   \n",
       "9                Loud Music/Party  Residential Building/House     11215   \n",
       "10               Banging/Pounding  Residential Building/House     10463   \n",
       "11               Loud Music/Party  Residential Building/House     10310   \n",
       "12               Banging/Pounding  Residential Building/House     11233   \n",
       "13               Banging/Pounding  Residential Building/House     11355   \n",
       "14               Loud Music/Party  Residential Building/House     10301   \n",
       "15               Loud Music/Party            Store/Commercial     11230   \n",
       "16               Loud Music/Party  Residential Building/House     11220   \n",
       "17               Loud Music/Party  Residential Building/House     11219   \n",
       "18               Loud Music/Party            Store/Commercial     11434   \n",
       "19               Loud Music/Party         Club/Bar/Restaurant     11234   \n",
       "20               Loud Music/Party  Residential Building/House     10025   \n",
       "21               Loud Music/Party  Residential Building/House     11209   \n",
       "22               Loud Music/Party  Residential Building/House     10466   \n",
       "23               Banging/Pounding  Residential Building/House     11203   \n",
       "24               Loud Music/Party  Residential Building/House     10451   \n",
       "25               Loud Music/Party  Residential Building/House     10023   \n",
       "26               Loud Music/Party         Club/Bar/Restaurant     10014   \n",
       "27               Loud Music/Party  Residential Building/House     11373   \n",
       "28               Loud Music/Party  Residential Building/House     11377   \n",
       "29               Loud Music/Party  Residential Building/House     10466   \n",
       "...                           ...                         ...       ...   \n",
       "1539552          Loud Music/Party  Residential Building/House     10456   \n",
       "1539553          Loud Music/Party  Residential Building/House     10469   \n",
       "1539554          Loud Music/Party  Residential Building/House     10456   \n",
       "1539555          Loud Music/Party  Residential Building/House     10467   \n",
       "1539556          Banging/Pounding  Residential Building/House     10031   \n",
       "1539557          Loud Music/Party  Residential Building/House     11365   \n",
       "1539558          Loud Music/Party  Residential Building/House     10473   \n",
       "1539559          Loud Music/Party  Residential Building/House     10456   \n",
       "1539560          Loud Music/Party  Residential Building/House     11233   \n",
       "1539561          Loud Music/Party  Residential Building/House     10009   \n",
       "1539562          Loud Music/Party  Residential Building/House     10456   \n",
       "1539563          Loud Music/Party  Residential Building/House     10452   \n",
       "1539564          Loud Music/Party  Residential Building/House     11213   \n",
       "1539565          Loud Music/Party         Club/Bar/Restaurant     11217   \n",
       "1539566          Loud Music/Party  Residential Building/House     11237   \n",
       "1539567          Loud Music/Party  Residential Building/House     10472   \n",
       "1539568          Loud Music/Party             Street/Sidewalk     10461   \n",
       "1539569          Loud Music/Party  Residential Building/House     11379   \n",
       "1539570          Banging/Pounding  Residential Building/House     11366   \n",
       "1539571          Loud Music/Party  Residential Building/House     10028   \n",
       "1539572          Loud Music/Party  Residential Building/House     10456   \n",
       "1539573          Loud Music/Party  Residential Building/House     10452   \n",
       "1539574          Banging/Pounding  Residential Building/House     10471   \n",
       "1539575          Loud Music/Party  Residential Building/House     11225   \n",
       "1539576          Loud Music/Party  Residential Building/House     10456   \n",
       "1539577          Loud Music/Party  Residential Building/House     10456   \n",
       "1539578          Loud Music/Party  Residential Building/House     11416   \n",
       "1539579          Loud Music/Party  Residential Building/House     10301   \n",
       "1539580          Loud Music/Party  Residential Building/House     10002   \n",
       "1539581          Loud Music/Party             Street/Sidewalk     10034   \n",
       "\n",
       "                   City        Borough  Precinct Population  % Poverty Level  \\\n",
       "0              BROOKLYN       BROOKLYN        70     88,933           0.2770   \n",
       "1              BROOKLYN       BROOKLYN        68     92,718           0.3653   \n",
       "2              FLUSHING         QUEENS       109     83,281           0.2133   \n",
       "3              NEW YORK      MANHATTAN         6     32,667           0.0650   \n",
       "4              BROOKLYN       BROOKLYN        68     92,718           0.3653   \n",
       "5                 BRONX          BRONX        46     76,775           0.5912   \n",
       "6              NEW YORK      MANHATTAN        10     46,669           0.1026   \n",
       "7                 BRONX          BRONX        43     56,166           0.3838   \n",
       "8              BROOKLYN       BROOKLYN        66     74,611           0.3138   \n",
       "9              BROOKLYN       BROOKLYN        78     63,001           0.1484   \n",
       "10                BRONX          BRONX        50     65,576           0.2107   \n",
       "11        STATEN ISLAND  STATEN ISLAND       120     22,852           0.2078   \n",
       "12             BROOKLYN       BROOKLYN        60     61,955           0.5202   \n",
       "13             FLUSHING         QUEENS       109     83,281           0.2133   \n",
       "14        STATEN ISLAND  STATEN ISLAND       120     38,805           0.1816   \n",
       "15             BROOKLYN       BROOKLYN        70     88,933           0.2770   \n",
       "16             BROOKLYN       BROOKLYN        68     92,718           0.3653   \n",
       "17             BROOKLYN       BROOKLYN        66     85,987           0.4544   \n",
       "18              JAMAICA         QUEENS       113     59,142           0.1798   \n",
       "19             BROOKLYN       BROOKLYN        63     86,898           0.1193   \n",
       "20             NEW YORK      MANHATTAN        24     97,086           0.1688   \n",
       "21             BROOKLYN       BROOKLYN        68     69,840           0.1521   \n",
       "22                BRONX          BRONX        47     68,787           0.2738   \n",
       "23             BROOKLYN       BROOKLYN        67     84,498           0.2249   \n",
       "24                BRONX          BRONX        42     40,961           0.5249   \n",
       "25             NEW YORK      MANHATTAN        20     62,206           0.0799   \n",
       "26             NEW YORK      MANHATTAN         6     32,667           0.0650   \n",
       "27             ELMHURST         QUEENS       110    105,723           0.2160   \n",
       "28             WOODSIDE         QUEENS       108     88,339           0.2071   \n",
       "29                BRONX          BRONX        47     68,787           0.2738   \n",
       "...                 ...            ...       ...        ...              ...   \n",
       "1539552           BRONX          BRONX        42     76,656           0.6449   \n",
       "1539553           BRONX          BRONX        49     63,345           0.1698   \n",
       "1539554           BRONX          BRONX        42     76,656           0.6449   \n",
       "1539555           BRONX          BRONX        52     94,342           0.3519   \n",
       "1539556        NEW YORK      MANHATTAN        33     60,221           0.4383   \n",
       "1539557   FRESH MEADOWS         QUEENS       107     41,566           0.1132   \n",
       "1539558           BRONX          BRONX        43     56,166           0.3838   \n",
       "1539559           BRONX          BRONX        42     76,656           0.6449   \n",
       "1539560        BROOKLYN       BROOKLYN        60     61,955           0.5202   \n",
       "1539561        NEW YORK      MANHATTAN         9     58,595           0.2576   \n",
       "1539562           BRONX          BRONX        42     76,656           0.6449   \n",
       "1539563           BRONX          BRONX        44     72,138           0.6047   \n",
       "1539564        BROOKLYN       BROOKLYN        77     65,440           0.3850   \n",
       "1539565        BROOKLYN       BROOKLYN        78     35,353           0.1975   \n",
       "1539566        BROOKLYN       BROOKLYN        83     48,910           0.5385   \n",
       "1539567           BRONX          BRONX        43     64,867           0.4852   \n",
       "1539568           BRONX          BRONX        49     49,808           0.1408   \n",
       "1539569  MIDDLE VILLAGE         QUEENS       104     28,984           0.1010   \n",
       "1539570   FRESH MEADOWS         QUEENS       107     13,366           0.0735   \n",
       "1539571        NEW YORK      MANHATTAN        30     44,987           0.0573   \n",
       "1539572           BRONX          BRONX        42     76,656           0.6449   \n",
       "1539573           BRONX          BRONX        44     72,138           0.6047   \n",
       "1539574           BRONX          BRONX        50     23,413           0.0778   \n",
       "1539575        BROOKLYN       BROOKLYN        71     63,774           0.3096   \n",
       "1539576           BRONX          BRONX        42     76,656           0.6449   \n",
       "1539577           BRONX          BRONX        42     76,656           0.6449   \n",
       "1539578      OZONE PARK         QUEENS       102     23,668           0.2326   \n",
       "1539579   STATEN ISLAND  STATEN ISLAND       120     38,805           0.1816   \n",
       "1539580        NEW YORK      MANHATTAN         7     84,870           0.3504   \n",
       "1539581        NEW YORK      MANHATTAN        34     41,756           0.3789   \n",
       "\n",
       "         Year  Violence Crime      Violence Binning  Misd Crime  \\\n",
       "0        2010          1474.0   VC Within Lower IQR     11546.0   \n",
       "1        2010          1388.0   VC Within Lower IQR      7318.0   \n",
       "2        2010          2010.0    VC Higher than IQR     10172.0   \n",
       "3        2010          1004.0   VC Within Lower IQR      8730.0   \n",
       "4        2010          1388.0   VC Within Lower IQR      7318.0   \n",
       "5        2010          2816.0    VC Higher than IQR     19660.0   \n",
       "6        2010           842.0   VC Within Lower IQR      5340.0   \n",
       "7        2010          3136.0    VC Higher than IQR     24086.0   \n",
       "8        2010          1208.0   VC Within Lower IQR      6080.0   \n",
       "9        2010           658.0   VC Within Lower IQR      3994.0   \n",
       "10       2010          1282.0   VC Within Lower IQR      5820.0   \n",
       "11       2010          4246.0    VC Higher Outliers     18070.0   \n",
       "12       2010          1460.0   VC Within Lower IQR     10570.0   \n",
       "13       2010          2010.0    VC Higher than IQR     10172.0   \n",
       "14       2010          4246.0    VC Higher Outliers     18070.0   \n",
       "15       2010          1474.0   VC Within Lower IQR     11546.0   \n",
       "16       2010          1388.0   VC Within Lower IQR      7318.0   \n",
       "17       2010          1208.0   VC Within Lower IQR      6080.0   \n",
       "18       2010          1766.0  VC Within Higher IQR     12966.0   \n",
       "19       2010          1422.0   VC Within Lower IQR      6564.0   \n",
       "20       2010          1530.0   VC Within Lower IQR      6884.0   \n",
       "21       2010          1388.0   VC Within Lower IQR      7318.0   \n",
       "22       2010          1930.0  VC Within Higher IQR     15354.0   \n",
       "23       2010          2266.0    VC Higher than IQR     12122.0   \n",
       "24       2010          1660.0  VC Within Higher IQR     13578.0   \n",
       "25       2010          1082.0   VC Within Lower IQR      5176.0   \n",
       "26       2010          1004.0   VC Within Lower IQR      8730.0   \n",
       "27       2010          1488.0   VC Within Lower IQR      9962.0   \n",
       "28       2010          1460.0   VC Within Lower IQR      7316.0   \n",
       "29       2010          1930.0  VC Within Higher IQR     15354.0   \n",
       "...       ...             ...                   ...         ...   \n",
       "1539552  2015          2024.0  VC Within Higher IQR     11306.0   \n",
       "1539553  2015          1602.0  VC Within Higher IQR      8788.0   \n",
       "1539554  2015          2024.0  VC Within Higher IQR     11306.0   \n",
       "1539555  2015          2130.0    VC Higher than IQR     14230.0   \n",
       "1539556  2015          1082.0   VC Within Lower IQR      6806.0   \n",
       "1539557  2015          1348.0   VC Within Lower IQR      5956.0   \n",
       "1539558  2015          3294.0    VC Higher than IQR     15582.0   \n",
       "1539559  2015          2024.0  VC Within Higher IQR     11306.0   \n",
       "1539560  2015          1842.0  VC Within Higher IQR      8948.0   \n",
       "1539561  2015          1126.0   VC Within Lower IQR      7930.0   \n",
       "1539562  2015          2024.0  VC Within Higher IQR     11306.0   \n",
       "1539563  2015          2748.0    VC Higher than IQR     18508.0   \n",
       "1539564  2015          2082.0  VC Within Higher IQR      7884.0   \n",
       "1539565  2015           974.0   VC Within Lower IQR      5310.0   \n",
       "1539566  2015          1416.0   VC Within Lower IQR      8382.0   \n",
       "1539567  2015          3294.0    VC Higher than IQR     15582.0   \n",
       "1539568  2015          1602.0  VC Within Higher IQR      8788.0   \n",
       "1539569  2015          1710.0  VC Within Higher IQR      7736.0   \n",
       "1539570  2015          1348.0   VC Within Lower IQR      5956.0   \n",
       "1539571  2015          1218.0   VC Within Lower IQR      6882.0   \n",
       "1539572  2015          2024.0  VC Within Higher IQR     11306.0   \n",
       "1539573  2015          2748.0    VC Higher than IQR     18508.0   \n",
       "1539574  2015          1148.0   VC Within Lower IQR      5496.0   \n",
       "1539575  2015          2230.0    VC Higher than IQR      8506.0   \n",
       "1539576  2015          2024.0  VC Within Higher IQR     11306.0   \n",
       "1539577  2015          2024.0  VC Within Higher IQR     11306.0   \n",
       "1539578  2015          1862.0  VC Within Higher IQR      6696.0   \n",
       "1539579  2015          3320.0    VC Higher than IQR      9448.0   \n",
       "1539580  2015          1172.0   VC Within Lower IQR      5864.0   \n",
       "1539581  2015          1502.0   VC Within Lower IQR      7926.0   \n",
       "\n",
       "                   Misd Binning  Major Crime            Major Binning  \\\n",
       "0        Misd Within Higher IQR       3942.0    Major Higher than IQR   \n",
       "1         Misd Within Lower IQR       1828.0   Major Within Lower IQR   \n",
       "2        Misd Within Higher IQR       3820.0    Major Higher than IQR   \n",
       "3         Misd Within Lower IQR       3060.0  Major Within Higher IQR   \n",
       "4         Misd Within Lower IQR       1828.0   Major Within Lower IQR   \n",
       "5          Misd Higher than IQR       3032.0  Major Within Higher IQR   \n",
       "6         Misd Within Lower IQR       2098.0   Major Within Lower IQR   \n",
       "7          Misd Higher Outliers       4612.0    Major Higher than IQR   \n",
       "8         Misd Within Lower IQR       2528.0   Major Within Lower IQR   \n",
       "9         Misd Within Lower IQR       1690.0   Major Within Lower IQR   \n",
       "10        Misd Within Lower IQR       1924.0   Major Within Lower IQR   \n",
       "11         Misd Higher than IQR       3094.0  Major Within Higher IQR   \n",
       "12       Misd Within Higher IQR       2646.0   Major Within Lower IQR   \n",
       "13       Misd Within Higher IQR       3820.0    Major Higher than IQR   \n",
       "14         Misd Higher than IQR       3094.0  Major Within Higher IQR   \n",
       "15       Misd Within Higher IQR       3942.0    Major Higher than IQR   \n",
       "16        Misd Within Lower IQR       1828.0   Major Within Lower IQR   \n",
       "17        Misd Within Lower IQR       2528.0   Major Within Lower IQR   \n",
       "18         Misd Higher than IQR       4276.0    Major Higher than IQR   \n",
       "19        Misd Within Lower IQR       2670.0   Major Within Lower IQR   \n",
       "20        Misd Within Lower IQR       2008.0   Major Within Lower IQR   \n",
       "21        Misd Within Lower IQR       1828.0   Major Within Lower IQR   \n",
       "22         Misd Higher than IQR       3930.0    Major Higher than IQR   \n",
       "23       Misd Within Higher IQR       4240.0    Major Higher than IQR   \n",
       "24         Misd Higher than IQR       2356.0   Major Within Lower IQR   \n",
       "25        Misd Within Lower IQR       1940.0   Major Within Lower IQR   \n",
       "26        Misd Within Lower IQR       3060.0  Major Within Higher IQR   \n",
       "27       Misd Within Higher IQR       3274.0  Major Within Higher IQR   \n",
       "28        Misd Within Lower IQR       2508.0   Major Within Lower IQR   \n",
       "29         Misd Higher than IQR       3930.0    Major Higher than IQR   \n",
       "...                         ...          ...                      ...   \n",
       "1539552    Misd Higher than IQR       2686.0   Major Within Lower IQR   \n",
       "1539553  Misd Within Higher IQR       2488.0   Major Within Lower IQR   \n",
       "1539554    Misd Higher than IQR       2686.0   Major Within Lower IQR   \n",
       "1539555    Misd Higher than IQR       4218.0    Major Higher than IQR   \n",
       "1539556   Misd Within Lower IQR       1614.0   Major Within Lower IQR   \n",
       "1539557   Misd Within Lower IQR       2208.0   Major Within Lower IQR   \n",
       "1539558    Misd Higher than IQR       4982.0    Major Higher than IQR   \n",
       "1539559    Misd Higher than IQR       2686.0   Major Within Lower IQR   \n",
       "1539560  Misd Within Higher IQR       2808.0   Major Within Lower IQR   \n",
       "1539561  Misd Within Higher IQR       2674.0   Major Within Lower IQR   \n",
       "1539562    Misd Higher than IQR       2686.0   Major Within Lower IQR   \n",
       "1539563    Misd Higher Outliers       4938.0    Major Higher than IQR   \n",
       "1539564   Misd Within Lower IQR       2990.0  Major Within Higher IQR   \n",
       "1539565   Misd Within Lower IQR       1940.0   Major Within Lower IQR   \n",
       "1539566  Misd Within Higher IQR       3356.0  Major Within Higher IQR   \n",
       "1539567    Misd Higher than IQR       4982.0    Major Higher than IQR   \n",
       "1539568  Misd Within Higher IQR       2488.0   Major Within Lower IQR   \n",
       "1539569   Misd Within Lower IQR       2710.0   Major Within Lower IQR   \n",
       "1539570   Misd Within Lower IQR       2208.0   Major Within Lower IQR   \n",
       "1539571   Misd Within Lower IQR       1466.0   Major Within Lower IQR   \n",
       "1539572    Misd Higher than IQR       2686.0   Major Within Lower IQR   \n",
       "1539573    Misd Higher Outliers       4938.0    Major Higher than IQR   \n",
       "1539574   Misd Within Lower IQR       1902.0   Major Within Lower IQR   \n",
       "1539575  Misd Within Higher IQR       2994.0  Major Within Higher IQR   \n",
       "1539576    Misd Higher than IQR       2686.0   Major Within Lower IQR   \n",
       "1539577    Misd Higher than IQR       2686.0   Major Within Lower IQR   \n",
       "1539578   Misd Within Lower IQR       2850.0  Major Within Higher IQR   \n",
       "1539579  Misd Within Higher IQR       2294.0   Major Within Lower IQR   \n",
       "1539580   Misd Within Lower IQR       1562.0   Major Within Lower IQR   \n",
       "1539581   Misd Within Lower IQR       2630.0   Major Within Lower IQR   \n",
       "\n",
       "         Nonmajor Crime            Nonmajor Binning  \n",
       "0                1956.0  Nonmajor Within Higher IQR  \n",
       "1                 758.0   Nonmajor Within Lower IQR  \n",
       "2                1662.0  Nonmajor Within Higher IQR  \n",
       "3                1118.0   Nonmajor Within Lower IQR  \n",
       "4                 758.0   Nonmajor Within Lower IQR  \n",
       "5                3086.0    Nonmajor Higher than IQR  \n",
       "6                 964.0   Nonmajor Within Lower IQR  \n",
       "7                2302.0    Nonmajor Higher than IQR  \n",
       "8                 722.0   Nonmajor Within Lower IQR  \n",
       "9                 482.0   Nonmajor Within Lower IQR  \n",
       "10                772.0   Nonmajor Within Lower IQR  \n",
       "11               2876.0    Nonmajor Higher than IQR  \n",
       "12               1728.0  Nonmajor Within Higher IQR  \n",
       "13               1662.0  Nonmajor Within Higher IQR  \n",
       "14               2876.0    Nonmajor Higher than IQR  \n",
       "15               1956.0  Nonmajor Within Higher IQR  \n",
       "16                758.0   Nonmajor Within Lower IQR  \n",
       "17                722.0   Nonmajor Within Lower IQR  \n",
       "18               2714.0    Nonmajor Higher than IQR  \n",
       "19                702.0   Nonmajor Within Lower IQR  \n",
       "20                754.0   Nonmajor Within Lower IQR  \n",
       "21                758.0   Nonmajor Within Lower IQR  \n",
       "22               1840.0  Nonmajor Within Higher IQR  \n",
       "23               2316.0    Nonmajor Higher than IQR  \n",
       "24               2110.0  Nonmajor Within Higher IQR  \n",
       "25                680.0   Nonmajor Within Lower IQR  \n",
       "26               1118.0   Nonmajor Within Lower IQR  \n",
       "27               1012.0   Nonmajor Within Lower IQR  \n",
       "28                816.0   Nonmajor Within Lower IQR  \n",
       "29               1840.0  Nonmajor Within Higher IQR  \n",
       "...                 ...                         ...  \n",
       "1539552          1672.0  Nonmajor Within Higher IQR  \n",
       "1539553          1022.0   Nonmajor Within Lower IQR  \n",
       "1539554          1672.0  Nonmajor Within Higher IQR  \n",
       "1539555          2268.0    Nonmajor Higher than IQR  \n",
       "1539556          1300.0   Nonmajor Within Lower IQR  \n",
       "1539557           838.0   Nonmajor Within Lower IQR  \n",
       "1539558          1952.0  Nonmajor Within Higher IQR  \n",
       "1539559          1672.0  Nonmajor Within Higher IQR  \n",
       "1539560          1876.0  Nonmajor Within Higher IQR  \n",
       "1539561          1230.0   Nonmajor Within Lower IQR  \n",
       "1539562          1672.0  Nonmajor Within Higher IQR  \n",
       "1539563          2344.0    Nonmajor Higher than IQR  \n",
       "1539564          1848.0  Nonmajor Within Higher IQR  \n",
       "1539565           566.0   Nonmajor Within Lower IQR  \n",
       "1539566          1796.0  Nonmajor Within Higher IQR  \n",
       "1539567          1952.0  Nonmajor Within Higher IQR  \n",
       "1539568          1022.0   Nonmajor Within Lower IQR  \n",
       "1539569          1280.0   Nonmajor Within Lower IQR  \n",
       "1539570           838.0   Nonmajor Within Lower IQR  \n",
       "1539571           974.0   Nonmajor Within Lower IQR  \n",
       "1539572          1672.0  Nonmajor Within Higher IQR  \n",
       "1539573          2344.0    Nonmajor Higher than IQR  \n",
       "1539574           794.0   Nonmajor Within Lower IQR  \n",
       "1539575          1518.0  Nonmajor Within Higher IQR  \n",
       "1539576          1672.0  Nonmajor Within Higher IQR  \n",
       "1539577          1672.0  Nonmajor Within Higher IQR  \n",
       "1539578          1328.0   Nonmajor Within Lower IQR  \n",
       "1539579          1520.0  Nonmajor Within Higher IQR  \n",
       "1539580           964.0   Nonmajor Within Lower IQR  \n",
       "1539581          1476.0   Nonmajor Within Lower IQR  \n",
       "\n",
       "[1539582 rows x 20 columns]"
      ]
     },
     "execution_count": 17,
     "metadata": {},
     "output_type": "execute_result"
    }
   ],
   "source": [
    "result_df8"
   ]
  },
  {
   "cell_type": "markdown",
   "metadata": {
    "collapsed": true
   },
   "source": [
    "#first map is to plot number of noises based on zip codes.\n",
    "#second map is to plot"
   ]
  },
  {
   "cell_type": "code",
   "execution_count": 18,
   "metadata": {
    "collapsed": false
   },
   "outputs": [],
   "source": [
    "numofnoise_temp_df = result_df8.groupby(['Zip Code'])['Created_Date'].count()"
   ]
  },
  {
   "cell_type": "code",
   "execution_count": 20,
   "metadata": {
    "collapsed": true
   },
   "outputs": [],
   "source": [
    "result_df8['Created_Date'] =pd.to_datetime(result_df8.Created_Date)"
   ]
  },
  {
   "cell_type": "code",
   "execution_count": 21,
   "metadata": {
    "collapsed": false
   },
   "outputs": [],
   "source": [
    "numofnoise = numofnoise_temp_df.to_frame()"
   ]
  },
  {
   "cell_type": "code",
   "execution_count": 22,
   "metadata": {
    "collapsed": false
   },
   "outputs": [],
   "source": [
    "numofnoise = numofnoise.reset_index()"
   ]
  },
  {
   "cell_type": "code",
   "execution_count": 23,
   "metadata": {
    "collapsed": true
   },
   "outputs": [],
   "source": [
    "numofnoise.to_csv('numofnoise.csv', sep = '\\t')"
   ]
  },
  {
   "cell_type": "code",
   "execution_count": 24,
   "metadata": {
    "collapsed": false
   },
   "outputs": [
    {
     "data": {
      "text/plain": [
       "7249.0"
      ]
     },
     "execution_count": 24,
     "metadata": {},
     "output_type": "execute_result"
    }
   ],
   "source": [
    "numofnoise.Created_Date.median()"
   ]
  },
  {
   "cell_type": "code",
   "execution_count": 80,
   "metadata": {
    "collapsed": false
   },
   "outputs": [],
   "source": [
    "numofviolence_temp_df = result_df8.loc[result_df8['Zip Code'].unique(),'Violence Crime']"
   ]
  },
  {
   "cell_type": "code",
   "execution_count": 81,
   "metadata": {
    "collapsed": false
   },
   "outputs": [],
   "source": [
    "numofviolence = numofviolence_temp_df.to_frame()"
   ]
  },
  {
   "cell_type": "code",
   "execution_count": 82,
   "metadata": {
    "collapsed": true
   },
   "outputs": [],
   "source": [
    "numofviolence = numofviolence.reset_index()"
   ]
  },
  {
   "cell_type": "code",
   "execution_count": 84,
   "metadata": {
    "collapsed": false
   },
   "outputs": [],
   "source": [
    "numofviolence.columns = ['Zip Code', 'Violence Crime']"
   ]
  },
  {
   "cell_type": "code",
   "execution_count": 85,
   "metadata": {
    "collapsed": true
   },
   "outputs": [],
   "source": [
    "numofviolence.to_csv(\"numofviolence.csv\", sep = '\\t')"
   ]
  },
  {
   "cell_type": "code",
   "execution_count": 86,
   "metadata": {
    "collapsed": false
   },
   "outputs": [
    {
     "data": {
      "text/plain": [
       "1460.0"
      ]
     },
     "execution_count": 86,
     "metadata": {},
     "output_type": "execute_result"
    }
   ],
   "source": [
    "numofviolence['Violence Crime'].median()"
   ]
  },
  {
   "cell_type": "code",
   "execution_count": 88,
   "metadata": {
    "collapsed": true
   },
   "outputs": [],
   "source": [
    "numofmajor_temp_df = result_df8.loc[result_df8['Zip Code'].unique(),'Major Crime']"
   ]
  },
  {
   "cell_type": "code",
   "execution_count": 89,
   "metadata": {
    "collapsed": false
   },
   "outputs": [],
   "source": [
    "numofmajor = numofmajor_temp_df.to_frame()"
   ]
  },
  {
   "cell_type": "code",
   "execution_count": 90,
   "metadata": {
    "collapsed": true
   },
   "outputs": [],
   "source": [
    "numofmajor = numofmajor.reset_index()"
   ]
  },
  {
   "cell_type": "code",
   "execution_count": 91,
   "metadata": {
    "collapsed": true
   },
   "outputs": [],
   "source": [
    "numofmajor.columns = ['Zip Code', 'Major Crime']"
   ]
  },
  {
   "cell_type": "code",
   "execution_count": 92,
   "metadata": {
    "collapsed": false
   },
   "outputs": [],
   "source": [
    "numofmajor.to_csv(\"numofmajor.csv\", sep = '\\t')"
   ]
  },
  {
   "cell_type": "code",
   "execution_count": 93,
   "metadata": {
    "collapsed": false
   },
   "outputs": [
    {
     "data": {
      "text/plain": [
       "2732.0"
      ]
     },
     "execution_count": 93,
     "metadata": {},
     "output_type": "execute_result"
    }
   ],
   "source": [
    "numofmajor['Major Crime'].median()"
   ]
  },
  {
   "cell_type": "code",
   "execution_count": 94,
   "metadata": {
    "collapsed": true
   },
   "outputs": [],
   "source": [
    "numofmisd_temp_df = result_df8.loc[result_df8['Zip Code'].unique(),'Misd Crime']"
   ]
  },
  {
   "cell_type": "code",
   "execution_count": 95,
   "metadata": {
    "collapsed": true
   },
   "outputs": [],
   "source": [
    "numofmisd = numofmisd_temp_df.to_frame()"
   ]
  },
  {
   "cell_type": "code",
   "execution_count": 96,
   "metadata": {
    "collapsed": true
   },
   "outputs": [],
   "source": [
    "numofmisd = numofmisd.reset_index()"
   ]
  },
  {
   "cell_type": "code",
   "execution_count": 97,
   "metadata": {
    "collapsed": true
   },
   "outputs": [],
   "source": [
    "numofmisd.columns = ['Zip Code', 'Misd Crime']"
   ]
  },
  {
   "cell_type": "code",
   "execution_count": 98,
   "metadata": {
    "collapsed": false
   },
   "outputs": [
    {
     "data": {
      "text/plain": [
       "9544.0"
      ]
     },
     "execution_count": 98,
     "metadata": {},
     "output_type": "execute_result"
    }
   ],
   "source": [
    "numofmisd['Misd Crime'].median()"
   ]
  },
  {
   "cell_type": "code",
   "execution_count": 99,
   "metadata": {
    "collapsed": true
   },
   "outputs": [],
   "source": [
    "numofmisd.to_csv(\"numofmisd.csv\", sep = '\\t')"
   ]
  },
  {
   "cell_type": "code",
   "execution_count": 103,
   "metadata": {
    "collapsed": false
   },
   "outputs": [],
   "source": [
    "numofnonmajor_temp_df = result_df8.loc[result_df8['Zip Code'].unique(),'Nonmajor Crime']"
   ]
  },
  {
   "cell_type": "code",
   "execution_count": 104,
   "metadata": {
    "collapsed": true
   },
   "outputs": [],
   "source": [
    "numofnonmajor = numofnonmajor_temp_df.to_frame()"
   ]
  },
  {
   "cell_type": "code",
   "execution_count": 105,
   "metadata": {
    "collapsed": true
   },
   "outputs": [],
   "source": [
    "numofnonmajor = numofnonmajor.reset_index()"
   ]
  },
  {
   "cell_type": "code",
   "execution_count": 106,
   "metadata": {
    "collapsed": true
   },
   "outputs": [],
   "source": [
    "numofnonmajor.columns = ['Zip Code', 'Nonmajor Crime']"
   ]
  },
  {
   "cell_type": "code",
   "execution_count": 107,
   "metadata": {
    "collapsed": false
   },
   "outputs": [
    {
     "data": {
      "text/plain": [
       "1545.0"
      ]
     },
     "execution_count": 107,
     "metadata": {},
     "output_type": "execute_result"
    }
   ],
   "source": [
    "numofnonmajor['Nonmajor Crime'].median()"
   ]
  },
  {
   "cell_type": "code",
   "execution_count": 108,
   "metadata": {
    "collapsed": true
   },
   "outputs": [],
   "source": [
    "numofnonmajor.to_csv('numofnonmajor.csv', sep = '\\t')"
   ]
  },
  {
   "cell_type": "code",
   "execution_count": 113,
   "metadata": {
    "collapsed": false
   },
   "outputs": [],
   "source": [
    "poverty_temp_df = result_df8.loc[result_df8['Zip Code'].unique(),'% Poverty Level']"
   ]
  },
  {
   "cell_type": "code",
   "execution_count": 116,
   "metadata": {
    "collapsed": false
   },
   "outputs": [],
   "source": [
    "poverty = poverty_temp_df.to_frame()"
   ]
  },
  {
   "cell_type": "code",
   "execution_count": 117,
   "metadata": {
    "collapsed": false
   },
   "outputs": [],
   "source": [
    "poverty = poverty.reset_index()"
   ]
  },
  {
   "cell_type": "code",
   "execution_count": 118,
   "metadata": {
    "collapsed": true
   },
   "outputs": [],
   "source": [
    "poverty.columns = ['Zip Code', 'Poverty Level']"
   ]
  },
  {
   "cell_type": "code",
   "execution_count": 119,
   "metadata": {
    "collapsed": false
   },
   "outputs": [
    {
     "data": {
      "text/plain": [
       "0.33615"
      ]
     },
     "execution_count": 119,
     "metadata": {},
     "output_type": "execute_result"
    }
   ],
   "source": [
    "poverty['Poverty Level'].median()"
   ]
  },
  {
   "cell_type": "code",
   "execution_count": 120,
   "metadata": {
    "collapsed": true
   },
   "outputs": [],
   "source": [
    "poverty.to_csv(\"povertylevel.csv\", sep = '\\t')"
   ]
  },
  {
   "cell_type": "code",
   "execution_count": 122,
   "metadata": {
    "collapsed": true
   },
   "outputs": [],
   "source": [
    "test_df = numofviolence['Violence Crime'].to_frame()"
   ]
  },
  {
   "cell_type": "code",
   "execution_count": 124,
   "metadata": {
    "collapsed": false
   },
   "outputs": [],
   "source": [
    "newtest_df = numofnoise.join(test_df)"
   ]
  },
  {
   "cell_type": "code",
   "execution_count": 126,
   "metadata": {
    "collapsed": false
   },
   "outputs": [
    {
     "data": {
      "text/plain": [
       "-0.06527917374249087"
      ]
     },
     "execution_count": 126,
     "metadata": {},
     "output_type": "execute_result"
    }
   ],
   "source": [
    "newtest_df['Created_Date'].corr(newtest_df['Violence Crime'])"
   ]
  },
  {
   "cell_type": "code",
   "execution_count": 159,
   "metadata": {
    "collapsed": false
   },
   "outputs": [
    {
     "data": {
      "text/plain": [
       "array(['BROOKLYN', 'QUEENS', 'MANHATTAN', 'BRONX', 'STATEN ISLAND',\n",
       "       'Unspecified'], dtype=object)"
      ]
     },
     "execution_count": 159,
     "metadata": {},
     "output_type": "execute_result"
    }
   ],
   "source": [
    "result_df8.Borough.unique()"
   ]
  },
  {
   "cell_type": "code",
   "execution_count": 250,
   "metadata": {
    "collapsed": false
   },
   "outputs": [
    {
     "data": {
      "text/plain": [
       "0.19812944930338669"
      ]
     },
     "execution_count": 250,
     "metadata": {},
     "output_type": "execute_result"
    }
   ],
   "source": [
    "queens = result_df8[result_df8.Borough == 'QUEENS']\n",
    "\n",
    "queensnoise = queens.groupby(['Zip Code'])['Created_Date'].count()\n",
    "\n",
    "queensnoise = queensnoise.to_frame()\n",
    "\n",
    "queensnoise = queensnoise.reset_index()\n",
    "\n",
    "vioqueens = queens.loc[queens['Zip Code'].unique(),'Violence Crime']\n",
    "\n",
    "vioqueens = vioqueens.to_frame()\n",
    "\n",
    "vioqueens = vioqueens.reset_index()\n",
    "\n",
    "vioqueens.columns = ['Zip Code', 'Violence Crime']\n",
    "\n",
    "que = pd.merge(queensnoise,vioqueens, on = 'Zip Code')\n",
    "\n",
    "que['Created_Date'].corr(que['Violence Crime'])"
   ]
  },
  {
   "cell_type": "code",
   "execution_count": 253,
   "metadata": {
    "collapsed": false
   },
   "outputs": [
    {
     "data": {
      "text/plain": [
       "-0.36239920526122776"
      ]
     },
     "execution_count": 253,
     "metadata": {},
     "output_type": "execute_result"
    }
   ],
   "source": [
    "manhattan = result_df8[result_df8.Borough == 'MANHATTAN']\n",
    "\n",
    "mannoise = manhattan.groupby(['Zip Code'])['Created_Date'].count()\n",
    "\n",
    "mannoise = mannoise.to_frame()\n",
    "\n",
    "mannoise = mannoise.reset_index()\n",
    "\n",
    "vioman = manhattan.loc[manhattan['Zip Code'].unique(),'Violence Crime']\n",
    "\n",
    "vioman = vioman.to_frame()\n",
    "\n",
    "vioman = vioman.reset_index()\n",
    "\n",
    "vioman.columns = ['Zip Code', 'Violence Crime']\n",
    "\n",
    "man = pd.merge(mannoise,vioman, on = 'Zip Code')\n",
    "\n",
    "man['Created_Date'].corr(man['Violence Crime'])"
   ]
  },
  {
   "cell_type": "code",
   "execution_count": 255,
   "metadata": {
    "collapsed": false
   },
   "outputs": [
    {
     "data": {
      "text/plain": [
       "-0.89481627688295318"
      ]
     },
     "execution_count": 255,
     "metadata": {},
     "output_type": "execute_result"
    }
   ],
   "source": [
    "bronx = result_df8[result_df8.Borough == 'BRONX']\n",
    "\n",
    "bronxnoise = bronx.groupby(['Zip Code'])['Created_Date'].count()\n",
    "\n",
    "bronxnoise = bronxnoise.to_frame()\n",
    "\n",
    "bronxnoise = bronxnoise.reset_index()\n",
    "\n",
    "viobro = bronx.loc[bronx['Zip Code'].unique(),'Violence Crime']\n",
    "\n",
    "viobro = viobro.to_frame()\n",
    "\n",
    "viobro = viobro.reset_index()\n",
    "\n",
    "viobro.columns = ['Zip Code', 'Violence Crime']\n",
    "\n",
    "bro = pd.merge(bronxnoise,viobro,on = 'Zip Code')\n",
    "\n",
    "bro['Created_Date'].corr(bro['Violence Crime'])"
   ]
  },
  {
   "cell_type": "code",
   "execution_count": 258,
   "metadata": {
    "collapsed": false
   },
   "outputs": [
    {
     "data": {
      "text/plain": [
       "0.24881384881704519"
      ]
     },
     "execution_count": 258,
     "metadata": {},
     "output_type": "execute_result"
    }
   ],
   "source": [
    "staten = result_df8[result_df8.Borough == 'STATEN ISLAND']\n",
    "\n",
    "statennoise = staten.groupby(['Zip Code'])['Created_Date'].count()\n",
    "\n",
    "statennoise = statennoise.to_frame()\n",
    "\n",
    "statennoise = statennoise.reset_index()\n",
    "\n",
    "viostaten = result_df8.loc[staten['Zip Code'].unique(),'Violence Crime']\n",
    "\n",
    "viostaten = viostaten.to_frame()\n",
    "\n",
    "viostaten = viostaten.reset_index()\n",
    "\n",
    "viostaten.columns = ['Zip Code', 'Violence Crime']\n",
    "\n",
    "sta = pd.merge(statennoise,viostaten,on = 'Zip Code')\n",
    "\n",
    "sta['Created_Date'].corr(sta['Violence Crime'])"
   ]
  },
  {
   "cell_type": "code",
   "execution_count": 249,
   "metadata": {
    "collapsed": false
   },
   "outputs": [
    {
     "data": {
      "text/plain": [
       "-0.021766092498476532"
      ]
     },
     "execution_count": 249,
     "metadata": {},
     "output_type": "execute_result"
    }
   ],
   "source": [
    "brooklyn = result_df8[result_df8.Borough == 'BROOKLYN']\n",
    "\n",
    "brooklynnoise = brooklyn.groupby(['Zip Code'])['Created_Date'].count()\n",
    "\n",
    "brooklynnoise = brooklynnoise.to_frame()\n",
    "\n",
    "brooklynnoise = brooklynnoise.reset_index()\n",
    "\n",
    "misdbrooklyn = brooklyn.loc[brooklyn['Zip Code'].unique(),'Misd Crime']\n",
    "\n",
    "misdbrooklyn = misdbrooklyn.to_frame()\n",
    "\n",
    "misdbrooklyn = misdbrooklyn.reset_index()\n",
    "\n",
    "misdbrooklyn.columns = ['Zip Code', 'Misd Crime']\n",
    "\n",
    "brook = pd.merge(brooklynnoise,misdbrooklyn, on = 'Zip Code')\n",
    "\n",
    "brook['Created_Date'].corr(brook['Misd Crime'])"
   ]
  },
  {
   "cell_type": "code",
   "execution_count": 252,
   "metadata": {
    "collapsed": false
   },
   "outputs": [
    {
     "data": {
      "text/plain": [
       "0.14821756134737801"
      ]
     },
     "execution_count": 252,
     "metadata": {},
     "output_type": "execute_result"
    }
   ],
   "source": [
    "queens = result_df8[result_df8.Borough == 'QUEENS']\n",
    "\n",
    "queensnoise = queens.groupby(['Zip Code'])['Created_Date'].count()\n",
    "\n",
    "queensnoise = queensnoise.to_frame()\n",
    "\n",
    "queensnoise = queensnoise.reset_index()\n",
    "\n",
    "misdqueens = queens.loc[queens['Zip Code'].unique(),'Misd Crime']\n",
    "\n",
    "misdqueens = misdqueens.to_frame()\n",
    "\n",
    "misdqueens = misdqueens.reset_index()\n",
    "\n",
    "misdqueens.columns = ['Zip Code', 'Misd Crime']\n",
    "\n",
    "que = pd.merge(queensnoise,misdqueens, on = 'Zip Code')\n",
    "\n",
    "que['Created_Date'].corr(que['Misd Crime'])"
   ]
  },
  {
   "cell_type": "code",
   "execution_count": 254,
   "metadata": {
    "collapsed": false
   },
   "outputs": [
    {
     "data": {
      "text/plain": [
       "-0.37741472947351978"
      ]
     },
     "execution_count": 254,
     "metadata": {},
     "output_type": "execute_result"
    }
   ],
   "source": [
    "manhattan = result_df8[result_df8.Borough == 'MANHATTAN']\n",
    "\n",
    "mannoise = manhattan.groupby(['Zip Code'])['Created_Date'].count()\n",
    "\n",
    "mannoise = mannoise.to_frame()\n",
    "\n",
    "mannoise = mannoise.reset_index()\n",
    "\n",
    "misdman = manhattan.loc[manhattan['Zip Code'].unique(),'Misd Crime']\n",
    "\n",
    "misdman = misdman.to_frame()\n",
    "\n",
    "misdman = misdman.reset_index()\n",
    "\n",
    "misdman.columns = ['Zip Code', 'Misd Crime']\n",
    "\n",
    "man = pd.merge(mannoise,misdman, on = 'Zip Code')\n",
    "\n",
    "man['Created_Date'].corr(man['Misd Crime'])"
   ]
  },
  {
   "cell_type": "code",
   "execution_count": 308,
   "metadata": {
    "collapsed": false
   },
   "outputs": [
    {
     "data": {
      "text/plain": [
       "-0.90968874972255398"
      ]
     },
     "execution_count": 308,
     "metadata": {},
     "output_type": "execute_result"
    }
   ],
   "source": [
    "bronx = result_df8[result_df8.Borough == 'BRONX']\n",
    "\n",
    "bronxnoise = bronx.groupby(['Zip Code'])['Created_Date'].count()\n",
    "\n",
    "bronxnoise = bronxnoise.to_frame()\n",
    "\n",
    "bronxnoise = bronxnoise.reset_index()\n",
    "\n",
    "misdbro = bronx.loc[bronx['Zip Code'].unique(),'Misd Crime']\n",
    "\n",
    "misdbro = misdbro.to_frame()\n",
    "\n",
    "misdbro = misdbro.reset_index()\n",
    "\n",
    "misdbro.columns = ['Zip Code', 'Misd Crime']\n",
    "\n",
    "bro = pd.merge(bronxnoise,misdbro,on = 'Zip Code')\n",
    "\n",
    "bro['Created_Date'].corr(bro['Misd Crime'])"
   ]
  },
  {
   "cell_type": "code",
   "execution_count": 259,
   "metadata": {
    "collapsed": false
   },
   "outputs": [
    {
     "data": {
      "text/plain": [
       "0.67914669692138319"
      ]
     },
     "execution_count": 259,
     "metadata": {},
     "output_type": "execute_result"
    }
   ],
   "source": [
    "staten = result_df8[result_df8.Borough == 'STATEN ISLAND']\n",
    "\n",
    "statennoise = staten.groupby(['Zip Code'])['Created_Date'].count()\n",
    "\n",
    "statennoise = statennoise.to_frame()\n",
    "\n",
    "statennoise = statennoise.reset_index()\n",
    "\n",
    "misdstaten = result_df8.loc[staten['Zip Code'].unique(),'Misd Crime']\n",
    "\n",
    "misdstaten = misdstaten.to_frame()\n",
    "\n",
    "misdstaten = misdstaten.reset_index()\n",
    "\n",
    "misdstaten.columns = ['Zip Code', 'Misd Crime']\n",
    "\n",
    "sta = pd.merge(statennoise,misdstaten,on = 'Zip Code')\n",
    "\n",
    "sta['Created_Date'].corr(sta['Misd Crime'])"
   ]
  },
  {
   "cell_type": "code",
   "execution_count": 294,
   "metadata": {
    "collapsed": false
   },
   "outputs": [
    {
     "data": {
      "text/plain": [
       "-0.054068186633612188"
      ]
     },
     "execution_count": 294,
     "metadata": {},
     "output_type": "execute_result"
    }
   ],
   "source": [
    "brooklyn = result_df8[result_df8.Borough == 'BROOKLYN']\n",
    "\n",
    "brooklynnoise = brooklyn.groupby(['Zip Code'])['Created_Date'].count()\n",
    "\n",
    "brooklynnoise = brooklynnoise.to_frame()\n",
    "\n",
    "brooklynnoise = brooklynnoise.reset_index()\n",
    "\n",
    "majorbrooklyn = result_df8.loc[brooklyn['Zip Code'].unique(),'Major Crime']\n",
    "\n",
    "majorbrooklyn = majorbrooklyn.to_frame()\n",
    "\n",
    "majorbrooklyn = majorbrooklyn.reset_index()\n",
    "\n",
    "majorbrooklyn.columns = ['Zip Code', 'Major Crime']\n",
    "\n",
    "brook = pd.merge(brooklynnoise,majorbrooklyn, on = 'Zip Code')\n",
    "\n",
    "brook['Created_Date'].corr(brook['Major Crime'])"
   ]
  },
  {
   "cell_type": "code",
   "execution_count": 293,
   "metadata": {
    "collapsed": false
   },
   "outputs": [
    {
     "data": {
      "text/plain": [
       "-0.11219608613261618"
      ]
     },
     "execution_count": 293,
     "metadata": {},
     "output_type": "execute_result"
    }
   ],
   "source": [
    "queens = result_df8[result_df8.Borough == 'QUEENS']\n",
    "\n",
    "queensnoise = queens.groupby(['Zip Code'])['Created_Date'].count()\n",
    "\n",
    "queensnoise = queensnoise.to_frame()\n",
    "\n",
    "queensnoise = queensnoise.reset_index()\n",
    "\n",
    "majorqueens = result_df8.loc[queens['Zip Code'].unique(),'Major Crime']\n",
    "\n",
    "majorqueens = majorqueens.to_frame()\n",
    "\n",
    "majorqueens = majorqueens.reset_index()\n",
    "\n",
    "majorqueens.columns = ['Zip Code', 'Major Crime']\n",
    "\n",
    "que = pd.merge(queensnoise,majorqueens, on = 'Zip Code')\n",
    "\n",
    "que['Created_Date'].corr(que['Major Crime'])"
   ]
  },
  {
   "cell_type": "code",
   "execution_count": 292,
   "metadata": {
    "collapsed": false
   },
   "outputs": [
    {
     "data": {
      "text/plain": [
       "-0.35823926567029368"
      ]
     },
     "execution_count": 292,
     "metadata": {},
     "output_type": "execute_result"
    }
   ],
   "source": [
    "manhattan = result_df8[result_df8.Borough == 'MANHATTAN']\n",
    "\n",
    "mannoise = manhattan.groupby(['Zip Code'])['Created_Date'].count()\n",
    "\n",
    "mannoise = mannoise.to_frame()\n",
    "\n",
    "mannoise = mannoise.reset_index()\n",
    "\n",
    "majorman = result_df8.loc[manhattan['Zip Code'].unique(),'Major Crime']\n",
    "\n",
    "majorman = majorman.to_frame()\n",
    "\n",
    "majorman = majorman.reset_index()\n",
    "\n",
    "majorman.columns = ['Zip Code', 'Major Crime']\n",
    "\n",
    "man = pd.merge(mannoise,majorman, on = 'Zip Code')\n",
    "\n",
    "man['Created_Date'].corr(man['Major Crime'])"
   ]
  },
  {
   "cell_type": "code",
   "execution_count": 290,
   "metadata": {
    "collapsed": false
   },
   "outputs": [
    {
     "data": {
      "text/plain": [
       "-0.19175668587164957"
      ]
     },
     "execution_count": 290,
     "metadata": {},
     "output_type": "execute_result"
    }
   ],
   "source": [
    "bronx = result_df8[result_df8.Borough == 'BRONX']\n",
    "\n",
    "bronxnoise = bronx.groupby(['Zip Code'])['Created_Date'].count()\n",
    "\n",
    "bronxnoise = bronxnoise.to_frame()\n",
    "\n",
    "bronxnoise = bronxnoise.reset_index()\n",
    "\n",
    "majorbro = result_df8.loc[bronx['Zip Code'].unique(),'Major Crime']\n",
    "\n",
    "majorbro = majorbro.to_frame()\n",
    "\n",
    "majorbro = majorbro.reset_index()\n",
    "\n",
    "majorbro.columns = ['Zip Code', 'Major Crime']\n",
    "\n",
    "bro = pd.merge(bronxnoise,majorbro,on = 'Zip Code')\n",
    "\n",
    "bro['Created_Date'].corr(bro['Major Crime'])"
   ]
  },
  {
   "cell_type": "code",
   "execution_count": 271,
   "metadata": {
    "collapsed": false
   },
   "outputs": [
    {
     "data": {
      "text/plain": [
       "0.3890142951029476"
      ]
     },
     "execution_count": 271,
     "metadata": {},
     "output_type": "execute_result"
    }
   ],
   "source": [
    "staten = result_df8[result_df8.Borough == 'STATEN ISLAND']\n",
    "\n",
    "statennoise = staten.groupby(['Zip Code'])['Created_Date'].count()\n",
    "\n",
    "statennoise = statennoise.to_frame()\n",
    "\n",
    "statennoise = statennoise.reset_index()\n",
    "\n",
    "majorstaten = result_df8.loc[staten['Zip Code'].unique(),'Major Crime']\n",
    "\n",
    "majorstaten = majorstaten.to_frame()\n",
    "\n",
    "majorstaten = majorstaten.reset_index()\n",
    "\n",
    "majorstaten.columns = ['Zip Code', 'Major Crime']\n",
    "\n",
    "sta = pd.merge(statennoise,majorstaten,on = 'Zip Code')\n",
    "\n",
    "sta['Created_Date'].corr(sta['Major Crime'])"
   ]
  },
  {
   "cell_type": "code",
   "execution_count": 288,
   "metadata": {
    "collapsed": false
   },
   "outputs": [
    {
     "data": {
      "text/plain": [
       "-0.15069967301919987"
      ]
     },
     "execution_count": 288,
     "metadata": {},
     "output_type": "execute_result"
    }
   ],
   "source": [
    "brooklyn = result_df8[result_df8.Borough == 'BROOKLYN']\n",
    "\n",
    "brooklynnoise = brooklyn.groupby(['Zip Code'])['Created_Date'].count()\n",
    "\n",
    "brooklynnoise = brooklynnoise.to_frame()\n",
    "\n",
    "brooklynnoise = brooklynnoise.reset_index()\n",
    "\n",
    "\n",
    "nonmajorbrooklyn = brooklyn.loc[brooklyn['Zip Code'].unique(),'Nonmajor Crime']\n",
    "\n",
    "\n",
    "nonmajorbrooklyn = nonmajorbrooklyn.to_frame()\n",
    "\n",
    "\n",
    "nonmajorbrooklyn = nonmajorbrooklyn.reset_index()\n",
    "\n",
    "\n",
    "nonmajorbrooklyn.columns = ['Zip Code', 'Nonmajor Crime']\n",
    "\n",
    "\n",
    "brook = pd.merge(brooklynnoise,nonmajorbrooklyn, on = 'Zip Code')\n",
    "\n",
    "brook['Created_Date'].corr(brook['Nonmajor Crime'])"
   ]
  },
  {
   "cell_type": "code",
   "execution_count": 312,
   "metadata": {
    "collapsed": false
   },
   "outputs": [
    {
     "data": {
      "text/plain": [
       "-0.20312718258233411"
      ]
     },
     "execution_count": 312,
     "metadata": {},
     "output_type": "execute_result"
    }
   ],
   "source": [
    "queens = result_df8[result_df8.Borough == 'QUEENS']\n",
    "\n",
    "queensnoise = queens.groupby(['Zip Code'])['Created_Date'].count()\n",
    "\n",
    "queensnoise = queensnoise.to_frame()\n",
    "\n",
    "queensnoise = queensnoise.reset_index()\n",
    "\n",
    "nonmajorqueens = result_df8.loc[queens['Zip Code'].unique(),'Nonmajor Crime']\n",
    "\n",
    "nonmajorqueens = nonmajorqueens.to_frame()\n",
    "\n",
    "nonmajorqueens = nonmajorqueens.reset_index()\n",
    "\n",
    "nonmajorqueens.columns = ['Zip Code', 'Nonmajor Crime']\n",
    "\n",
    "que = pd.merge(queensnoise,nonmajorqueens, on = 'Zip Code')\n",
    "\n",
    "que['Created_Date'].corr(que['Nonmajor Crime'])"
   ]
  },
  {
   "cell_type": "code",
   "execution_count": 314,
   "metadata": {
    "collapsed": false
   },
   "outputs": [
    {
     "data": {
      "text/plain": [
       "-0.2811725689969371"
      ]
     },
     "execution_count": 314,
     "metadata": {},
     "output_type": "execute_result"
    }
   ],
   "source": [
    "manhattan = result_df8[result_df8.Borough == 'MANHATTAN']\n",
    "\n",
    "mannoise = manhattan.groupby(['Zip Code'])['Created_Date'].count()\n",
    "\n",
    "mannoise = mannoise.to_frame()\n",
    "\n",
    "mannoise = mannoise.reset_index()\n",
    "\n",
    "nonmajorman = result_df8.loc[manhattan['Zip Code'].unique(),'Nonmajor Crime']\n",
    "\n",
    "nonmajorman = nonmajorman.to_frame()\n",
    "\n",
    "nonmajorman = nonmajorman.reset_index()\n",
    "\n",
    "nonmajorman.columns = ['Zip Code', 'Nonmajor Crime']\n",
    "\n",
    "man = pd.merge(mannoise,nonmajorman, on = 'Zip Code')\n",
    "\n",
    "man['Created_Date'].corr(man['Nonmajor Crime'])"
   ]
  },
  {
   "cell_type": "code",
   "execution_count": 338,
   "metadata": {
    "collapsed": false
   },
   "outputs": [
    {
     "data": {
      "text/plain": [
       "0.45300659131093574"
      ]
     },
     "execution_count": 338,
     "metadata": {},
     "output_type": "execute_result"
    }
   ],
   "source": [
    "bronx = result_df8[result_df8.Borough == 'BRONX']\n",
    "\n",
    "bronxnoise = bronx.groupby(['Zip Code'])['Created_Date'].count()\n",
    "\n",
    "bronxnoise = bronxnoise.to_frame()\n",
    "\n",
    "bronxnoise = bronxnoise.reset_index()\n",
    "\n",
    "\n",
    "nonmajorbro = bronx.loc[bronx['Zip Code'].unique(),'Nonmajor Crime']\n",
    "\n",
    "\n",
    "\n",
    "nonmajorbro = nonmajorbro.to_frame()\n",
    "\n",
    "nonmajorbro = nonmajorbro.reset_index()\n",
    "\n",
    "\n",
    "\n",
    "nonmajorbro.columns = ['Zip Code', 'Nonmajor Crime']\n",
    "\n",
    "\n",
    "\n",
    "bro = pd.merge(bronxnoise,nonmajorbro,on = 'Zip Code')\n",
    "\n",
    "bro['Created_Date'].corr(bro['Nonmajor Crime'])"
   ]
  },
  {
   "cell_type": "code",
   "execution_count": 336,
   "metadata": {
    "collapsed": false
   },
   "outputs": [
    {
     "data": {
      "text/plain": [
       "0.69206882608350062"
      ]
     },
     "execution_count": 336,
     "metadata": {},
     "output_type": "execute_result"
    }
   ],
   "source": [
    "staten = result_df8[result_df8.Borough == 'STATEN ISLAND']\n",
    "\n",
    "statennoise = staten.groupby(['Zip Code'])['Created_Date'].count()\n",
    "\n",
    "statennoise = statennoise.to_frame()\n",
    "\n",
    "statennoise = statennoise.reset_index()\n",
    "\n",
    "nonmajorstaten = result_df8.loc[staten['Zip Code'].unique(),'Nonmajor Crime']\n",
    "\n",
    "nonmajorstaten = nonmajorstaten.to_frame()\n",
    "\n",
    "nonmajorstaten = nonmajorstaten.reset_index()\n",
    "\n",
    "nonmajorstaten.columns = ['Zip Code', 'Nonmajor Crime']\n",
    "\n",
    "sta = pd.merge(statennoise,nonmajorstaten,on = 'Zip Code')\n",
    "\n",
    "sta['Created_Date'].corr(sta['Nonmajor Crime'])"
   ]
  },
  {
   "cell_type": "code",
   "execution_count": 334,
   "metadata": {
    "collapsed": false
   },
   "outputs": [
    {
     "data": {
      "text/plain": [
       "0.096724699541514164"
      ]
     },
     "execution_count": 334,
     "metadata": {},
     "output_type": "execute_result"
    }
   ],
   "source": [
    "brooklyn = result_df8[result_df8.Borough == 'BROOKLYN']\n",
    "\n",
    "brooklynnoise = brooklyn.groupby(['Zip Code'])['Created_Date'].count()\n",
    "\n",
    "brooklynnoise = brooklynnoise.to_frame()\n",
    "\n",
    "brooklynnoise = brooklynnoise.reset_index()\n",
    "\n",
    "\n",
    "povertybrooklyn = result_df8.loc[brooklyn['Zip Code'].unique(),'% Poverty Level']\n",
    "\n",
    "povertybrooklyn = povertybrooklyn.to_frame()\n",
    "\n",
    "\n",
    "povertybrooklyn = povertybrooklyn.reset_index()\n",
    "\n",
    "\n",
    "povertybrooklyn.columns = ['Zip Code', '% Poverty Level']\n",
    "\n",
    "\n",
    "brook = pd.merge(brooklynnoise,povertybrooklyn, on = 'Zip Code')\n",
    "\n",
    "brook['Created_Date'].corr(brook['% Poverty Level'])"
   ]
  },
  {
   "cell_type": "code",
   "execution_count": 333,
   "metadata": {
    "collapsed": false
   },
   "outputs": [
    {
     "data": {
      "text/plain": [
       "-0.20930150317153817"
      ]
     },
     "execution_count": 333,
     "metadata": {},
     "output_type": "execute_result"
    }
   ],
   "source": [
    "queens = result_df8[result_df8.Borough == 'QUEENS']\n",
    "\n",
    "queensnoise = queens.groupby(['Zip Code'])['Created_Date'].count()\n",
    "\n",
    "queensnoise = queensnoise.to_frame()\n",
    "\n",
    "queensnoise = queensnoise.reset_index()\n",
    "\n",
    "povertyqueens = result_df8.loc[queens['Zip Code'].unique(),'% Poverty Level']\n",
    "\n",
    "povertyqueens = povertyqueens.to_frame()\n",
    "\n",
    "povertyqueens = povertyqueens.reset_index()\n",
    "\n",
    "povertyqueens.columns = ['Zip Code', '% Poverty Level']\n",
    "\n",
    "que = pd.merge(queensnoise,povertyqueens, on = 'Zip Code')\n",
    "\n",
    "que['Created_Date'].corr(que['% Poverty Level'])"
   ]
  },
  {
   "cell_type": "code",
   "execution_count": 346,
   "metadata": {
    "collapsed": false
   },
   "outputs": [
    {
     "data": {
      "text/plain": [
       "-0.15891551036030188"
      ]
     },
     "execution_count": 346,
     "metadata": {},
     "output_type": "execute_result"
    }
   ],
   "source": [
    "manhattan = result_df8[result_df8.Borough == 'MANHATTAN']\n",
    "\n",
    "mannoise = manhattan.groupby(['Zip Code'])['Created_Date'].count()\n",
    "\n",
    "mannoise = mannoise.to_frame()\n",
    "\n",
    "mannoise = mannoise.reset_index()\n",
    "\n",
    "povertyman = result_df8.loc[manhattan['Zip Code'].unique(),'% Poverty Level']\n",
    "\n",
    "povertyman = povertyman.to_frame()\n",
    "\n",
    "povertyman = povertyman.reset_index()\n",
    "\n",
    "povertyman.columns = ['Zip Code', '% Poverty Level']\n",
    "\n",
    "man = pd.merge(mannoise,povertyman, on = 'Zip Code')\n",
    "\n",
    "man['Created_Date'].corr(man['% Poverty Level'])"
   ]
  },
  {
   "cell_type": "code",
   "execution_count": 345,
   "metadata": {
    "collapsed": false
   },
   "outputs": [
    {
     "data": {
      "text/plain": [
       "0.19568759954111087"
      ]
     },
     "execution_count": 345,
     "metadata": {},
     "output_type": "execute_result"
    }
   ],
   "source": [
    "bronx = result_df8[result_df8.Borough == 'BRONX']\n",
    "\n",
    "bronxnoise = bronx.groupby(['Zip Code'])['Created_Date'].count()\n",
    "\n",
    "bronxnoise = bronxnoise.to_frame()\n",
    "\n",
    "bronxnoise = bronxnoise.reset_index()\n",
    "\n",
    "povertybro = result_df8.loc[bronx['Zip Code'].unique(),'% Poverty Level']\n",
    "\n",
    "\n",
    "\n",
    "povertybro = povertybro.to_frame()\n",
    "\n",
    "povertybro = povertybro.reset_index()\n",
    "\n",
    "\n",
    "\n",
    "povertybro.columns = ['Zip Code', '% Poverty Level']\n",
    "\n",
    "\n",
    "\n",
    "bro = pd.merge(bronxnoise,povertybro,on = 'Zip Code')\n",
    "\n",
    "bro['Created_Date'].corr(bro['% Poverty Level'])"
   ]
  },
  {
   "cell_type": "code",
   "execution_count": 349,
   "metadata": {
    "collapsed": false
   },
   "outputs": [
    {
     "data": {
      "text/plain": [
       "0.43566130850485063"
      ]
     },
     "execution_count": 349,
     "metadata": {},
     "output_type": "execute_result"
    }
   ],
   "source": [
    "staten = result_df8[result_df8.Borough == 'STATEN ISLAND']\n",
    "\n",
    "statennoise = staten.groupby(['Zip Code'])['Created_Date'].count()\n",
    "\n",
    "statennoise = statennoise.to_frame()\n",
    "\n",
    "statennoise = statennoise.reset_index()\n",
    "\n",
    "povertystaten = result_df8.loc[staten['Zip Code'].unique(),'% Poverty Level']\n",
    "\n",
    "povertystaten = povertystaten.to_frame()\n",
    "\n",
    "povertystaten = povertystaten.reset_index()\n",
    "\n",
    "povertystaten.columns = ['Zip Code', '% Poverty Level']\n",
    "\n",
    "sta = pd.merge(statennoise,povertystaten,on = 'Zip Code')\n",
    "\n",
    "sta['Created_Date'].corr(sta['% Poverty Level'])"
   ]
  },
  {
   "cell_type": "code",
   "execution_count": 115,
   "metadata": {
    "collapsed": false
   },
   "outputs": [],
   "source": [
    "vio_bin1 = result_df8.loc[result_df8['Violence Binning'] == 'VC Low Outliers','Violence Binning']\n",
    "vio_bin2 = result_df8.loc[result_df8['Violence Binning'] == 'VC Lower than IQR','Violence Binning']\n",
    "vio_bin3 = result_df8.loc[result_df8['Violence Binning'] == 'VC Within Lower IQR','Violence Binning']\n",
    "vio_bin4 = result_df8.loc[result_df8['Violence Binning'] == 'VC Within Higher IQR','Violence Binning']\n",
    "vio_bin5 = result_df8.loc[result_df8['Violence Binning'] == 'VC Higher than IQR','Violence Binning']\n",
    "vio_bin6 = result_df8.loc[result_df8['Violence Binning'] == 'VC High Outliers','Violence Binning']"
   ]
  },
  {
   "cell_type": "code",
   "execution_count": 116,
   "metadata": {
    "collapsed": false
   },
   "outputs": [],
   "source": [
    "vio_array = [len(vio_bin1),len(vio_bin2),len(vio_bin3),len(vio_bin4),len(vio_bin5),len(vio_bin6)]"
   ]
  },
  {
   "cell_type": "code",
   "execution_count": 117,
   "metadata": {
    "collapsed": false
   },
   "outputs": [
    {
     "data": {
      "text/plain": [
       "[0, 300762, 283377, 289239, 236629, 40571]"
      ]
     },
     "execution_count": 117,
     "metadata": {},
     "output_type": "execute_result"
    }
   ],
   "source": [
    "vio_array"
   ]
  },
  {
   "cell_type": "code",
   "execution_count": 3,
   "metadata": {
    "collapsed": true
   },
   "outputs": [],
   "source": [
    "neighborhood = pd.read_csv( \"/Users/YuchenZheng/Desktop/Data Science/Data Mining/final project/revised_result_df.csv\",sep = '\\t')"
   ]
  },
  {
   "cell_type": "code",
   "execution_count": 4,
   "metadata": {
    "collapsed": true
   },
   "outputs": [],
   "source": [
    "neighborzip = pd.read_csv( \"/Users/YuchenZheng/Desktop/Data Science/Data Mining/final project/zipcodes.tsv\",sep = '\\t')"
   ]
  },
  {
   "cell_type": "code",
   "execution_count": 5,
   "metadata": {
    "collapsed": false
   },
   "outputs": [],
   "source": [
    "neighborzip.columns = ['Borough', 'Neighborhood', 'Zip Code']"
   ]
  },
  {
   "cell_type": "code",
   "execution_count": 6,
   "metadata": {
    "collapsed": false
   },
   "outputs": [
    {
     "data": {
      "text/plain": [
       "(1539582, 17)"
      ]
     },
     "execution_count": 6,
     "metadata": {},
     "output_type": "execute_result"
    }
   ],
   "source": [
    "neighborhood.shape"
   ]
  },
  {
   "cell_type": "code",
   "execution_count": 7,
   "metadata": {
    "collapsed": false
   },
   "outputs": [],
   "source": [
    "neighborzip = neighborzip.drop(['Borough'],1)"
   ]
  },
  {
   "cell_type": "code",
   "execution_count": 8,
   "metadata": {
    "collapsed": true
   },
   "outputs": [],
   "source": [
    "neighbor = pd.merge(neighborhood, neighborzip, how='left', on=['Zip Code'])"
   ]
  },
  {
   "cell_type": "code",
   "execution_count": 9,
   "metadata": {
    "collapsed": false
   },
   "outputs": [
    {
     "data": {
      "text/plain": [
       "(1539582, 18)"
      ]
     },
     "execution_count": 9,
     "metadata": {},
     "output_type": "execute_result"
    }
   ],
   "source": [
    "neighbor.shape"
   ]
  },
  {
   "cell_type": "code",
   "execution_count": 10,
   "metadata": {
    "collapsed": false
   },
   "outputs": [],
   "source": [
    "neighbor = neighbor.drop(['Unnamed: 0'], 1)"
   ]
  },
  {
   "cell_type": "code",
   "execution_count": 11,
   "metadata": {
    "collapsed": true
   },
   "outputs": [],
   "source": [
    "cols = neighbor.columns.tolist()"
   ]
  },
  {
   "cell_type": "code",
   "execution_count": 12,
   "metadata": {
    "collapsed": true
   },
   "outputs": [],
   "source": [
    "cols = cols[-1:] + cols[:-1]"
   ]
  },
  {
   "cell_type": "code",
   "execution_count": 13,
   "metadata": {
    "collapsed": false
   },
   "outputs": [],
   "source": [
    "neighbor = neighbor[cols]"
   ]
  },
  {
   "cell_type": "code",
   "execution_count": 14,
   "metadata": {
    "collapsed": false
   },
   "outputs": [
    {
     "data": {
      "text/plain": [
       "array(['BROOKLYN', 'QUEENS', 'MANHATTAN', 'BRONX', 'STATEN ISLAND',\n",
       "       'Unspecified'], dtype=object)"
      ]
     },
     "execution_count": 14,
     "metadata": {},
     "output_type": "execute_result"
    }
   ],
   "source": [
    "neighbor.Borough.unique()"
   ]
  },
  {
   "cell_type": "code",
   "execution_count": 42,
   "metadata": {
    "collapsed": false
   },
   "outputs": [],
   "source": [
    "brooklyn = neighbor[neighbor.Borough == 'BROOKLYN']"
   ]
  },
  {
   "cell_type": "code",
   "execution_count": 43,
   "metadata": {
    "collapsed": true
   },
   "outputs": [],
   "source": [
    "brooklyn = brooklyn.reset_index()"
   ]
  },
  {
   "cell_type": "code",
   "execution_count": 49,
   "metadata": {
    "collapsed": false
   },
   "outputs": [],
   "source": [
    "brooklyn = brooklyn.drop(['index'],1)"
   ]
  },
  {
   "cell_type": "code",
   "execution_count": 48,
   "metadata": {
    "collapsed": false
   },
   "outputs": [
    {
     "data": {
      "text/plain": [
       "Index(['index', 'Neighborhood', 'Created_Date', 'Complaint Type', 'Descriptor',\n",
       "       'Location Type', 'Zip Code', 'City', 'Borough', 'Precinct',\n",
       "       'Population', '% Poverty Level', 'Year', 'Violence Binning',\n",
       "       'Misd Binning', 'Major Binning', 'Nonmajor Binning', 'Noise Binning'],\n",
       "      dtype='object')"
      ]
     },
     "execution_count": 48,
     "metadata": {},
     "output_type": "execute_result"
    }
   ],
   "source": [
    "brooklyn.columns"
   ]
  },
  {
   "cell_type": "code",
   "execution_count": 51,
   "metadata": {
    "collapsed": false
   },
   "outputs": [],
   "source": [
    "brooklyn.to_csv(\"brooklyn.csv\",sep = '\\t')"
   ]
  },
  {
   "cell_type": "code",
   "execution_count": 52,
   "metadata": {
    "collapsed": true
   },
   "outputs": [],
   "source": [
    "queens = neighbor[neighbor.Borough == 'QUEENS']"
   ]
  },
  {
   "cell_type": "code",
   "execution_count": 53,
   "metadata": {
    "collapsed": true
   },
   "outputs": [],
   "source": [
    "queens = queens.reset_index()"
   ]
  },
  {
   "cell_type": "code",
   "execution_count": 54,
   "metadata": {
    "collapsed": true
   },
   "outputs": [],
   "source": [
    "queens = queens.drop(['index'],1)"
   ]
  },
  {
   "cell_type": "code",
   "execution_count": 58,
   "metadata": {
    "collapsed": false
   },
   "outputs": [],
   "source": [
    "queens.to_csv('queens.csv',sep = '\\t')"
   ]
  },
  {
   "cell_type": "code",
   "execution_count": 62,
   "metadata": {
    "collapsed": true
   },
   "outputs": [],
   "source": [
    "manhattan = neighbor[neighbor.Borough == 'MANHATTAN']"
   ]
  },
  {
   "cell_type": "code",
   "execution_count": 63,
   "metadata": {
    "collapsed": true
   },
   "outputs": [],
   "source": [
    "manhattan = manhattan.reset_index()"
   ]
  },
  {
   "cell_type": "code",
   "execution_count": 64,
   "metadata": {
    "collapsed": true
   },
   "outputs": [],
   "source": [
    "manhattan = manhattan.drop(['index'],1)"
   ]
  },
  {
   "cell_type": "code",
   "execution_count": 67,
   "metadata": {
    "collapsed": false
   },
   "outputs": [],
   "source": [
    "manhattan.to_csv('manhattan.csv',sep = '\\t')"
   ]
  },
  {
   "cell_type": "code",
   "execution_count": 68,
   "metadata": {
    "collapsed": true
   },
   "outputs": [],
   "source": [
    "bronx = neighbor[neighbor.Borough == 'BRONX']"
   ]
  },
  {
   "cell_type": "code",
   "execution_count": 69,
   "metadata": {
    "collapsed": true
   },
   "outputs": [],
   "source": [
    "bronx = bronx.reset_index()"
   ]
  },
  {
   "cell_type": "code",
   "execution_count": 70,
   "metadata": {
    "collapsed": true
   },
   "outputs": [],
   "source": [
    "bronx = bronx.drop(['index'],1)"
   ]
  },
  {
   "cell_type": "code",
   "execution_count": 71,
   "metadata": {
    "collapsed": true
   },
   "outputs": [],
   "source": [
    "bronx.to_csv('bronx.csv',sep = '\\t')"
   ]
  },
  {
   "cell_type": "code",
   "execution_count": 74,
   "metadata": {
    "collapsed": true
   },
   "outputs": [],
   "source": [
    "staten = neighbor[neighbor.Borough == 'STATEN ISLAND']"
   ]
  },
  {
   "cell_type": "code",
   "execution_count": 79,
   "metadata": {
    "collapsed": false
   },
   "outputs": [],
   "source": [
    "staten = staten.reset_index()"
   ]
  },
  {
   "cell_type": "code",
   "execution_count": 80,
   "metadata": {
    "collapsed": true
   },
   "outputs": [],
   "source": [
    "staten = staten.drop(['index'],1)"
   ]
  },
  {
   "cell_type": "code",
   "execution_count": 81,
   "metadata": {
    "collapsed": true
   },
   "outputs": [],
   "source": [
    "staten.to_csv('staten.csv',sep = '\\t')"
   ]
  },
  {
   "cell_type": "code",
   "execution_count": 16,
   "metadata": {
    "collapsed": true
   },
   "outputs": [],
   "source": [
    "new = pd.read_csv( \"/Users/YuchenZheng/Desktop/Data Science/Data Mining/final project/povertylevel.csv\",sep = '\\t')"
   ]
  },
  {
   "cell_type": "code",
   "execution_count": 17,
   "metadata": {
    "collapsed": false
   },
   "outputs": [
    {
     "data": {
      "text/plain": [
       "Index(['Unnamed: 0', 'Zip Code', 'Poverty Level'], dtype='object')"
      ]
     },
     "execution_count": 17,
     "metadata": {},
     "output_type": "execute_result"
    }
   ],
   "source": [
    "new.columns"
   ]
  },
  {
   "cell_type": "code",
   "execution_count": 19,
   "metadata": {
    "collapsed": false
   },
   "outputs": [],
   "source": [
    "new = new.drop(['Unnamed: 0'], 1)"
   ]
  },
  {
   "cell_type": "code",
   "execution_count": 20,
   "metadata": {
    "collapsed": true
   },
   "outputs": [],
   "source": [
    "def newbinning(column):\n",
    "    median = column.median()\n",
    "    bins = [-999999, median, 999999]\n",
    "    bin_names = ['Poverty Level Lower than Median', 'Poverty Level Higher than Median']\n",
    "    result_dfs = pd.cut(column, bins, labels=bin_names)\n",
    "    return(result_dfs)"
   ]
  },
  {
   "cell_type": "code",
   "execution_count": 23,
   "metadata": {
    "collapsed": false
   },
   "outputs": [],
   "source": [
    "new.loc[:,['Poverty Level']] = newbinning(new['Poverty Level'])"
   ]
  },
  {
   "cell_type": "code",
   "execution_count": 25,
   "metadata": {
    "collapsed": false
   },
   "outputs": [],
   "source": [
    "newneighbor = neighbor.drop(['% Poverty Level'],1)"
   ]
  },
  {
   "cell_type": "code",
   "execution_count": 26,
   "metadata": {
    "collapsed": true
   },
   "outputs": [],
   "source": [
    "newfinal = pd.merge(newneighbor, new, how='left', on=['Zip Code'])"
   ]
  },
  {
   "cell_type": "code",
   "execution_count": 28,
   "metadata": {
    "collapsed": false
   },
   "outputs": [],
   "source": [
    "newfinal.to_csv('newfinal.csv', sep = '\\t')"
   ]
  },
  {
   "cell_type": "code",
   "execution_count": null,
   "metadata": {
    "collapsed": true
   },
   "outputs": [],
   "source": []
  }
 ],
 "metadata": {
  "anaconda-cloud": {},
  "kernelspec": {
   "display_name": "Python [conda root]",
   "language": "python",
   "name": "conda-root-py"
  },
  "language_info": {
   "codemirror_mode": {
    "name": "ipython",
    "version": 3
   },
   "file_extension": ".py",
   "mimetype": "text/x-python",
   "name": "python",
   "nbconvert_exporter": "python",
   "pygments_lexer": "ipython3",
   "version": "3.5.2"
  }
 },
 "nbformat": 4,
 "nbformat_minor": 1
}
