{
 "cells": [
  {
   "cell_type": "code",
   "execution_count": 1,
   "metadata": {
    "collapsed": false
   },
   "outputs": [
    {
     "name": "stdout",
     "output_type": "stream",
     "text": [
      "Populating the interactive namespace from numpy and matplotlib\n"
     ]
    }
   ],
   "source": [
    "from numpy import linspace, zeros, cumsum, sqrt, ones, where, mean, std, unique, correlate, corrcoef\n",
    "import matplotlib.pyplot as plt\n",
    "import numpy as np\n",
    "from scipy.stats import t\n",
    "import csv\n",
    "%pylab inline"
   ]
  },
  {
   "cell_type": "code",
   "execution_count": 2,
   "metadata": {
    "collapsed": true
   },
   "outputs": [],
   "source": [
    "def readLines(data_file):\n",
    "    r = csv.reader(open(data_file, \"rt\", newline=''), dialect=\"excel\")\n",
    "    return [l for l in r]"
   ]
  },
  {
   "cell_type": "markdown",
   "metadata": {},
   "source": [
    "Couple notes: To run this code, change the directory to one you use. Second, the first \"filename\" is the noise complaint data, which you should have. The other files are the crime data, which I should have attached in the email this came in."
   ]
  },
  {
   "cell_type": "code",
   "execution_count": 3,
   "metadata": {
    "collapsed": false
   },
   "outputs": [],
   "source": [
    "directory = \"e:/Franco/Documents/Schoolwork/College/Masters/CSC440/FinalProjectData/\"\n",
    "\n",
    "filename = \"noise_complaint_data_2010-2015.csv\"\n",
    "\n",
    "noise_data = readLines(directory+filename)\n"
   ]
  },
  {
   "cell_type": "code",
   "execution_count": 84,
   "metadata": {
    "collapsed": false
   },
   "outputs": [],
   "source": [
    "directory2 = directory+'historical_citywide_crime_complaint_data_by_precinct_2000_2015/'\n",
    "file_misd = \"misdemeanor_offenses_by_precinct_2000_2015.csv\"\n",
    "file_major_fel = \"seven_major_felony_offenses_2000_2015.csv\"\n",
    "file_nonmajor_fel = \"non_seven_major_felony-offenses_by_precinct_2000_2015.csv\"\n",
    "file_violation = \"violation_offenses_by_precinct_2000_2015.csv\"\n",
    "\n",
    "misd_data = readLines(directory2+file_misd)\n",
    "major_fels = readLines(directory2+file_major_fel)\n",
    "nonmajor_fels = readLines(directory2+file_nonmajor_fel)\n",
    "violat_data = readLines(directory2+file_violation)"
   ]
  },
  {
   "cell_type": "markdown",
   "metadata": {},
   "source": [
    "The following code preprocesses the crime data."
   ]
  },
  {
   "cell_type": "code",
   "execution_count": 85,
   "metadata": {
    "collapsed": false
   },
   "outputs": [
    {
     "data": {
      "text/plain": [
       "['PCT',\n",
       " 'CRIME',\n",
       " '2000',\n",
       " '2001',\n",
       " '2002',\n",
       " '2003',\n",
       " '2004',\n",
       " '2005',\n",
       " '2006',\n",
       " '2007',\n",
       " '2008',\n",
       " '2009',\n",
       " '2010',\n",
       " '2011',\n",
       " '2012',\n",
       " '2013',\n",
       " '2014',\n",
       " '2015']"
      ]
     },
     "execution_count": 85,
     "metadata": {},
     "output_type": "execute_result"
    }
   ],
   "source": [
    "misd_data.pop(0)\n",
    "misd_data.pop(0)\n",
    "misd_atts = misd_data[0][:]\n",
    "misd_data.pop(0)\n",
    "\n",
    "major_fels.pop(0)\n",
    "major_fels.pop(0)\n",
    "major_fels_atts = major_fels[0][:]\n",
    "major_fels.pop(0)\n",
    "\n",
    "nonmajor_fels.pop(0)\n",
    "nonmajor_fels.pop(0)\n",
    "nonmajor_fels_atts = nonmajor_fels[0][:]\n",
    "nonmajor_fels.pop(0)\n",
    "\n",
    "violat_data.pop(0)\n",
    "violat_data.pop(0)\n",
    "violat_atts = violat_data[0][:]\n",
    "violat_data.pop(0)"
   ]
  },
  {
   "cell_type": "code",
   "execution_count": 86,
   "metadata": {
    "collapsed": false
   },
   "outputs": [],
   "source": [
    "num_misd = 18\n",
    "\n",
    "for i in range(0,len(misd_data)):\n",
    "    precinct = int(i/num_misd)*num_misd\n",
    "    misd_data[i][0] = misd_data[precinct][0]\n",
    "for i in range(0,len(misd_data)-1386):\n",
    "    misd_data.pop()\n",
    "    \n",
    "num_major_fels = 8\n",
    "for i in range(0,len(major_fels)):\n",
    "    precinct = int(i/num_major_fels)*num_major_fels\n",
    "    major_fels[i][0] = major_fels[precinct][0]\n",
    "for i in range(0,len(major_fels)-616):\n",
    "    major_fels.pop()\n",
    "    \n",
    "num_nonmajor_fels = 9\n",
    "for i in range(0,len(nonmajor_fels)):\n",
    "    precinct = int(i/num_nonmajor_fels)*num_nonmajor_fels\n",
    "    nonmajor_fels[i][0] = nonmajor_fels[precinct][0]\n",
    "for i in range(0,len(nonmajor_fels)-693):\n",
    "    nonmajor_fels.pop()\n",
    "    \n",
    "num_violat_data = 3\n",
    "for i in range(0,len(violat_data)):\n",
    "    precinct = int(i/num_violat_data)*num_violat_data\n",
    "    violat_data[i][0] = violat_data[precinct][0]\n",
    "for i in range(0,len(violat_data)-231):\n",
    "    violat_data.pop()"
   ]
  },
  {
   "cell_type": "code",
   "execution_count": 246,
   "metadata": {
    "collapsed": false
   },
   "outputs": [],
   "source": [
    "def transpose_matrix(matrix):\n",
    "    outmatrix = zeros([len(matrix[0]),len(matrix)])\n",
    "    for x in range(0,len(matrix[0])):\n",
    "        for y in range(0,len(matrix)):\n",
    "            outmatrix[x][y] = matrix[y][x]\n",
    "    return outmatrix\n",
    "    #height = len(matrix)\n",
    "    #width = len(matrix[0])\n",
    "    #return [[ matrix[row][col] for col in range(0,width) ] for row in range(0,height) ]"
   ]
  },
  {
   "cell_type": "code",
   "execution_count": 274,
   "metadata": {
    "collapsed": false
   },
   "outputs": [],
   "source": [
    "def nominalize_data(prefix,matrix,years):\n",
    "    outmatrix = [[None]*len(matrix[0])]*len(years)\n",
    "    median1 = zeros(len(years))\n",
    "    std1 = zeros(len(years))\n",
    "    for y in years:\n",
    "        y1 = y-min(years)\n",
    "        median1[y1] = median(matrix[years][:])\n",
    "        std1[y1] = np.std(matrix[years][:])\n",
    "        for x in range(0,len(matrix[y])):\n",
    "            if matrix[y][x] > median1[y1]+3*std1[y1]:\n",
    "                outmatrix[y1][x] = prefix+\": Substantially Higher\"\n",
    "            elif matrix[y][x] > median1[y1]+2*std1[y1]:\n",
    "                outmatrix[y1][x] = prefix+\": Much Higher\"\n",
    "            elif matrix[y][x] > median1[y1]+std1[y1]:\n",
    "                outmatrix[y1][x] = prefix+\": Slightly Higher\"\n",
    "            if matrix[y][x] < median1[y1]-3*std1[y1]:\n",
    "                outmatrix[y1][x] = prefix+\": Substantially Lower\"\n",
    "            elif matrix[y][x] < median1[y1]-2*std1[y1]:\n",
    "                outmatrix[y1][x] = prefix+\": Much Lower\"\n",
    "            elif matrix[y][x] < median1[y1]-std1[y1]:\n",
    "                outmatrix[y1][x] = prefix+\": Slightly Lower\"\n",
    "            elif matrix[y][x] >= median1[y1]-std1[y1] and matrix[y][x] <= median1[y1]+std1[y1]:\n",
    "                outmatrix[y1][x] = prefix+\": Approx. Median\"\n",
    "    print(median1,std1)\n",
    "    return outmatrix"
   ]
  },
  {
   "cell_type": "markdown",
   "metadata": {},
   "source": [
    "##NOTE: I only discretized the data from 2013-2015.\n",
    "###This is because Precinct 121 only has crime data from 2013 onwards. If you know of a way to get around this, tell me."
   ]
  },
  {
   "cell_type": "markdown",
   "metadata": {},
   "source": [
    "##Discretize Major Felonies Data"
   ]
  },
  {
   "cell_type": "code",
   "execution_count": 275,
   "metadata": {
    "collapsed": false
   },
   "outputs": [],
   "source": [
    "years = 16\n",
    "num_precincts = int(len(major_fels)/num_major_fels)\n",
    "sum_major_fels = zeros([num_precincts,years])\n",
    "for i in range(0,num_precincts):\n",
    "    prec_index = (i+1)*num_major_fels-1\n",
    "    for j in range(years-3,years):\n",
    "        #print(misd_data[prec_index][j+2])\n",
    "        sum_major_fels[i][j] = int(major_fels[prec_index][j+2])\n",
    "sum_major_fels1 = transpose_matrix(sum_major_fels)\n",
    "years = [13,14,15]\n",
    "prefix = \"MAJOR FELONIES\"\n",
    "nominal_major_fels = nominalize_data(prefix,sum_major_fels1,years)"
   ]
  },
  {
   "cell_type": "markdown",
   "metadata": {},
   "source": [
    "##Discretize Nonmajor Felonies Data"
   ]
  },
  {
   "cell_type": "code",
   "execution_count": 282,
   "metadata": {
    "collapsed": false
   },
   "outputs": [
    {
     "name": "stdout",
     "output_type": "stream",
     "text": [
      "[ 664.  664.  664.] [ 413.92857237  413.92857237  413.92857237]\n"
     ]
    }
   ],
   "source": [
    "years = 16\n",
    "num_precincts = int(len(nonmajor_fels)/num_nonmajor_fels)\n",
    "sum_nonmajor_fels = zeros([num_precincts,years])\n",
    "for i in range(0,num_precincts):\n",
    "    prec_index = (i+1)*num_nonmajor_fels-1\n",
    "    for j in range(years-3,years):\n",
    "        #print(misd_data[prec_index][j+2])\n",
    "        sum_nonmajor_fels[i][j] = int(nonmajor_fels[prec_index][j+2])\n",
    "sum_nonmajor_fels1 = transpose_matrix(sum_nonmajor_fels)\n",
    "years = [13,14,15]\n",
    "prefix = \"NONMAJOR FELONIES\"\n",
    "nominal_nonmajor_fels = nominalize_data(prefix,sum_nonmajor_fels1,years)"
   ]
  },
  {
   "cell_type": "markdown",
   "metadata": {},
   "source": [
    "##Discretize Violation Offenses Data"
   ]
  },
  {
   "cell_type": "code",
   "execution_count": 291,
   "metadata": {
    "collapsed": false
   },
   "outputs": [
    {
     "name": "stdout",
     "output_type": "stream",
     "text": [
      "[ 784.  784.  784.] [ 363.4916373  363.4916373  363.4916373]\n"
     ]
    }
   ],
   "source": [
    "years = 16\n",
    "num_precincts = int(len(violat_data)/num_violat_data)\n",
    "sum_violat = zeros([num_precincts,years])\n",
    "for i in range(0,num_precincts):\n",
    "    prec_index = (i+1)*num_violat_data-1\n",
    "    for j in range(years-3,years):\n",
    "        #print(misd_data[prec_index][j+2])\n",
    "        sum_violat[i][j] = int(violat_data[prec_index][j+2])\n",
    "sum_violat1 = transpose_matrix(sum_violat)\n",
    "years = [13,14,15]\n",
    "prefix = \"VIOLATION OFFENSES\"\n",
    "nominal_violat = nominalize_data(prefix,sum_violat1,years)"
   ]
  },
  {
   "cell_type": "markdown",
   "metadata": {},
   "source": [
    "##Discretize Misdemeanor Data"
   ]
  },
  {
   "cell_type": "code",
   "execution_count": 293,
   "metadata": {
    "collapsed": false
   },
   "outputs": [
    {
     "name": "stdout",
     "output_type": "stream",
     "text": [
      "[ 4089.  4089.  4089.] [ 2117.61356848  2117.61356848  2117.61356848]\n"
     ]
    }
   ],
   "source": [
    "years = 16\n",
    "num_precincts = int(len(misd_data)/num_misd)\n",
    "sum_misd = zeros([num_precincts,years])\n",
    "for i in range(0,num_precincts):\n",
    "    prec_index = (i+1)*num_misd-1\n",
    "    for j in range(years-3,years):\n",
    "        #print(misd_data[prec_index][j+2])\n",
    "        sum_misd[i][j] = int(misd_data[prec_index][j+2])\n",
    "sum_misd1 = transpose_matrix(sum_misd)\n",
    "years = [13,14,15]\n",
    "prefix = \"MISDEMEANOR\"\n",
    "nominal_misd = nominalize_data(prefix,sum_misd1,years)"
   ]
  },
  {
   "cell_type": "markdown",
   "metadata": {},
   "source": [
    "##FORMAT OF THE FILES\n",
    "###Rows are years (2013, 2014, 2015)\n",
    "###Columns are precincts"
   ]
  },
  {
   "cell_type": "code",
   "execution_count": 298,
   "metadata": {
    "collapsed": false
   },
   "outputs": [],
   "source": [
    "with open('nom_misd.csv', 'w', newline='\\n') as csvfile:\n",
    "    filewriter = csv.writer(csvfile)\n",
    "    filewriter.writerows(nominal_misd)\n",
    "with open('nom_major_fels.csv', 'w', newline='\\n') as csvfile:\n",
    "    filewriter = csv.writer(csvfile)\n",
    "    filewriter.writerows(nominal_major_fels)\n",
    "with open('nom_nonmajor_fels.csv', 'w', newline='\\n') as csvfile:\n",
    "    filewriter = csv.writer(csvfile)\n",
    "    filewriter.writerows(nominal_nonmajor_fels)\n",
    "with open('nom_violat.csv', 'w', newline='\\n') as csvfile:\n",
    "    filewriter = csv.writer(csvfile)\n",
    "    filewriter.writerows(nominal_violat)"
   ]
  },
  {
   "cell_type": "code",
   "execution_count": 273,
   "metadata": {
    "collapsed": false
   },
   "outputs": [
    {
     "data": {
      "text/plain": [
       "616"
      ]
     },
     "execution_count": 273,
     "metadata": {},
     "output_type": "execute_result"
    }
   ],
   "source": [
    "len(major_fels)"
   ]
  },
  {
   "cell_type": "code",
   "execution_count": 247,
   "metadata": {
    "collapsed": false
   },
   "outputs": [],
   "source": [
    "sum_misd1 = transpose_matrix(sum_misd)"
   ]
  },
  {
   "cell_type": "code",
   "execution_count": 248,
   "metadata": {
    "collapsed": false
   },
   "outputs": [
    {
     "data": {
      "text/plain": [
       "array([  4503.,   3437.,   4035.,   2970.,   4290.,   3077.,   5801.,\n",
       "        10483.,   2075.,   5005.,   3527.,   2636.,    345.,   4930.,\n",
       "         3165.,   7000.,   2753.,   5074.,   4089.,   4753.,   4481.,\n",
       "         4480.,  10544.,   5482.,   6078.,   8795.,  10609.,   3580.,\n",
       "         7316.,   6019.,   6572.,   5348.,   2547.,   8143.,   4441.,\n",
       "         3355.,   3240.,   2763.,   2758.,   5928.,   3205.,   3019.,\n",
       "         5310.,   4441.,   3697.,   7877.,  12510.,   1845.,   5397.,\n",
       "         2783.,   6236.,   4808.,   5195.,   3771.,   2810.,   4857.,\n",
       "         2357.,   1494.,   3134.,   4131.,   6521.,   4989.,   4178.,\n",
       "         3906.,   3482.,   3594.,   5094.,   5142.,   1637.,   2574.,\n",
       "         5608.,   6188.,   5977.,   6462.,   2325.,   4406.,   1963.])"
      ]
     },
     "execution_count": 248,
     "metadata": {},
     "output_type": "execute_result"
    }
   ],
   "source": [
    "sum_misd1[13]"
   ]
  },
  {
   "cell_type": "code",
   "execution_count": 249,
   "metadata": {
    "collapsed": false
   },
   "outputs": [
    {
     "data": {
      "text/plain": [
       "array([[    0.,     0.,     0., ...,  4503.,  4043.,  3881.],\n",
       "       [    0.,     0.,     0., ...,  3437.,  3401.,  3339.],\n",
       "       [    0.,     0.,     0., ...,  4035.,  3718.,  3397.],\n",
       "       ..., \n",
       "       [    0.,     0.,     0., ...,  2325.,  5042.,  4414.],\n",
       "       [    0.,     0.,     0., ...,  4406.,  3353.,  2960.],\n",
       "       [    0.,     0.,     0., ...,  1963.,  1888.,  1721.]])"
      ]
     },
     "execution_count": 249,
     "metadata": {},
     "output_type": "execute_result"
    }
   ],
   "source": [
    "sum_misd"
   ]
  },
  {
   "cell_type": "code",
   "execution_count": 278,
   "metadata": {
    "collapsed": false
   },
   "outputs": [
    {
     "name": "stdout",
     "output_type": "stream",
     "text": [
      "[ 4089.  4089.  4089.] [ 2117.61356848  2117.61356848  2117.61356848]\n"
     ]
    }
   ],
   "source": []
  },
  {
   "cell_type": "code",
   "execution_count": null,
   "metadata": {
    "collapsed": true
   },
   "outputs": [],
   "source": []
  }
 ],
 "metadata": {
  "anaconda-cloud": {},
  "kernelspec": {
   "display_name": "Python [default]",
   "language": "python",
   "name": "python3"
  },
  "language_info": {
   "codemirror_mode": {
    "name": "ipython",
    "version": 3
   },
   "file_extension": ".py",
   "mimetype": "text/x-python",
   "name": "python",
   "nbconvert_exporter": "python",
   "pygments_lexer": "ipython3",
   "version": "3.5.2"
  }
 },
 "nbformat": 4,
 "nbformat_minor": 0
}
